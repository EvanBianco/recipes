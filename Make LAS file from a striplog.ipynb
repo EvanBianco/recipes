{
 "cells": [
  {
   "cell_type": "markdown",
   "metadata": {},
   "source": [
    "# Make LAS file from a striplog"
   ]
  },
  {
   "cell_type": "markdown",
   "metadata": {},
   "source": [
    "In this recipe we will show how to take a striplog, convert one or more it's `Legend` attributes into curve data, and then this curve data to a new LAS file (issue #71)."
   ]
  },
  {
   "cell_type": "markdown",
   "metadata": {},
   "source": [
    "First, import modules we might need"
   ]
  },
  {
   "cell_type": "code",
   "execution_count": 1,
   "metadata": {
    "collapsed": false
   },
   "outputs": [
    {
     "data": {
      "text/plain": [
       "'0.6.1'"
      ]
     },
     "execution_count": 1,
     "metadata": {},
     "output_type": "execute_result"
    }
   ],
   "source": [
    "import matplotlib.pyplot as plt\n",
    "% matplotlib inline\n",
    "\n",
    "import numpy as np\n",
    "\n",
    "import striplog\n",
    "striplog.__version__"
   ]
  },
  {
   "cell_type": "markdown",
   "metadata": {},
   "source": [
    "## Making a striplog"
   ]
  },
  {
   "cell_type": "code",
   "execution_count": 2,
   "metadata": {
    "collapsed": true
   },
   "outputs": [],
   "source": [
    "from striplog import Striplog, Legend\n",
    "imgfile = \"data/images/P-129_280_1935.png\""
   ]
  },
  {
   "cell_type": "code",
   "execution_count": 3,
   "metadata": {
    "collapsed": false
   },
   "outputs": [],
   "source": [
    "legend = Legend.default(name='nsdoe')"
   ]
  },
  {
   "cell_type": "code",
   "execution_count": 4,
   "metadata": {
    "collapsed": false
   },
   "outputs": [],
   "source": [
    "strip = Striplog.from_image(imgfile, 280, 1935, legend=legend)"
   ]
  },
  {
   "cell_type": "markdown",
   "metadata": {},
   "source": [
    "If we call the plot method on the striplog we get the whole striplog"
   ]
  },
  {
   "cell_type": "code",
   "execution_count": 5,
   "metadata": {
    "collapsed": false
   },
   "outputs": [
    {
     "data": {
      "image/png": "[encoded data removed]",
      "text/plain": [
       "<matplotlib.figure.Figure at 0x10be126a0>"
      ]
     },
     "metadata": {},
     "output_type": "display_data"
    }
   ],
   "source": [
    "strip.plot(legend, ladder=True)"
   ]
  },
  {
   "cell_type": "markdown",
   "metadata": {},
   "source": [
    "Convert the lithology component to log-like arrays called `liths`, and the width component to a log called `grainsize`."
   ]
  },
  {
   "cell_type": "code",
   "execution_count": 6,
   "metadata": {
    "collapsed": false
   },
   "outputs": [],
   "source": [
    "step = 1.0\n",
    "liths, lbasis, _ = strip.to_log(step=step, start=strip.start.middle, \n",
    "                     legend=legend, return_meta=True)\n",
    "grainsize = strip.to_log(basis=lbasis, legend=legend, legend_field='width')"
   ]
  },
  {
   "cell_type": "markdown",
   "metadata": {},
   "source": [
    "Check data type are `liths` and `grainsize`?"
   ]
  },
  {
   "cell_type": "code",
   "execution_count": 7,
   "metadata": {
    "collapsed": false
   },
   "outputs": [
    {
     "data": {
      "text/plain": [
       "numpy.ndarray"
      ]
     },
     "execution_count": 7,
     "metadata": {},
     "output_type": "execute_result"
    }
   ],
   "source": [
    "type(liths)"
   ]
  },
  {
   "cell_type": "markdown",
   "metadata": {},
   "source": [
    "They are `ndarrays`."
   ]
  },
  {
   "cell_type": "markdown",
   "metadata": {
    "collapsed": true
   },
   "source": [
    "## Create a well object to hold on to these new logs\n",
    "\n",
    "Striplog operations don't need to have an associated `well` object, however for log-like operations we'll need to use `welly`. \n",
    "\n",
    "To write our `liths` and `grainsize` logs to an LAS file, we need additional information about the well; details such as UWI, KB elevation, and so on. So let's create a `well` by starting with an LAS file with that has all of this information already."
   ]
  },
  {
   "cell_type": "code",
   "execution_count": 8,
   "metadata": {
    "collapsed": true
   },
   "outputs": [],
   "source": [
    "from welly import Well\n",
    "\n",
    "lasfile = 'data/las/P-129_out.LAS'  # existing LAS file to instantiate a well\n",
    "\n",
    "well = Well.from_las(lasfile)  # creates a well object"
   ]
  },
  {
   "cell_type": "markdown",
   "metadata": {},
   "source": [
    "well is now an object that contains only the curves from the `P-129_out.LAS`. In order to add data from our striplog , we need to convert `liths` and `grainsize`, to `Curve` objects."
   ]
  },
  {
   "cell_type": "code",
   "execution_count": 9,
   "metadata": {
    "collapsed": false
   },
   "outputs": [],
   "source": [
    "from welly import Curve"
   ]
  },
  {
   "cell_type": "markdown",
   "metadata": {},
   "source": [
    "We make a dictionary of parameters of things we want associated with the curve in the lasfile"
   ]
  },
  {
   "cell_type": "code",
   "execution_count": 11,
   "metadata": {
    "collapsed": false
   },
   "outputs": [],
   "source": [
    "litho_params = {'description': 'Peter Giles lithology',\n",
    "                'mnemonic':'Lith',\n",
    "                'start':lbasis[0], \n",
    "                'step':lbasis[1]-lbasis[0],\n",
    "               }\n",
    "\n",
    "grain_params = {'description': 'Peter Giles grainsize',\n",
    "                'mnemonic':'grsz',\n",
    "                'start':lbasis[0], \n",
    "                'step':lbasis[1]-lbasis[0],\n",
    "                }"
   ]
  },
  {
   "cell_type": "markdown",
   "metadata": {},
   "source": [
    "Pass the `ndarrays` and the parameters `dicts` into the `Curve` method"
   ]
  },
  {
   "cell_type": "code",
   "execution_count": 12,
   "metadata": {
    "collapsed": false
   },
   "outputs": [],
   "source": [
    "grainCurve = Curve(grainsize, grain_params)\n",
    "lithCurve = Curve(liths, litho_params)"
   ]
  },
  {
   "cell_type": "markdown",
   "metadata": {},
   "source": [
    "Add the new curves to the collection of curves that already exist in in `well.data` (another dictionary)"
   ]
  },
  {
   "cell_type": "code",
   "execution_count": 13,
   "metadata": {
    "collapsed": true
   },
   "outputs": [],
   "source": [
    "well.data['grsz'] = grainCurve\n",
    "well.data['lith'] = lithCurve"
   ]
  },
  {
   "cell_type": "markdown",
   "metadata": {},
   "source": [
    "We can change the step size of our new data from 1.0 m to 0.1524 m (standard)."
   ]
  },
  {
   "cell_type": "code",
   "execution_count": 14,
   "metadata": {
    "collapsed": false
   },
   "outputs": [
    {
     "data": {
      "text/html": [
       "<table><tr><th style=\"text-align:center;\" colspan=\"2\">Lith [None]</th></tr><tr><td style=\"text-align:center;\" colspan=\"2\">280.0000 : 1936.1308 : 0.1524</td></tr><tr><td><strong>description</strong></td><td>Peter Giles lithology</td></tr><tr><td><strong>code</strong></td><td>None</td></tr><tr><td><strong>date</strong></td><td>None</td></tr><tr><td><strong>service_company</strong></td><td>None</td></tr><tr><td><strong>run</strong></td><td>None</td></tr><tr><th style=\"border-top: 2px solid #000;\">Depth</th><th style=\"border-top: 2px solid #000;\">Value</th></tr><tr><td>280.0000</td><td>15.0000</td></tr><tr><td>280.1524</td><td>15.0000</td></tr><tr><td>280.3048</td><td>15.0000</td></tr><tr><td>⋮</td><td>⋮</td></tr><tr><td>1935.6736</td><td>nan</td></tr><tr><td>1935.8260</td><td>nan</td></tr><tr><td>1935.9784</td><td>nan</td></tr></table>"
      ],
      "text/plain": [
       "Curve([ 15.,  15.,  15., ...,  nan,  nan,  nan])"
      ]
     },
     "execution_count": 14,
     "metadata": {},
     "output_type": "execute_result"
    }
   ],
   "source": [
    "lithCurve = lithCurve.to_basis(step=0.1524)\n",
    "grainCurve = grainCurve.to_basis(step=0.1524)\n",
    "lithCurve"
   ]
  },
  {
   "cell_type": "markdown",
   "metadata": {},
   "source": [
    "A simple plot,"
   ]
  },
  {
   "cell_type": "code",
   "execution_count": 15,
   "metadata": {
    "collapsed": false
   },
   "outputs": [
    {
     "data": {
      "image/png": "[encoded data removed]",
      "text/plain": [
       "<matplotlib.figure.Figure at 0x119047e80>"
      ]
     },
     "metadata": {},
     "output_type": "display_data"
    }
   ],
   "source": [
    "tracks = ['lith','grsz','GR']\n",
    "well.plot(tracks=tracks)"
   ]
  },
  {
   "cell_type": "markdown",
   "metadata": {},
   "source": [
    "Finally, in order to write these three curves (`lith`,`grnsz`, and `GR`) using we can pass a list of the mnemonics we want in output file, to the `well.to_las()` method."
   ]
  },
  {
   "cell_type": "code",
   "execution_count": 16,
   "metadata": {
    "collapsed": true
   },
   "outputs": [],
   "source": [
    "keys = ['lith', 'grsz', 'GR']"
   ]
  },
  {
   "cell_type": "code",
   "execution_count": 17,
   "metadata": {
    "collapsed": false
   },
   "outputs": [],
   "source": [
    "well.to_las('data/las/P-140_GR_lith_grnsz.LAS', keys=keys)"
   ]
  },
  {
   "cell_type": "markdown",
   "metadata": {},
   "source": [
    "## Striplog descriptions and numeric log data in one LAS file"
   ]
  },
  {
   "cell_type": "markdown",
   "metadata": {},
   "source": [
    "Add the striplog to the well and export. This will put all the `striplog` stuff in the `~Other` section of the LAS file, whereas all the `Curve` data in the `~Ascii`\n",
    "section."
   ]
  },
  {
   "cell_type": "code",
   "execution_count": 18,
   "metadata": {
    "collapsed": true
   },
   "outputs": [],
   "source": [
    "well.data['strip'] = strip"
   ]
  },
  {
   "cell_type": "code",
   "execution_count": 19,
   "metadata": {
    "collapsed": true
   },
   "outputs": [],
   "source": [
    "keys = ['GR','strip']"
   ]
  },
  {
   "cell_type": "code",
   "execution_count": 20,
   "metadata": {
    "collapsed": false
   },
   "outputs": [],
   "source": [
    "well.to_las('data/las/P-140_GR_strip.LAS')"
   ]
  }
 ],
 "metadata": {
  "kernelspec": {
   "display_name": "Python 3",
   "language": "python",
   "name": "python3"
  },
  "language_info": {
   "codemirror_mode": {
    "name": "ipython",
    "version": 3
   },
   "file_extension": ".py",
   "mimetype": "text/x-python",
   "name": "python",
   "nbconvert_exporter": "python",
   "pygments_lexer": "ipython3",
   "version": "3.5.1"
  }
 },
 "nbformat": 4,
 "nbformat_minor": 0
}
