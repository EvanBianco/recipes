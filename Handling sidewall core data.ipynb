{
 "cells": [
  {
   "cell_type": "markdown",
   "metadata": {},
   "source": [
    "# Handling sidewall core data"
   ]
  },
  {
   "cell_type": "code",
   "execution_count": 1,
   "metadata": {
    "collapsed": true
   },
   "outputs": [],
   "source": [
    "from striplog import Striplog\n",
    "% matplotlib inline"
   ]
  },
  {
   "cell_type": "markdown",
   "metadata": {},
   "source": [
    "Some things really are point data. Sort of like a log, but irregular, more discrete. For instance we may have some porosity measurements of sidewall core plugs."
   ]
  },
  {
   "cell_type": "code",
   "execution_count": 2,
   "metadata": {
    "collapsed": true
   },
   "outputs": [],
   "source": [
    "data_csv = \"\"\"top, density, porosity, remarks\n",
    "1200, 2300, 6.4,\n",
    "1205, 2375, 7.3,\n",
    "1210, 2400, 8.2, broken sample\n",
    "1250, 2425, 9.2,\n",
    "1275, 2575, 4.3,\n",
    "1300, 2600, 2.2,\n",
    "\"\"\""
   ]
  },
  {
   "cell_type": "markdown",
   "metadata": {},
   "source": [
    "You must specify `points=True` otherwise Striplog will 'fill in' and create the bases for you, based on the next top."
   ]
  },
  {
   "cell_type": "code",
   "execution_count": 3,
   "metadata": {
    "collapsed": false
   },
   "outputs": [],
   "source": [
    "swc_porosity = Striplog.from_csv_text(data_csv, points=True)"
   ]
  },
  {
   "cell_type": "code",
   "execution_count": 4,
   "metadata": {
    "collapsed": false
   },
   "outputs": [
    {
     "data": {
      "text/plain": [
       "Striplog(6 Intervals, start=1300.0, stop=1200.0)"
      ]
     },
     "execution_count": 4,
     "metadata": {},
     "output_type": "execute_result"
    }
   ],
   "source": [
    "swc_porosity"
   ]
  },
  {
   "cell_type": "code",
   "execution_count": 5,
   "metadata": {
    "collapsed": false
   },
   "outputs": [
    {
     "data": {
      "text/html": [
       "<table><tr><td style=\"width:2em; background-color:#DDDDDD\" rowspan=\"5\"></td><td><strong>top</strong></td><td>1200.0</td></tr><tr><td><strong>primary</strong></td><td><table><tr><td><strong>porosity</strong></td><td>6.4</td></tr><tr><td><strong>density</strong></td><td>2300.0</td></tr><tr><td><strong>remarks</strong></td><td></td></tr></table></td></tr><tr><td><strong>summary</strong></td><td>0.00 m of 6.4, 2300.0, </td></tr><tr><td><strong>description</strong></td><td></td></tr><tr><td><strong>base</strong></td><td>1200.0</td></tr></table>"
      ],
      "text/plain": [
       "Interval({'base': Position({'middle': 1200.0, 'units': 'm'}), 'top': Position({'middle': 1200.0, 'units': 'm'}), 'components': [Component({'porosity': 6.4, 'density': 2300.0, 'remarks': ''})], 'description': ''})"
      ]
     },
     "execution_count": 5,
     "metadata": {},
     "output_type": "execute_result"
    }
   ],
   "source": [
    "swc_porosity[0]"
   ]
  },
  {
   "cell_type": "markdown",
   "metadata": {},
   "source": [
    "The way we distinguish this kind of data from other striplogs is the `points.order`"
   ]
  },
  {
   "cell_type": "code",
   "execution_count": 6,
   "metadata": {
    "collapsed": false
   },
   "outputs": [
    {
     "data": {
      "text/plain": [
       "'none'"
      ]
     },
     "execution_count": 6,
     "metadata": {},
     "output_type": "execute_result"
    }
   ],
   "source": [
    "swc_porosity.order"
   ]
  },
  {
   "cell_type": "markdown",
   "metadata": {},
   "source": [
    "When we pass this 'striplog' into `welly.plot()`, it gets treated as a set of points."
   ]
  },
  {
   "cell_type": "code",
   "execution_count": 7,
   "metadata": {
    "collapsed": false
   },
   "outputs": [
    {
     "data": {
      "image/png": "[encoded data removed]",
      "text/plain": [
       "<matplotlib.figure.Figure at 0x10f4da0b8>"
      ]
     },
     "metadata": {},
     "output_type": "display_data"
    }
   ],
   "source": [
    "swc_porosity.plot(field='porosity', aspect=4)"
   ]
  },
  {
   "cell_type": "code",
   "execution_count": null,
   "metadata": {
    "collapsed": true
   },
   "outputs": [],
   "source": []
  }
 ],
 "metadata": {
  "kernelspec": {
   "display_name": "Python 3",
   "language": "python",
   "name": "python3"
  },
  "language_info": {
   "codemirror_mode": {
    "name": "ipython",
    "version": 3
   },
   "file_extension": ".py",
   "mimetype": "text/x-python",
   "name": "python",
   "nbconvert_exporter": "python",
   "pygments_lexer": "ipython3",
   "version": "3.5.1"
  }
 },
 "nbformat": 4,
 "nbformat_minor": 0
}
