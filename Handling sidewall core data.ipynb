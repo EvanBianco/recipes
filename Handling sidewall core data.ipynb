{
 "cells": [
  {
   "cell_type": "markdown",
   "metadata": {},
   "source": [
    "# Handling sidwall core data"
   ]
  },
  {
   "cell_type": "markdown",
   "metadata": {},
   "source": [
    "This notebooks looks at the main `striplog` object. For the basic objects it depends on, see [Basic objects](./Basic_objects.ipynb).\n",
    "\n",
    "First, import anything we might need."
   ]
  },
  {
   "cell_type": "code",
   "execution_count": 1,
   "metadata": {
    "collapsed": false
   },
   "outputs": [
    {
     "data": {
      "text/plain": [
       "'0.7.0'"
      ]
     },
     "execution_count": 1,
     "metadata": {},
     "output_type": "execute_result"
    }
   ],
   "source": [
    "import matplotlib.pyplot as plt\n",
    "%matplotlib inline\n",
    "\n",
    "import numpy as np\n",
    "\n",
    "import striplog\n",
    "striplog.__version__"
   ]
  },
  {
   "cell_type": "code",
   "execution_count": 2,
   "metadata": {
    "collapsed": false
   },
   "outputs": [],
   "source": [
    "from striplog import Legend, Lexicon, Interval, Component"
   ]
  },
  {
   "cell_type": "code",
   "execution_count": 3,
   "metadata": {
    "collapsed": false
   },
   "outputs": [],
   "source": [
    "legend = Legend.builtin('NSDOE')\n",
    "lexicon = Lexicon.default()"
   ]
  },
  {
   "cell_type": "markdown",
   "metadata": {},
   "source": [
    "<hr />\n",
    "## Making a `striplog`"
   ]
  },
  {
   "cell_type": "code",
   "execution_count": 4,
   "metadata": {
    "collapsed": false
   },
   "outputs": [],
   "source": [
    "from striplog import Striplog\n",
    "imgfile = \"data/images/M-MG-70_14.3_135.9.png\""
   ]
  },
  {
   "cell_type": "code",
   "execution_count": 5,
   "metadata": {
    "collapsed": false
   },
   "outputs": [
    {
     "data": {
      "text/plain": [
       "Striplog(26 Intervals, start=14.3, stop=135.9)"
      ]
     },
     "execution_count": 5,
     "metadata": {},
     "output_type": "execute_result"
    }
   ],
   "source": [
    "strip = Striplog.from_image(imgfile, 14.3, 135.9, legend=legend)\n",
    "strip"
   ]
  },
  {
   "cell_type": "code",
   "execution_count": 6,
   "metadata": {
    "collapsed": false
   },
   "outputs": [
    {
     "data": {
      "image/png": "[encoded data removed]",
      "text/plain": [
       "<matplotlib.figure.Figure at 0x1066ee978>"
      ]
     },
     "metadata": {},
     "output_type": "display_data"
    }
   ],
   "source": [
    "strip.plot(legend, ladder=True, aspect=3)"
   ]
  },
  {
   "cell_type": "markdown",
   "metadata": {},
   "source": [
    "<hr />\n",
    "## Handling point data"
   ]
  },
  {
   "cell_type": "markdown",
   "metadata": {},
   "source": [
    "Some things really are point data. Sort of like a log, but irregular, more discrete. Here are some lab measurements... "
   ]
  },
  {
   "cell_type": "code",
   "execution_count": 7,
   "metadata": {
    "collapsed": false
   },
   "outputs": [],
   "source": [
    "data_csv = \"\"\"top, density, porosity, remarks, comp lithology, comp colour\n",
    "30, 2300, 6.4,, sand,green\n",
    "40, 2375, 7.3,, shale, grey\n",
    "60, 2400, 8.2, broken sample,,\n",
    "70, 2425, 9.2,, sand, \n",
    "80, 2575, 4.3,, shale,\n",
    "90, 2600, 2.2,, sand, red\n",
    "93, 2230, 2.1,, sand, \n",
    "\"\"\""
   ]
  },
  {
   "cell_type": "code",
   "execution_count": 8,
   "metadata": {
    "collapsed": false
   },
   "outputs": [],
   "source": [
    "point_data = Striplog.from_csv(text=data_csv, points=True)"
   ]
  },
  {
   "cell_type": "code",
   "execution_count": 9,
   "metadata": {
    "collapsed": false
   },
   "outputs": [
    {
     "data": {
      "text/html": [
       "<table><tr><td style=\"width:2em; background-color:#DDDDDD\" rowspan=\"6\"></td><td><strong>top</strong></td><td>40.0</td></tr><tr><td><strong>primary</strong></td><td><table><tr><td><strong>lithology</strong></td><td>shale</td></tr><tr><td><strong>colour</strong></td><td>grey</td></tr></table></td></tr><tr><td><strong>summary</strong></td><td>0.00 m of shale, grey</td></tr><tr><td><strong>description</strong></td><td></td></tr><tr><td><strong>data</strong></td><td><table><tr><td><strong>density</strong></td><td>2375.0</td></tr><tr><td><strong>porosity</strong></td><td>7.3</td></tr><tr><td><strong>remarks</strong></td><td></td></tr></table></td></tr><tr><td><strong>base</strong></td><td>40.0</td></tr></table>"
      ],
      "text/plain": [
       "Interval({'description': '', 'top': Position({'middle': 40.0, 'units': 'm'}), 'components': [Component({'lithology': 'shale', 'colour': 'grey'})], 'base': Position({'middle': 40.0, 'units': 'm'}), 'data': {'density': 2375.0, 'porosity': 7.3, 'remarks': ''}})"
      ]
     },
     "execution_count": 9,
     "metadata": {},
     "output_type": "execute_result"
    }
   ],
   "source": [
    "point_data[1]"
   ]
  },
  {
   "cell_type": "code",
   "execution_count": 10,
   "metadata": {
    "collapsed": false
   },
   "outputs": [
    {
     "data": {
      "image/png": "[encoded data removed]",
      "text/plain": [
       "<matplotlib.figure.Figure at 0x11412c940>"
      ]
     },
     "metadata": {},
     "output_type": "display_data"
    }
   ],
   "source": [
    "fig, (ax0, ax1) = plt.subplots(1, 2, sharey=True)\n",
    "ax0 = strip.plot(ax=ax0)\n",
    "ax1 = point_data.plot(field='porosity', ax=ax1)\n",
    "\n",
    "ax0.set_title('Striplog')\n",
    "ax1.set_title('Point data')\n",
    "\n",
    "plt.show()"
   ]
  },
  {
   "cell_type": "code",
   "execution_count": 11,
   "metadata": {
    "collapsed": false
   },
   "outputs": [],
   "source": [
    "s = strip.union(point_data)"
   ]
  },
  {
   "cell_type": "code",
   "execution_count": 12,
   "metadata": {
    "collapsed": false
   },
   "outputs": [
    {
     "data": {
      "text/html": [
       "<table><tr><td style=\"width:2em; background-color:#DDDDDD\" rowspan=\"6\"></td><td><strong>top</strong></td><td>14.3</td></tr><tr><td><strong>primary</strong></td><td><table><tr><td><strong>lithology</strong></td><td>anhydrite</td></tr><tr><td><strong>colour</strong></td><td></td></tr><tr><td><strong>grainsize</strong></td><td></td></tr></table></td></tr><tr><td><strong>summary</strong></td><td>36.94 m of anhydrite with sand, green with shale, grey</td></tr><tr><td><strong>description</strong></td><td>100.0% 100.0% 36.94 m of anhydrite with 0.0% 0.00 m of sand, green with 0.0% 0.00 m of shale, grey</td></tr><tr><td><strong>data</strong></td><td><table><tr><td><strong>density</strong></td><td>[2300.0, 2375.0]</td></tr><tr><td><strong>porosity</strong></td><td>[6.4, 7.3]</td></tr><tr><td><strong>remarks</strong></td><td>['', '']</td></tr></table></td></tr><tr><td><strong>base</strong></td><td>51.24117647058824</td></tr></table>"
      ],
      "text/plain": [
       "Interval({'description': '100.0% 100.0% 36.94 m of anhydrite with 0.0% 0.00 m of sand, green with 0.0% 0.00 m of shale, grey', 'top': Position({'middle': 14.3, 'units': 'm'}), 'components': [Component({'lithology': 'anhydrite', 'colour': '', 'grainsize': ''}), Component({'lithology': 'sand', 'colour': 'green'}), Component({'lithology': 'shale', 'colour': 'grey'})], 'base': Position({'middle': 51.24117647058824, 'units': 'm'}), 'data': {'density': [2300.0, 2375.0], 'porosity': [6.4, 7.3], 'remarks': ['', '']}})"
      ]
     },
     "execution_count": 12,
     "metadata": {},
     "output_type": "execute_result"
    }
   ],
   "source": [
    "s[0]"
   ]
  }
 ],
 "metadata": {
  "kernelspec": {
   "display_name": "Python 3",
   "language": "python",
   "name": "python3"
  },
  "language_info": {
   "codemirror_mode": {
    "name": "ipython",
    "version": 3
   },
   "file_extension": ".py",
   "mimetype": "text/x-python",
   "name": "python",
   "nbconvert_exporter": "python",
   "pygments_lexer": "ipython3",
   "version": "3.5.1"
  }
 },
 "nbformat": 4,
 "nbformat_minor": 0
}
