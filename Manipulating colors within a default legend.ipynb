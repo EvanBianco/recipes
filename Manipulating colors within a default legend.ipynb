{
 "cells": [
  {
   "cell_type": "markdown",
   "metadata": {},
   "source": [
    "# Manipulating decors within a default legend"
   ]
  },
  {
   "cell_type": "markdown",
   "metadata": {},
   "source": [
    "We want to extract `striplogs` from all of Helens striplog images, and save them as LAS files."
   ]
  },
  {
   "cell_type": "markdown",
   "metadata": {},
   "source": [
    "## Legends \n",
    "There are several `default` legens:\n",
    "\n",
    "<code>'nsdoe'</code>: Nova Scotia Dept. of Energy\n",
    "\n",
    "<code>'nagmdm__6_2'</code>: USGS N. Am. Geol. Map Data Model 6.2 <<< default\n",
    "\n",
    "<code>'nagmdm__6_1'</code>: USGS N. Am. Geol. Map Data Model 6.1\n",
    "\n",
    "<code>'nagmdm__4_3'</code>: USGS N. Am. Geol. Map Data Model 4.3\n",
    "\n",
    "<code>'sgmc'</code>: USGS State Geologic Map Compilation"
   ]
  },
  {
   "cell_type": "code",
   "execution_count": 1,
   "metadata": {
    "collapsed": false
   },
   "outputs": [],
   "source": [
    "from striplog import Striplog, Legend\n",
    "legend = Legend.default(name='nsdoe')"
   ]
  },
  {
   "cell_type": "markdown",
   "metadata": {},
   "source": [
    "This legend already has the colours defined, with the rocks those colours represent:"
   ]
  },
  {
   "cell_type": "code",
   "execution_count": 2,
   "metadata": {
    "collapsed": false
   },
   "outputs": [],
   "source": [
    "% matplotlib inline"
   ]
  },
  {
   "cell_type": "code",
   "execution_count": 3,
   "metadata": {
    "collapsed": false
   },
   "outputs": [
    {
     "data": {
      "text/plain": [
       "<bound method Legend.get_component of Legend(Decor({'hatch': None, 'colour': '#f7e9a6', 'width': 3.0, 'component': Component({'colour': 'grey', 'lithology': 'sandstone', 'grainsize': 'vf-f'})})\n",
       "Decor({'hatch': None, 'colour': '#ff99cc', 'width': 2.0, 'component': Component({'colour': '', 'lithology': 'anhydrite', 'grainsize': ''})})\n",
       "Decor({'hatch': None, 'colour': '#dbd6bc', 'width': 3.0, 'component': Component({'colour': 'grey', 'lithology': 'heterolithic', 'grainsize': ''})})\n",
       "Decor({'hatch': None, 'colour': '#ff4c4a', 'width': 2.0, 'component': Component({'colour': '', 'lithology': 'volcanic', 'grainsize': ''})})\n",
       "Decor({'hatch': None, 'colour': '#86f0b6', 'width': 5.0, 'component': Component({'colour': '', 'lithology': 'conglomerate', 'grainsize': ''})})\n",
       "Decor({'hatch': None, 'colour': '#ff96f6', 'width': 2.0, 'component': Component({'colour': '', 'lithology': 'halite', 'grainsize': ''})})\n",
       "Decor({'hatch': None, 'colour': '#f2ff42', 'width': 4.0, 'component': Component({'colour': 'grey', 'lithology': 'sandstone', 'grainsize': 'f-m'})})\n",
       "Decor({'hatch': None, 'colour': '#dbc9bc', 'width': 3.0, 'component': Component({'colour': 'red', 'lithology': 'heterolithic', 'grainsize': ''})})\n",
       "Decor({'hatch': None, 'colour': '#a68374', 'width': 2.0, 'component': Component({'colour': 'grey', 'lithology': 'siltstone', 'grainsize': ''})})\n",
       "Decor({'hatch': None, 'colour': '#a657fa', 'width': 3.0, 'component': Component({'colour': '', 'lithology': 'dolomite', 'grainsize': ''})})\n",
       "Decor({'hatch': None, 'colour': '#ffd073', 'width': 4.0, 'component': Component({'colour': 'red', 'lithology': 'sandstone', 'grainsize': 'c-m'})})\n",
       "Decor({'hatch': None, 'colour': '#a6d1ff', 'width': 3.0, 'component': Component({'colour': '', 'lithology': 'limestone', 'grainsize': ''})})\n",
       "Decor({'hatch': None, 'colour': '#ffdbba', 'width': 3.0, 'component': Component({'colour': 'red', 'lithology': 'sandstone', 'grainsize': 'vf-f'})})\n",
       "Decor({'hatch': None, 'colour': '#ffe040', 'width': 4.0, 'component': Component({'colour': 'grey', 'lithology': 'sandstone', 'grainsize': 'c-m'})})\n",
       "Decor({'hatch': None, 'colour': '#a1655a', 'width': 2.0, 'component': Component({'colour': 'red', 'lithology': 'siltstone', 'grainsize': ''})})\n",
       "Decor({'hatch': None, 'colour': '#363434', 'width': 1.0, 'component': Component({'colour': '', 'lithology': 'coal', 'grainsize': ''})})\n",
       "Decor({'hatch': None, 'colour': '#664a4a', 'width': 1.0, 'component': Component({'colour': 'red', 'lithology': 'mudstone', 'grainsize': ''})})\n",
       "Decor({'hatch': None, 'colour': '#666666', 'width': 1.0, 'component': Component({'colour': 'grey', 'lithology': 'mudstone', 'grainsize': ''})}))>"
      ]
     },
     "execution_count": 3,
     "metadata": {},
     "output_type": "execute_result"
    }
   ],
   "source": [
    "legend.get_component"
   ]
  },
  {
   "cell_type": "code",
   "execution_count": 4,
   "metadata": {
    "collapsed": false
   },
   "outputs": [
    {
     "data": {
      "image/png": "[encoded data removed]",
      "text/plain": [
       "<matplotlib.figure.Figure at 0x10f4c3f98>"
      ]
     },
     "metadata": {},
     "output_type": "display_data"
    }
   ],
   "source": [
    "legend[4].plot()"
   ]
  },
  {
   "cell_type": "markdown",
   "metadata": {},
   "source": [
    "Look at the fourth element in the legend, each item in the legend has a arbitrary number of display parameters and style settings"
   ]
  },
  {
   "cell_type": "code",
   "execution_count": 5,
   "metadata": {
    "collapsed": true
   },
   "outputs": [],
   "source": [
    "from striplog import Component"
   ]
  },
  {
   "cell_type": "code",
   "execution_count": 6,
   "metadata": {
    "collapsed": false
   },
   "outputs": [],
   "source": [
    "c1 = Component({'lithology': 'conglomerate'})"
   ]
  },
  {
   "cell_type": "code",
   "execution_count": 7,
   "metadata": {
    "collapsed": false
   },
   "outputs": [
    {
     "data": {
      "text/html": [
       "<table><tr><td><strong>hatch</strong></td><td style=\"color:black; background-color:white\">None</td></tr><tr><td><strong>colour</strong></td><td style=\"color:#000000; background-color:#86f0b6\">#86f0b6</td></tr><tr><td><strong>width</strong></td><td style=\"color:black; background-color:white\">5.0</td></tr><tr><td><strong>component</strong></td><td style=\"color:black; background-color:white\"><table><tr><td><strong>colour</strong></td><td></td></tr><tr><td><strong>lithology</strong></td><td>conglomerate</td></tr><tr><td><strong>grainsize</strong></td><td></td></tr></table></td></tr></table>"
      ],
      "text/plain": [
       "Decor({'hatch': None, 'colour': '#86f0b6', 'width': 5.0, 'component': Component({'colour': '', 'lithology': 'conglomerate', 'grainsize': ''})})"
      ]
     },
     "execution_count": 7,
     "metadata": {},
     "output_type": "execute_result"
    }
   ],
   "source": [
    "legend.get_decor(c1)"
   ]
  },
  {
   "cell_type": "markdown",
   "metadata": {},
   "source": [
    "Change the color of conglomerate to burnt orange"
   ]
  },
  {
   "cell_type": "code",
   "execution_count": 8,
   "metadata": {
    "collapsed": false
   },
   "outputs": [
    {
     "data": {
      "image/png": "[encoded data removed]",
      "text/plain": [
       "<matplotlib.figure.Figure at 0x111978470>"
      ]
     },
     "metadata": {},
     "output_type": "display_data"
    },
    {
     "data": {
      "image/png": "[encoded data removed]",
      "text/plain": [
       "<matplotlib.figure.Figure at 0x111a33358>"
      ]
     },
     "metadata": {},
     "output_type": "display_data"
    },
    {
     "data": {
      "image/png": "[encoded data removed]",
      "text/plain": [
       "<matplotlib.figure.Figure at 0x111a565f8>"
      ]
     },
     "metadata": {},
     "output_type": "display_data"
    },
    {
     "data": {
      "image/png": "[encoded data removed]",
      "text/plain": [
       "<matplotlib.figure.Figure at 0x111acf128>"
      ]
     },
     "metadata": {},
     "output_type": "display_data"
    },
    {
     "data": {
      "image/png": "[encoded data removed]",
      "text/plain": [
       "<matplotlib.figure.Figure at 0x111af34e0>"
      ]
     },
     "metadata": {},
     "output_type": "display_data"
    }
   ],
   "source": [
    "burnt_orange = '#CF5300'  # hex code for burnt orange\n",
    "legend[4].colour = burnt_orange  # change the colour\n",
    "legend[:5].plot()  # plot the first 5 items in the legend"
   ]
  },
  {
   "cell_type": "code",
   "execution_count": 9,
   "metadata": {
    "collapsed": false
   },
   "outputs": [
    {
     "data": {
      "text/html": [
       "<table><tr><td><strong>hatch</strong></td><td style=\"color:black; background-color:white\">None</td></tr><tr><td><strong>colour</strong></td><td style=\"color:#FFFFFF; background-color:#CF5300\">#CF5300</td></tr><tr><td><strong>width</strong></td><td style=\"color:black; background-color:white\">5.0</td></tr><tr><td><strong>component</strong></td><td style=\"color:black; background-color:white\"><table><tr><td><strong>colour</strong></td><td></td></tr><tr><td><strong>lithology</strong></td><td>conglomerate</td></tr><tr><td><strong>grainsize</strong></td><td></td></tr></table></td></tr></table>"
      ],
      "text/plain": [
       "Decor({'hatch': None, 'colour': '#CF5300', 'width': 5.0, 'component': Component({'colour': '', 'lithology': 'conglomerate', 'grainsize': ''})})"
      ]
     },
     "execution_count": 9,
     "metadata": {},
     "output_type": "execute_result"
    }
   ],
   "source": [
    "legend.get_decor(c1)"
   ]
  }
 ],
 "metadata": {
  "kernelspec": {
   "display_name": "Python 3",
   "language": "python",
   "name": "python3"
  },
  "language_info": {
   "codemirror_mode": {
    "name": "ipython",
    "version": 3
   },
   "file_extension": ".py",
   "mimetype": "text/x-python",
   "name": "python",
   "nbconvert_exporter": "python",
   "pygments_lexer": "ipython3",
   "version": "3.5.1"
  }
 },
 "nbformat": 4,
 "nbformat_minor": 0
}
