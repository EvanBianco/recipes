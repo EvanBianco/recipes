{
 "cells": [
  {
   "cell_type": "markdown",
   "metadata": {},
   "source": [
    "# Manipulating decors within a default legend"
   ]
  },
  {
   "cell_type": "markdown",
   "metadata": {},
   "source": [
    "We want to extract `striplogs` from all of Helens striplog images, and save them as LAS files."
   ]
  },
  {
   "cell_type": "markdown",
   "metadata": {},
   "source": [
    "## Legends \n",
    "There are several `default` legens:\n",
    "\n",
    "<code>'nsdoe'</code>: Nova Scotia Dept. of Energy\n",
    "\n",
    "<code>'nagmdm__6_2'</code>: USGS N. Am. Geol. Map Data Model 6.2 <<< default\n",
    "\n",
    "<code>'nagmdm__6_1'</code>: USGS N. Am. Geol. Map Data Model 6.1\n",
    "\n",
    "<code>'nagmdm__4_3'</code>: USGS N. Am. Geol. Map Data Model 4.3\n",
    "\n",
    "<code>'sgmc'</code>: USGS State Geologic Map Compilation"
   ]
  },
  {
   "cell_type": "code",
   "execution_count": 2,
   "metadata": {
    "collapsed": false
   },
   "outputs": [],
   "source": [
    "from striplog import Striplog, Legend\n",
    "legend = Legend.default(name='nsdoe')"
   ]
  },
  {
   "cell_type": "markdown",
   "metadata": {},
   "source": [
    "This legend already has the colours defined, with the rocks those colours represent:"
   ]
  },
  {
   "cell_type": "code",
   "execution_count": 3,
   "metadata": {
    "collapsed": false
   },
   "outputs": [],
   "source": [
    "% matplotlib inline"
   ]
  },
  {
   "cell_type": "code",
   "execution_count": 4,
   "metadata": {
    "collapsed": false
   },
   "outputs": [
    {
     "data": {
      "text/plain": [
       "<bound method Legend.get_component of Legend(Decor({'hatch': None, 'colour': '#f7e9a6', 'component': Component({'grainsize': 'vf-f', 'lithology': 'sandstone', 'colour': 'grey'}), 'width': 3.0})\n",
       "Decor({'hatch': None, 'colour': '#ff99cc', 'component': Component({'lithology': 'anhydrite'}), 'width': 2.0})\n",
       "Decor({'hatch': None, 'colour': '#dbd6bc', 'component': Component({'lithology': 'heterolithic', 'colour': 'grey'}), 'width': 3.0})\n",
       "Decor({'hatch': None, 'colour': '#ff4c4a', 'component': Component({'lithology': 'volcanic'}), 'width': 2.0})\n",
       "Decor({'hatch': None, 'colour': '#86f0b6', 'component': Component({'lithology': 'conglomerate'}), 'width': 5.0})\n",
       "Decor({'hatch': None, 'colour': '#ff96f6', 'component': Component({'lithology': 'halite'}), 'width': 2.0})\n",
       "Decor({'hatch': None, 'colour': '#f2ff42', 'component': Component({'grainsize': 'f-m', 'lithology': 'sandstone', 'colour': 'grey'}), 'width': 4.0})\n",
       "Decor({'hatch': None, 'colour': '#dbc9bc', 'component': Component({'lithology': 'heterolithic', 'colour': 'red'}), 'width': 3.0})\n",
       "Decor({'hatch': None, 'colour': '#a68374', 'component': Component({'lithology': 'siltstone', 'colour': 'grey'}), 'width': 2.0})\n",
       "Decor({'hatch': None, 'colour': '#a657fa', 'component': Component({'lithology': 'dolomite'}), 'width': 3.0})\n",
       "Decor({'hatch': None, 'colour': '#ffd073', 'component': Component({'grainsize': 'c-m', 'lithology': 'sandstone', 'colour': 'red'}), 'width': 4.0})\n",
       "Decor({'hatch': None, 'colour': '#a6d1ff', 'component': Component({'lithology': 'limestone'}), 'width': 3.0})\n",
       "Decor({'hatch': None, 'colour': '#ffdbba', 'component': Component({'grainsize': 'vf-f', 'lithology': 'sandstone', 'colour': 'red'}), 'width': 3.0})\n",
       "Decor({'hatch': None, 'colour': '#ffe040', 'component': Component({'grainsize': 'c-m', 'lithology': 'sandstone', 'colour': 'grey'}), 'width': 4.0})\n",
       "Decor({'hatch': None, 'colour': '#a1655a', 'component': Component({'lithology': 'siltstone', 'colour': 'red'}), 'width': 2.0})\n",
       "Decor({'hatch': None, 'colour': '#363434', 'component': Component({'lithology': 'coal'}), 'width': 1.0})\n",
       "Decor({'hatch': None, 'colour': '#664a4a', 'component': Component({'lithology': 'mudstone', 'colour': 'red'}), 'width': 1.0})\n",
       "Decor({'hatch': None, 'colour': '#666666', 'component': Component({'lithology': 'mudstone', 'colour': 'grey'}), 'width': 1.0}))>"
      ]
     },
     "execution_count": 4,
     "metadata": {},
     "output_type": "execute_result"
    }
   ],
   "source": [
    "legend.get_component"
   ]
  },
  {
   "cell_type": "code",
   "execution_count": 5,
   "metadata": {
    "collapsed": false
   },
   "outputs": [
    {
     "data": {
      "image/png": "[encoded data removed]",
      "text/plain": [
       "<matplotlib.figure.Figure at 0x10f447668>"
      ]
     },
     "metadata": {},
     "output_type": "display_data"
    }
   ],
   "source": [
    "legend[4].plot()"
   ]
  },
  {
   "cell_type": "markdown",
   "metadata": {},
   "source": [
    "Look at the fourth element in the legend, each item in the legend has a arbitrary number of display parameters and style settings"
   ]
  },
  {
   "cell_type": "code",
   "execution_count": 6,
   "metadata": {
    "collapsed": true
   },
   "outputs": [],
   "source": [
    "from striplog import Component"
   ]
  },
  {
   "cell_type": "code",
   "execution_count": 7,
   "metadata": {
    "collapsed": false
   },
   "outputs": [],
   "source": [
    "c1 = Component({'lithology': 'conglomerate'})"
   ]
  },
  {
   "cell_type": "code",
   "execution_count": 8,
   "metadata": {
    "collapsed": false
   },
   "outputs": [
    {
     "data": {
      "text/html": [
       "<table><tr><td><strong>hatch</strong></td><td style=\"color:black; background-color:white\">None</td></tr><tr><td><strong>colour</strong></td><td style=\"color:#000000; background-color:#86f0b6\">#86f0b6</td></tr><tr><td><strong>component</strong></td><td style=\"color:black; background-color:white\"><table><tr><td><strong>lithology</strong></td><td>conglomerate</td></tr></table></td></tr><tr><td><strong>width</strong></td><td style=\"color:black; background-color:white\">5.0</td></tr></table>"
      ],
      "text/plain": [
       "Decor({'hatch': None, 'colour': '#86f0b6', 'component': Component({'lithology': 'conglomerate'}), 'width': 5.0})"
      ]
     },
     "execution_count": 8,
     "metadata": {},
     "output_type": "execute_result"
    }
   ],
   "source": [
    "legend.get_decor(c1)"
   ]
  },
  {
   "cell_type": "markdown",
   "metadata": {},
   "source": [
    "Change the color of conglomerate to burnt orange"
   ]
  },
  {
   "cell_type": "code",
   "execution_count": 9,
   "metadata": {
    "collapsed": false
   },
   "outputs": [
    {
     "data": {
      "image/png": "[encoded data removed]",
      "text/plain": [
       "<matplotlib.figure.Figure at 0x111a2cbe0>"
      ]
     },
     "metadata": {},
     "output_type": "display_data"
    },
    {
     "data": {
      "image/png": "[encoded data removed]",
      "text/plain": [
       "<matplotlib.figure.Figure at 0x111ad8b38>"
      ]
     },
     "metadata": {},
     "output_type": "display_data"
    },
    {
     "data": {
      "image/png": "[encoded data removed]",
      "text/plain": [
       "<matplotlib.figure.Figure at 0x111b2e7f0>"
      ]
     },
     "metadata": {},
     "output_type": "display_data"
    },
    {
     "data": {
      "image/png": "[encoded data removed]",
      "text/plain": [
       "<matplotlib.figure.Figure at 0x111b75320>"
      ]
     },
     "metadata": {},
     "output_type": "display_data"
    },
    {
     "data": {
      "image/png": "[encoded data removed]",
      "text/plain": [
       "<matplotlib.figure.Figure at 0x111bcb208>"
      ]
     },
     "metadata": {},
     "output_type": "display_data"
    }
   ],
   "source": [
    "burnt_orange = '#CF5300'  # hex code for burnt orange\n",
    "legend[4].colour = burnt_orange  # change the colour\n",
    "legend[:5].plot()  # plot the first 5 items in the legend"
   ]
  },
  {
   "cell_type": "code",
   "execution_count": 10,
   "metadata": {
    "collapsed": false
   },
   "outputs": [
    {
     "data": {
      "text/html": [
       "<table><tr><td><strong>hatch</strong></td><td style=\"color:black; background-color:white\">None</td></tr><tr><td><strong>colour</strong></td><td style=\"color:#FFFFFF; background-color:#CF5300\">#CF5300</td></tr><tr><td><strong>component</strong></td><td style=\"color:black; background-color:white\"><table><tr><td><strong>lithology</strong></td><td>conglomerate</td></tr></table></td></tr><tr><td><strong>width</strong></td><td style=\"color:black; background-color:white\">5.0</td></tr></table>"
      ],
      "text/plain": [
       "Decor({'hatch': None, 'colour': '#CF5300', 'component': Component({'lithology': 'conglomerate'}), 'width': 5.0})"
      ]
     },
     "execution_count": 10,
     "metadata": {},
     "output_type": "execute_result"
    }
   ],
   "source": [
    "legend.get_decor(c1)"
   ]
  }
 ],
 "metadata": {
  "kernelspec": {
   "display_name": "Python 3",
   "language": "python",
   "name": "python3"
  },
  "language_info": {
   "codemirror_mode": {
    "name": "ipython",
    "version": 3
   },
   "file_extension": ".py",
   "mimetype": "text/x-python",
   "name": "python",
   "nbconvert_exporter": "python",
   "pygments_lexer": "ipython3",
   "version": "3.5.1"
  }
 },
 "nbformat": 4,
 "nbformat_minor": 0
}
