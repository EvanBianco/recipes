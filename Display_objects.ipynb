{
 "cells": [
  {
   "cell_type": "markdown",
   "metadata": {
    "internals": {
     "slide_type": "subslide"
    },
    "slideshow": {
     "slide_type": "slide"
    }
   },
   "source": [
    "# Display objects"
   ]
  },
  {
   "cell_type": "markdown",
   "metadata": {
    "internals": {},
    "slideshow": {
     "slide_type": "-"
    }
   },
   "source": [
    "A `striplog` depends on a hierarchy of objects. This notebook shows the objects related to display:\n",
    "\n",
    "- [Decor](#Decor): One element from a legend — describes how to display a Rock.\n",
    "- [Legend](#Legend): A set of Decors — describes how to display a set of Rocks or a Striplog."
   ]
  },
  {
   "cell_type": "markdown",
   "metadata": {
    "internals": {},
    "slideshow": {
     "slide_type": "-"
    }
   },
   "source": [
    "<hr />"
   ]
  },
  {
   "cell_type": "markdown",
   "metadata": {
    "internals": {},
    "slideshow": {
     "slide_type": "-"
    }
   },
   "source": [
    "## Decor"
   ]
  },
  {
   "cell_type": "code",
   "execution_count": 1,
   "metadata": {
    "collapsed": false,
    "internals": {},
    "slideshow": {
     "slide_type": "-"
    }
   },
   "outputs": [],
   "source": [
    "from striplog import Decor"
   ]
  },
  {
   "cell_type": "markdown",
   "metadata": {
    "internals": {},
    "slideshow": {
     "slide_type": "-"
    }
   },
   "source": [
    "A Decor attaches a display style to a Rock. "
   ]
  },
  {
   "cell_type": "code",
   "execution_count": 2,
   "metadata": {
    "collapsed": false,
    "internals": {},
    "slideshow": {
     "slide_type": "-"
    }
   },
   "outputs": [
    {
     "name": "stdout",
     "output_type": "stream",
     "text": [
      "\n",
      "    A single display style. A Decor describes how to display a given set\n",
      "    of Component properties.\n",
      "\n",
      "    In general, you will not usually use a Decor on its own. Instead, you\n",
      "    will want to use a Legend, which is just a list of Decors, and leave\n",
      "    the Decors to the Legend.\n",
      "\n",
      "    Args:\n",
      "      params (dict): The parameters you want in the Decor. There must be a\n",
      "        Component to attach the decoration to, and at least 1 other attribute.\n",
      "        It's completely up to you, but you probably want at least a colour\n",
      "        (hex names like #AAA or #d3d3d3, or matplotlib's English-language\n",
      "        names listed at http://ageo.co/modelrcolour are acceptable.\n",
      "\n",
      "        The only other parameter the class recognizes for now is 'width',\n",
      "        which is the width of the striplog element.\n",
      "\n",
      "    Example:\n",
      "      my_rock = Component({ ... })\n",
      "      d = {'component': my_rock, 'colour': 'red'}\n",
      "      my_decor = Decor(d)\n",
      "    \n"
     ]
    }
   ],
   "source": [
    "print(Decor.__doc__)"
   ]
  },
  {
   "cell_type": "markdown",
   "metadata": {
    "internals": {},
    "slideshow": {
     "slide_type": "-"
    }
   },
   "source": [
    "We are going to need a `Component` to make a `Decor`."
   ]
  },
  {
   "cell_type": "code",
   "execution_count": 3,
   "metadata": {
    "collapsed": false,
    "internals": {},
    "slideshow": {
     "slide_type": "-"
    }
   },
   "outputs": [
    {
     "data": {
      "text/html": [
       "<table><tr><td><strong>porosity</strong></td><td>0.123</td></tr><tr><td><strong>lithology</strong></td><td>sand</td></tr><tr><td><strong>colour</strong></td><td>grey</td></tr><tr><td><strong>grainsize</strong></td><td>vf-f</td></tr></table>"
      ],
      "text/plain": [
       "Component({'porosity': 0.123, 'lithology': 'sand', 'colour': 'grey', 'grainsize': 'vf-f'})"
      ]
     },
     "execution_count": 3,
     "metadata": {},
     "output_type": "execute_result"
    }
   ],
   "source": [
    "from striplog import Component\n",
    "r = {'colour': 'grey',\n",
    "     'grainsize': 'vf-f',\n",
    "     'lithology': 'sand',\n",
    "     'porosity': 0.123\n",
    "    }\n",
    "rock = Component(r)\n",
    "rock"
   ]
  },
  {
   "cell_type": "code",
   "execution_count": 4,
   "metadata": {
    "collapsed": false,
    "internals": {},
    "slideshow": {
     "slide_type": "-"
    }
   },
   "outputs": [
    {
     "data": {
      "text/html": [
       "<table><tr><td><strong>hatch</strong></td><td style=\"color:black; background-color:white\">None</td></tr><tr><td><strong>component</strong></td><td style=\"color:black; background-color:white\"><table><tr><td><strong>porosity</strong></td><td>0.123</td></tr><tr><td><strong>lithology</strong></td><td>sand</td></tr><tr><td><strong>colour</strong></td><td>grey</td></tr><tr><td><strong>grainsize</strong></td><td>vf-f</td></tr></table></td></tr><tr><td><strong>width</strong></td><td style=\"color:black; background-color:white\">3.0</td></tr><tr><td><strong>colour</strong></td><td style=\"color:#FFFFFF; background-color:#267022\">#267022</td></tr></table>"
      ],
      "text/plain": [
       "Decor({'hatch': None, 'component': Component({'porosity': 0.123, 'lithology': 'sand', 'colour': 'grey', 'grainsize': 'vf-f'}), 'width': 3.0, 'colour': '#267022'})"
      ]
     },
     "execution_count": 4,
     "metadata": {},
     "output_type": "execute_result"
    }
   ],
   "source": [
    "d = {'color': '#267022',\n",
    "     'component': rock,\n",
    "     'width': 3}\n",
    "decor = Decor(d)\n",
    "decor"
   ]
  },
  {
   "cell_type": "code",
   "execution_count": 5,
   "metadata": {
    "collapsed": false,
    "internals": {},
    "slideshow": {
     "slide_type": "-"
    }
   },
   "outputs": [
    {
     "data": {
      "text/html": [
       "<table><tr><td><strong>porosity</strong></td><td>0.123</td></tr><tr><td><strong>lithology</strong></td><td>sand</td></tr><tr><td><strong>colour</strong></td><td>grey</td></tr><tr><td><strong>grainsize</strong></td><td>vf-f</td></tr></table>"
      ],
      "text/plain": [
       "Component({'porosity': 0.123, 'lithology': 'sand', 'colour': 'grey', 'grainsize': 'vf-f'})"
      ]
     },
     "execution_count": 5,
     "metadata": {},
     "output_type": "execute_result"
    }
   ],
   "source": [
    "from striplog import Component\n",
    "r = {'colour': 'grey',\n",
    "     'grainsize': 'vf-f',\n",
    "     'lithology': 'sand',\n",
    "     'porosity': 0.123\n",
    "    }\n",
    "rock = Component(r)\n",
    "rock"
   ]
  },
  {
   "cell_type": "markdown",
   "metadata": {
    "internals": {},
    "slideshow": {
     "slide_type": "-"
    }
   },
   "source": [
    "Like `Rock`s, we instantiate `Decor`s with a `dict` of properties:"
   ]
  },
  {
   "cell_type": "code",
   "execution_count": 6,
   "metadata": {
    "collapsed": false,
    "internals": {},
    "slideshow": {
     "slide_type": "-"
    }
   },
   "outputs": [
    {
     "data": {
      "text/html": [
       "<table><tr><td><strong>hatch</strong></td><td style=\"color:black; background-color:white\">None</td></tr><tr><td><strong>component</strong></td><td style=\"color:black; background-color:white\"><table><tr><td><strong>porosity</strong></td><td>0.123</td></tr><tr><td><strong>lithology</strong></td><td>sand</td></tr><tr><td><strong>colour</strong></td><td>grey</td></tr><tr><td><strong>grainsize</strong></td><td>vf-f</td></tr></table></td></tr><tr><td><strong>width</strong></td><td style=\"color:black; background-color:white\">3.0</td></tr><tr><td><strong>colour</strong></td><td style=\"color:#FFFFFF; background-color:#267022\">#267022</td></tr></table>"
      ],
      "text/plain": [
       "Decor({'hatch': None, 'component': Component({'porosity': 0.123, 'lithology': 'sand', 'colour': 'grey', 'grainsize': 'vf-f'}), 'width': 3.0, 'colour': '#267022'})"
      ]
     },
     "execution_count": 6,
     "metadata": {},
     "output_type": "execute_result"
    }
   ],
   "source": [
    "d = {'color': '#267022',\n",
    "     'component': rock,\n",
    "     'width': 3}\n",
    "decor = Decor(d)\n",
    "decor"
   ]
  },
  {
   "cell_type": "markdown",
   "metadata": {
    "internals": {},
    "slideshow": {
     "slide_type": "-"
    }
   },
   "source": [
    "Or instantiate with keyword parameters:"
   ]
  },
  {
   "cell_type": "code",
   "execution_count": 7,
   "metadata": {
    "collapsed": false,
    "internals": {},
    "slideshow": {
     "slide_type": "-"
    }
   },
   "outputs": [
    {
     "data": {
      "text/html": [
       "<table><tr><td><strong>hatch</strong></td><td style=\"color:black; background-color:white\">None</td></tr><tr><td><strong>component</strong></td><td style=\"color:black; background-color:white\"><table><tr><td><strong>porosity</strong></td><td>0.123</td></tr><tr><td><strong>lithology</strong></td><td>sand</td></tr><tr><td><strong>colour</strong></td><td>grey</td></tr><tr><td><strong>grainsize</strong></td><td>vf-f</td></tr></table></td></tr><tr><td><strong>width</strong></td><td style=\"color:black; background-color:white\">3.0</td></tr><tr><td><strong>colour</strong></td><td style=\"color:#000000; background-color:#86f0b6\">#86f0b6</td></tr></table>"
      ],
      "text/plain": [
       "Decor({'hatch': None, 'component': Component({'porosity': 0.123, 'lithology': 'sand', 'colour': 'grey', 'grainsize': 'vf-f'}), 'width': 3.0, 'colour': '#86f0b6'})"
      ]
     },
     "execution_count": 7,
     "metadata": {},
     "output_type": "execute_result"
    }
   ],
   "source": [
    "Decor(colour='#86f0b6', component=Component({'colour': 'grey', 'grainsize': 'vf-f', 'porosity': 0.123, 'lithology': 'sand'}), width=3.0)"
   ]
  },
  {
   "cell_type": "markdown",
   "metadata": {
    "internals": {},
    "slideshow": {
     "slide_type": "-"
    }
   },
   "source": [
    "You can access its attributes. It has two ways to understand colour:"
   ]
  },
  {
   "cell_type": "code",
   "execution_count": 8,
   "metadata": {
    "collapsed": false,
    "internals": {},
    "slideshow": {
     "slide_type": "-"
    }
   },
   "outputs": [
    {
     "name": "stdout",
     "output_type": "stream",
     "text": [
      "Hex: #267022... and RGB: (38, 112, 34)\n"
     ]
    }
   ],
   "source": [
    "print(\"Hex: {}... and RGB: {}\".format(decor.colour, decor.rgb))"
   ]
  },
  {
   "cell_type": "code",
   "execution_count": 9,
   "metadata": {
    "collapsed": false,
    "internals": {},
    "slideshow": {
     "slide_type": "-"
    }
   },
   "outputs": [
    {
     "name": "stdout",
     "output_type": "stream",
     "text": [
      "Decor({'hatch': None, 'component': Component({'porosity': 0.123, 'lithology': 'sand', 'colour': 'grey', 'grainsize': 'vf-f'}), 'width': 3.0, 'colour': '#267022'})\n"
     ]
    }
   ],
   "source": [
    "print(decor)"
   ]
  },
  {
   "cell_type": "code",
   "execution_count": 10,
   "metadata": {
    "collapsed": false,
    "internals": {},
    "slideshow": {
     "slide_type": "-"
    }
   },
   "outputs": [
    {
     "data": {
      "image/png": "[encoded data removed]",
      "text/plain": [
       "<matplotlib.figure.Figure at 0x10d644438>"
      ]
     },
     "metadata": {},
     "output_type": "display_data"
    }
   ],
   "source": [
    "%matplotlib inline\n",
    "decor.plot()"
   ]
  },
  {
   "cell_type": "code",
   "execution_count": 11,
   "metadata": {
    "collapsed": false
   },
   "outputs": [
    {
     "data": {
      "image/png": "[encoded data removed]",
      "text/plain": [
       "<matplotlib.figure.Figure at 0x10d6a5208>"
      ]
     },
     "metadata": {},
     "output_type": "display_data"
    }
   ],
   "source": [
    "decor.hatch = '+'\n",
    "decor.plot()"
   ]
  },
  {
   "cell_type": "markdown",
   "metadata": {},
   "source": [
    "There are the standard `matplotlib` hatch patterns:"
   ]
  },
  {
   "cell_type": "code",
   "execution_count": 12,
   "metadata": {
    "collapsed": false
   },
   "outputs": [
    {
     "data": {
      "image/png": "[encoded data removed]",
      "text/plain": [
       "<matplotlib.figure.Figure at 0x10fc0cc88>"
      ]
     },
     "metadata": {},
     "output_type": "display_data"
    },
    {
     "data": {
      "image/png": "[encoded data removed]",
      "text/plain": [
       "<matplotlib.figure.Figure at 0x10fca2438>"
      ]
     },
     "metadata": {},
     "output_type": "display_data"
    },
    {
     "data": {
      "image/png": "[encoded data removed]",
      "text/plain": [
       "<matplotlib.figure.Figure at 0x10fcf54e0>"
      ]
     },
     "metadata": {},
     "output_type": "display_data"
    },
    {
     "data": {
      "image/png": "[encoded data removed]",
      "text/plain": [
       "<matplotlib.figure.Figure at 0x10fd36ef0>"
      ]
     },
     "metadata": {},
     "output_type": "display_data"
    },
    {
     "data": {
      "image/png": "[encoded data removed]",
      "text/plain": [
       "<matplotlib.figure.Figure at 0x10fd920f0>"
      ]
     },
     "metadata": {},
     "output_type": "display_data"
    },
    {
     "data": {
      "image/png": "[encoded data removed]",
      "text/plain": [
       "<matplotlib.figure.Figure at 0x10fdd2a90>"
      ]
     },
     "metadata": {},
     "output_type": "display_data"
    },
    {
     "data": {
      "image/png": "[encoded data removed]",
      "text/plain": [
       "<matplotlib.figure.Figure at 0x10ff27940>"
      ]
     },
     "metadata": {},
     "output_type": "display_data"
    },
    {
     "data": {
      "image/png": "[encoded data removed]",
      "text/plain": [
       "<matplotlib.figure.Figure at 0x10ff715c0>"
      ]
     },
     "metadata": {},
     "output_type": "display_data"
    },
    {
     "data": {
      "image/png": "[encoded data removed]",
      "text/plain": [
       "<matplotlib.figure.Figure at 0x10ffc6438>"
      ]
     },
     "metadata": {},
     "output_type": "display_data"
    }
   ],
   "source": [
    "hatches = \"\\/|+x-.o*\"\n",
    "for h in hatches:\n",
    "    Decor({'component': Component({'hatch':h}), 'hatch': h, 'colour': '#eeeeee'}).plot()"
   ]
  },
  {
   "cell_type": "markdown",
   "metadata": {},
   "source": [
    "And there are some custom ones. These really need to be reconciled and implemented in a more flexible way, perhaps even going as far as a redesign of the mpl implementation."
   ]
  },
  {
   "cell_type": "code",
   "execution_count": 13,
   "metadata": {
    "collapsed": false,
    "scrolled": false
   },
   "outputs": [
    {
     "data": {
      "image/png": "[encoded data removed]",
      "text/plain": [
       "<matplotlib.figure.Figure at 0x10fc1eac8>"
      ]
     },
     "metadata": {},
     "output_type": "display_data"
    },
    {
     "data": {
      "image/png": "[encoded data removed]",
      "text/plain": [
       "<matplotlib.figure.Figure at 0x10ffe2f98>"
      ]
     },
     "metadata": {},
     "output_type": "display_data"
    },
    {
     "data": {
      "image/png": "[encoded data removed]",
      "text/plain": [
       "<matplotlib.figure.Figure at 0x110135f98>"
      ]
     },
     "metadata": {},
     "output_type": "display_data"
    },
    {
     "data": {
      "image/png": "[encoded data removed]",
      "text/plain": [
       "<matplotlib.figure.Figure at 0x11017ec18>"
      ]
     },
     "metadata": {},
     "output_type": "display_data"
    },
    {
     "data": {
      "image/png": "[encoded data removed]",
      "text/plain": [
       "<matplotlib.figure.Figure at 0x1101d2ba8>"
      ]
     },
     "metadata": {},
     "output_type": "display_data"
    },
    {
     "data": {
      "image/png": "[encoded data removed]",
      "text/plain": [
       "<matplotlib.figure.Figure at 0x110218668>"
      ]
     },
     "metadata": {},
     "output_type": "display_data"
    },
    {
     "data": {
      "image/png": "[encoded data removed]",
      "text/plain": [
       "<matplotlib.figure.Figure at 0x11026c3c8>"
      ]
     },
     "metadata": {},
     "output_type": "display_data"
    },
    {
     "data": {
      "image/png": "[encoded data removed]",
      "text/plain": [
       "<matplotlib.figure.Figure at 0x1102b9198>"
      ]
     },
     "metadata": {},
     "output_type": "display_data"
    },
    {
     "data": {
      "image/png": "[encoded data removed]",
      "text/plain": [
       "<matplotlib.figure.Figure at 0x110408cf8>"
      ]
     },
     "metadata": {},
     "output_type": "display_data"
    },
    {
     "data": {
      "image/png": "[encoded data removed]",
      "text/plain": [
       "<matplotlib.figure.Figure at 0x110455668>"
      ]
     },
     "metadata": {},
     "output_type": "display_data"
    }
   ],
   "source": [
    "hatches = \"pctLbs!=v^\"\n",
    "for h in hatches:\n",
    "    Decor({'component': Component({'hatch':h}), 'hatch': h, 'colour': '#eeeeee'}).plot(fmt=\"{hatch}\")"
   ]
  },
  {
   "cell_type": "markdown",
   "metadata": {
    "internals": {},
    "slideshow": {
     "slide_type": "-"
    }
   },
   "source": [
    "<hr />"
   ]
  },
  {
   "cell_type": "markdown",
   "metadata": {
    "internals": {},
    "slideshow": {
     "slide_type": "-"
    }
   },
   "source": [
    "## Legend"
   ]
  },
  {
   "cell_type": "code",
   "execution_count": 14,
   "metadata": {
    "collapsed": false,
    "internals": {},
    "slideshow": {
     "slide_type": "-"
    }
   },
   "outputs": [
    {
     "name": "stdout",
     "output_type": "stream",
     "text": [
      "\n",
      "    A look-up table to assist in the conversion of Components to\n",
      "    a plot colour.\n",
      "\n",
      "    Args:\n",
      "        list_of_Decors (list): The decors to collect into a legend. In\n",
      "            general, you will want to leave legend building to the constructor\n",
      "            class methods, `Legend.default()`, and `Legend.from_csv(string)`.\n",
      "            We can add others over time, such as `from_xls` and so on.\n",
      "    \n"
     ]
    }
   ],
   "source": [
    "from striplog import Legend\n",
    "print(Legend.__doc__)"
   ]
  },
  {
   "cell_type": "markdown",
   "metadata": {
    "internals": {},
    "slideshow": {
     "slide_type": "-"
    }
   },
   "source": [
    "We'll define a legend in a CSV file. I can't think of a better way for now. It would be easy to make a web form to facilitate this with, for example, a colour picker. It may not be worth it, though; I imagine one would create one and then leave it alone most of the time. "
   ]
  },
  {
   "cell_type": "code",
   "execution_count": 15,
   "metadata": {
    "collapsed": false,
    "internals": {},
    "slideshow": {
     "slide_type": "-"
    }
   },
   "outputs": [],
   "source": [
    "l = u\"\"\"colour, width, component lithology, component colour, component grainsize\n",
    "#F7E9A6, 3, Sandstone, Grey, VF-F\n",
    "#FF99CC, 2, Anhydrite, , \n",
    "#DBD6BC, 3, Heterolithic, Grey, \n",
    "#FF4C4A, 2, Volcanic, , \n",
    "#86F0B6, 5, Conglomerate, , \n",
    "#FF96F6, 2, Halite, , \n",
    "#F2FF42, 4, Sandstone, Grey, F-M\n",
    "#DBC9BC, 3, Heterolithic, Red, \n",
    "#A68374, 2, Siltstone, Grey, \n",
    "#A657FA, 3, Dolomite, , \n",
    "#FFD073, 4, Sandstone, Red, C-M\n",
    "#A6D1FF, 3, Limestone, , \n",
    "#FFDBBA, 3, Sandstone, Red, VF-F\n",
    "#FFE040, 4, Sandstone, Grey, C-M\n",
    "#A1655A, 2, Siltstone, Red, \n",
    "#363434, 1, Coal, , \n",
    "#664A4A, 1, Mudstone, Red, \n",
    "#666666, 1, Mudstone, Grey, \"\"\""
   ]
  },
  {
   "cell_type": "code",
   "execution_count": 16,
   "metadata": {
    "collapsed": false,
    "internals": {},
    "slideshow": {
     "slide_type": "-"
    }
   },
   "outputs": [
    {
     "data": {
      "text/plain": [
       "Legend(Decor({'hatch': None, 'component': Component({'lithology': 'sandstone', 'colour': 'grey', 'grainsize': 'vf-f'}), 'width': 3.0, 'colour': '#f7e9a6'})\n",
       "Decor({'hatch': None, 'component': Component({'lithology': 'anhydrite'}), 'width': 2.0, 'colour': '#ff99cc'})\n",
       "Decor({'hatch': None, 'component': Component({'lithology': 'heterolithic', 'colour': 'grey'}), 'width': 3.0, 'colour': '#dbd6bc'})\n",
       "Decor({'hatch': None, 'component': Component({'lithology': 'volcanic'}), 'width': 2.0, 'colour': '#ff4c4a'})\n",
       "Decor({'hatch': None, 'component': Component({'lithology': 'conglomerate'}), 'width': 5.0, 'colour': '#86f0b6'}))"
      ]
     },
     "execution_count": 16,
     "metadata": {},
     "output_type": "execute_result"
    }
   ],
   "source": [
    "legend = Legend.from_csv(l)\n",
    "legend[:5]"
   ]
  },
  {
   "cell_type": "markdown",
   "metadata": {},
   "source": [
    "Duplicate lithologies will result in a warning. To avoid strange results, you should fix the problem by removing duplicates."
   ]
  },
  {
   "cell_type": "code",
   "execution_count": 17,
   "metadata": {
    "collapsed": true
   },
   "outputs": [],
   "source": [
    "l = u\"\"\"colour, component lithology\n",
    "#F7E9A6, Sandstone\n",
    "#F2FF42, Sandstone\n",
    "#FF99CC, Anhydrite\n",
    "#DBD6BC, Heterolithic \n",
    "#FF4C4A, Volcanic\n",
    "#86F0B6, Conglomerate\n",
    "#FFD073, Sandstone\n",
    "\"\"\""
   ]
  },
  {
   "cell_type": "code",
   "execution_count": 18,
   "metadata": {
    "collapsed": false
   },
   "outputs": [
    {
     "name": "stderr",
     "output_type": "stream",
     "text": [
      "/Users/matt/anaconda/envs/python3/lib/python3.4/site-packages/striplog/legend.py:527: UserWarning: This legend contains duplicate components.\n",
      "  warnings.warn(w)\n",
      "/Users/matt/anaconda/envs/python3/lib/python3.4/site-packages/striplog/legend.py:527: UserWarning: This legend contains duplicate components.\n",
      "  warnings.warn(w)\n"
     ]
    },
    {
     "data": {
      "text/plain": [
       "Legend(Decor({'hatch': None, 'component': Component({'lithology': 'sandstone'}), 'width': None, 'colour': '#f7e9a6'})\n",
       "Decor({'hatch': None, 'component': Component({'lithology': 'sandstone'}), 'width': None, 'colour': '#f2ff42'})\n",
       "Decor({'hatch': None, 'component': Component({'lithology': 'anhydrite'}), 'width': None, 'colour': '#ff99cc'})\n",
       "Decor({'hatch': None, 'component': Component({'lithology': 'heterolithic '}), 'width': None, 'colour': '#dbd6bc'})\n",
       "Decor({'hatch': None, 'component': Component({'lithology': 'volcanic'}), 'width': None, 'colour': '#ff4c4a'})\n",
       "Decor({'hatch': None, 'component': Component({'lithology': 'conglomerate'}), 'width': None, 'colour': '#86f0b6'})\n",
       "Decor({'hatch': None, 'component': Component({'lithology': 'sandstone'}), 'width': None, 'colour': '#ffd073'}))"
      ]
     },
     "execution_count": 18,
     "metadata": {},
     "output_type": "execute_result"
    }
   ],
   "source": [
    "Legend.from_csv(l)"
   ]
  },
  {
   "cell_type": "markdown",
   "metadata": {},
   "source": [
    "We can also export a legend as CSV text:"
   ]
  },
  {
   "cell_type": "code",
   "execution_count": 19,
   "metadata": {
    "collapsed": false,
    "internals": {},
    "slideshow": {
     "slide_type": "-"
    }
   },
   "outputs": [
    {
     "name": "stdout",
     "output_type": "stream",
     "text": [
      "colour,hatch,width,component lithology,component colour,component grainsize\n",
      "#f7e9a6,None,3.0,sandstone,grey,vf-f,\n",
      "#ff99cc,None,2.0,anhydrite,,,\n",
      "#dbd6bc,None,3.0,heterolithic,grey,,\n",
      "#ff4c4a,None,2.0,volcanic,,,\n",
      "#86f0b6,None,5.0,conglomerate,,,\n",
      "#ff96f6,None,2.0,halite,,,\n",
      "#f2ff42,None,4.0,sandstone,grey,f-m,\n",
      "#dbc9bc,None,3.0,heterolithic,red,,\n",
      "#a68374,None,2.0,siltstone,grey,,\n",
      "#a657fa,None,3.0,dolomite,,,\n",
      "#ffd073,None,4.0,sandstone,red,c-m,\n",
      "#a6d1ff,None,3.0,limestone,,,\n",
      "#ffdbba,None,3.0,sandstone,red,vf-f,\n",
      "#ffe040,None,4.0,sandstone,grey,c-m,\n",
      "#a1655a,None,2.0,siltstone,red,,\n",
      "#363434,None,1.0,coal,,,\n",
      "#664a4a,None,1.0,mudstone,red,,\n",
      "#666666,None,1.0,mudstone,grey,,\n",
      "\n"
     ]
    }
   ],
   "source": [
    "print(legend.to_csv())"
   ]
  },
  {
   "cell_type": "markdown",
   "metadata": {
    "internals": {},
    "slideshow": {
     "slide_type": "-"
    }
   },
   "source": [
    "## Builtin legends\n",
    "\n",
    "There are several: \n",
    "\n",
    "    'nsdoe': Nova Scotia Dept. of Energy\n",
    "    'nagmdm__6_2': USGS N. Am. Geol. Map Data Model 6.2 <<< default\n",
    "    'nagmdm__6_1': USGS N. Am. Geol. Map Data Model 6.1\n",
    "    'nagmdm__4_3': USGS N. Am. Geol. Map Data Model 4.3\n",
    "    'sgmc': USGS State Geologic Map Compilation"
   ]
  },
  {
   "cell_type": "code",
   "execution_count": 20,
   "metadata": {
    "collapsed": false,
    "internals": {},
    "scrolled": true,
    "slideshow": {
     "slide_type": "-"
    }
   },
   "outputs": [
    {
     "data": {
      "text/plain": [
       "Legend(Decor({'hatch': None, 'component': Component({'lithology': 'sandstone', 'colour': 'grey', 'grainsize': 'vf-f'}), 'width': 3.0, 'colour': '#f7e9a6'})\n",
       "Decor({'hatch': None, 'component': Component({'lithology': 'anhydrite'}), 'width': 2.0, 'colour': '#ff99cc'})\n",
       "Decor({'hatch': None, 'component': Component({'lithology': 'heterolithic', 'colour': 'grey'}), 'width': 3.0, 'colour': '#dbd6bc'})\n",
       "Decor({'hatch': None, 'component': Component({'lithology': 'volcanic'}), 'width': 2.0, 'colour': '#ff4c4a'})\n",
       "Decor({'hatch': None, 'component': Component({'lithology': 'conglomerate'}), 'width': 5.0, 'colour': '#86f0b6'})\n",
       "Decor({'hatch': None, 'component': Component({'lithology': 'halite'}), 'width': 2.0, 'colour': '#ff96f6'})\n",
       "Decor({'hatch': None, 'component': Component({'lithology': 'sandstone', 'colour': 'grey', 'grainsize': 'f-m'}), 'width': 4.0, 'colour': '#f2ff42'})\n",
       "Decor({'hatch': None, 'component': Component({'lithology': 'heterolithic', 'colour': 'red'}), 'width': 3.0, 'colour': '#dbc9bc'})\n",
       "Decor({'hatch': None, 'component': Component({'lithology': 'siltstone', 'colour': 'grey'}), 'width': 2.0, 'colour': '#a68374'})\n",
       "Decor({'hatch': None, 'component': Component({'lithology': 'dolomite'}), 'width': 3.0, 'colour': '#a657fa'})\n",
       "Decor({'hatch': None, 'component': Component({'lithology': 'sandstone', 'colour': 'red', 'grainsize': 'c-m'}), 'width': 4.0, 'colour': '#ffd073'})\n",
       "Decor({'hatch': None, 'component': Component({'lithology': 'limestone'}), 'width': 3.0, 'colour': '#a6d1ff'})\n",
       "Decor({'hatch': None, 'component': Component({'lithology': 'sandstone', 'colour': 'red', 'grainsize': 'vf-f'}), 'width': 3.0, 'colour': '#ffdbba'})\n",
       "Decor({'hatch': None, 'component': Component({'lithology': 'sandstone', 'colour': 'grey', 'grainsize': 'c-m'}), 'width': 4.0, 'colour': '#ffe040'})\n",
       "Decor({'hatch': None, 'component': Component({'lithology': 'siltstone', 'colour': 'red'}), 'width': 2.0, 'colour': '#a1655a'})\n",
       "Decor({'hatch': None, 'component': Component({'lithology': 'coal'}), 'width': 1.0, 'colour': '#363434'})\n",
       "Decor({'hatch': None, 'component': Component({'lithology': 'mudstone', 'colour': 'red'}), 'width': 1.0, 'colour': '#664a4a'})\n",
       "Decor({'hatch': None, 'component': Component({'lithology': 'mudstone', 'colour': 'grey'}), 'width': 1.0, 'colour': '#666666'}))"
      ]
     },
     "execution_count": 20,
     "metadata": {},
     "output_type": "execute_result"
    }
   ],
   "source": [
    "legend = Legend.builtin('nsdoe')\n",
    "legend"
   ]
  },
  {
   "cell_type": "markdown",
   "metadata": {},
   "source": [
    "There is also a default legend, which you can call with `Legend.default()` (no arguments)."
   ]
  },
  {
   "cell_type": "code",
   "execution_count": 21,
   "metadata": {
    "collapsed": false
   },
   "outputs": [
    {
     "data": {
      "text/plain": [
       "Legend(Decor({'hatch': None, 'component': Component({'lithology': 'unconsolidated material'}), 'width': None, 'colour': '#fdf43f'})\n",
       "Decor({'hatch': None, 'component': Component({'lithology': 'alluvium'}), 'width': None, 'colour': '#ffff89'})\n",
       "Decor({'hatch': None, 'component': Component({'lithology': 'flood plain'}), 'width': None, 'colour': '#ffffd5'})\n",
       "Decor({'hatch': None, 'component': Component({'lithology': 'levee'}), 'width': None, 'colour': '#fffae9'})\n",
       "Decor({'hatch': None, 'component': Component({'lithology': 'delta'}), 'width': None, 'colour': '#fffac8'})\n",
       "Decor({'hatch': None, 'component': Component({'lithology': 'alluvial fan'}), 'width': None, 'colour': '#ffffb7'})\n",
       "Decor({'hatch': None, 'component': Component({'lithology': 'alluvial terrace'}), 'width': None, 'colour': '#faee7a'})\n",
       "Decor({'hatch': None, 'component': Component({'lithology': 'lake or marine sediment'}), 'width': None, 'colour': '#f4efe4'})\n",
       "Decor({'hatch': None, 'component': Component({'lithology': 'playa'}), 'width': None, 'colour': '#f1e5df'})\n",
       "Decor({'hatch': None, 'component': Component({'lithology': 'mud flat'}), 'width': None, 'colour': '#e4d0be'})\n",
       "Decor({'hatch': None, 'component': Component({'lithology': 'beach sand'}), 'width': None, 'colour': '#e4d8be'})\n",
       "Decor({'hatch': None, 'component': Component({'lithology': 'terrace'}), 'width': None, 'colour': '#fff6d9'})\n",
       "Decor({'hatch': None, 'component': Component({'lithology': 'eolian material'}), 'width': None, 'colour': '#e0c59e'})\n",
       "Decor({'hatch': None, 'component': Component({'lithology': 'dune sand'}), 'width': None, 'colour': '#e0d2b4'})\n",
       "Decor({'hatch': None, 'component': Component({'lithology': 'sand sheet'}), 'width': None, 'colour': '#dbcca9'})\n",
       "Decor({'hatch': None, 'component': Component({'lithology': 'loess'}), 'width': None, 'colour': '#f5e1bd'})\n",
       "Decor({'hatch': None, 'component': Component({'lithology': 'volcanic ash'}), 'width': None, 'colour': '#e0b09e'})\n",
       "Decor({'hatch': None, 'component': Component({'lithology': 'mass wasting material'}), 'width': None, 'colour': '#cfbb8f'})\n",
       "Decor({'hatch': None, 'component': Component({'lithology': 'colluvium'}), 'width': None, 'colour': '#e1e3c3'})\n",
       "Decor({'hatch': None, 'component': Component({'lithology': 'mudflow'}), 'width': None, 'colour': '#e5dbb3'})\n",
       "Decor({'hatch': None, 'component': Component({'lithology': 'lahar'}), 'width': None, 'colour': '#dcd5b4'})\n",
       "Decor({'hatch': None, 'component': Component({'lithology': 'debris flow'}), 'width': None, 'colour': '#d3ca9f'})\n",
       "Decor({'hatch': None, 'component': Component({'lithology': 'landslide'}), 'width': None, 'colour': '#c9be89'})\n",
       "Decor({'hatch': None, 'component': Component({'lithology': 'talus'}), 'width': None, 'colour': '#bcaf6c'})\n",
       "Decor({'hatch': None, 'component': Component({'lithology': 'glacial drift'}), 'width': None, 'colour': '#bfa743'})\n",
       "Decor({'hatch': None, 'component': Component({'lithology': 'till'}), 'width': None, 'colour': '#d2c27c'})\n",
       "Decor({'hatch': None, 'component': Component({'lithology': 'moraine'}), 'width': None, 'colour': '#ffeebf'})\n",
       "Decor({'hatch': None, 'component': Component({'lithology': 'stratified glacial sediment'}), 'width': None, 'colour': '#ffe59d'})\n",
       "Decor({'hatch': None, 'component': Component({'lithology': 'glacial outwash sediment'}), 'width': None, 'colour': '#ffdf85'})\n",
       "Decor({'hatch': None, 'component': Component({'lithology': 'sub/supra-glacial sediment'}), 'width': None, 'colour': '#fee670'})\n",
       "Decor({'hatch': None, 'component': Component({'lithology': 'glaciolacustrine sediment'}), 'width': None, 'colour': '#fee258'})\n",
       "Decor({'hatch': None, 'component': Component({'lithology': 'glacial-marine sediment'}), 'width': None, 'colour': '#fedb2e'})\n",
       "Decor({'hatch': None, 'component': Component({'lithology': 'biogenic rock'}), 'width': None, 'colour': '#f7f3a1'})\n",
       "Decor({'hatch': None, 'component': Component({'lithology': 'peat'}), 'width': None, 'colour': '#ffcf81'})\n",
       "Decor({'hatch': None, 'component': Component({'lithology': 'coral'}), 'width': None, 'colour': '#ffcc99'})\n",
       "Decor({'hatch': None, 'component': Component({'lithology': 'residuum'}), 'width': None, 'colour': '#ffe389'})\n",
       "Decor({'hatch': None, 'component': Component({'lithology': 'clay or mud'}), 'width': None, 'colour': '#ffdb67'})\n",
       "Decor({'hatch': None, 'component': Component({'lithology': 'silt'}), 'width': None, 'colour': '#ffd345'})\n",
       "Decor({'hatch': None, 'component': Component({'lithology': 'sand'}), 'width': None, 'colour': '#ffcb23'})\n",
       "Decor({'hatch': None, 'component': Component({'lithology': 'gravel'}), 'width': None, 'colour': '#ecb400'})\n",
       "Decor({'hatch': None, 'component': Component({'lithology': 'sedimentary rock'}), 'width': None, 'colour': '#92dcb7'})\n",
       "Decor({'hatch': None, 'component': Component({'lithology': 'clastic rock'}), 'width': None, 'colour': '#d9fdd3'})\n",
       "Decor({'hatch': None, 'component': Component({'lithology': 'mudstone'}), 'width': None, 'colour': '#cfefdf'})\n",
       "Decor({'hatch': None, 'component': Component({'lithology': 'claystone'}), 'width': None, 'colour': '#d5e6cc'})\n",
       "Decor({'hatch': None, 'component': Component({'lithology': 'bentonite'}), 'width': None, 'colour': '#c0d0c0'})\n",
       "Decor({'hatch': None, 'component': Component({'lithology': 'shale'}), 'width': None, 'colour': '#ace4c8'})\n",
       "Decor({'hatch': None, 'component': Component({'lithology': 'black shale'}), 'width': None, 'colour': '#dbfebc'})\n",
       "Decor({'hatch': None, 'component': Component({'lithology': 'oil shale'}), 'width': None, 'colour': '#bbffdd'})\n",
       "Decor({'hatch': None, 'component': Component({'lithology': 'argillite'}), 'width': None, 'colour': '#e1f0d8'})\n",
       "Decor({'hatch': None, 'component': Component({'lithology': 'siltstone'}), 'width': None, 'colour': '#d6fe9a'})\n",
       "Decor({'hatch': None, 'component': Component({'lithology': 'fine-grained mixed clastic rock'}), 'width': None, 'colour': '#95ffca'})\n",
       "Decor({'hatch': None, 'component': Component({'lithology': 'sandstone'}), 'width': None, 'colour': '#cdffd9'})\n",
       "Decor({'hatch': None, 'component': Component({'lithology': 'arenite'}), 'width': None, 'colour': '#a6fcaa'})\n",
       "Decor({'hatch': None, 'component': Component({'lithology': 'orthoquartzite'}), 'width': None, 'colour': '#cbefce'})\n",
       "Decor({'hatch': None, 'component': Component({'lithology': 'calcarenite'}), 'width': None, 'colour': '#9acefe'})\n",
       "Decor({'hatch': None, 'component': Component({'lithology': 'arkose'}), 'width': None, 'colour': '#69cf9c'})\n",
       "Decor({'hatch': None, 'component': Component({'lithology': 'wacke'}), 'width': None, 'colour': '#bddbf1'})\n",
       "Decor({'hatch': None, 'component': Component({'lithology': 'graywacke'}), 'width': None, 'colour': '#b8eac3'})\n",
       "Decor({'hatch': None, 'component': Component({'lithology': 'medium-grained mixed clastic rock'}), 'width': None, 'colour': '#90a565'})\n",
       "Decor({'hatch': None, 'component': Component({'lithology': 'conglomerate'}), 'width': None, 'colour': '#b7d9cc'})\n",
       "Decor({'hatch': None, 'component': Component({'lithology': 'sedimentary breccia'}), 'width': None, 'colour': '#a7ba86'})\n",
       "Decor({'hatch': None, 'component': Component({'lithology': 'coarse-grained mixed clastic rock'}), 'width': None, 'colour': '#a5aaad'})\n",
       "Decor({'hatch': None, 'component': Component({'lithology': 'olistostrome'}), 'width': None, 'colour': '#8dbecd'})\n",
       "Decor({'hatch': None, 'component': Component({'lithology': 'melange'}), 'width': None, 'colour': '#bbc0c5'})\n",
       "Decor({'hatch': None, 'component': Component({'lithology': 'carbonate rock'}), 'width': None, 'colour': '#56e0fc'})\n",
       "Decor({'hatch': None, 'component': Component({'lithology': 'limestone'}), 'width': None, 'colour': '#43aff9'})\n",
       "Decor({'hatch': None, 'component': Component({'lithology': 'dolostone'}), 'width': None, 'colour': '#6bc3ff'})\n",
       "Decor({'hatch': None, 'component': Component({'lithology': 'mixed carbonate/clastic rock'}), 'width': None, 'colour': '#38b4b1'})\n",
       "Decor({'hatch': None, 'component': Component({'lithology': 'mixed volcanic/clastic rock'}), 'width': None, 'colour': '#60ccbf'})\n",
       "Decor({'hatch': None, 'component': Component({'lithology': 'phosphorite'}), 'width': None, 'colour': '#bfe3dc'})\n",
       "Decor({'hatch': None, 'component': Component({'lithology': 'chemical sedimentary rock'}), 'width': None, 'colour': '#cddeff'})\n",
       "Decor({'hatch': None, 'component': Component({'lithology': 'evaporite'}), 'width': None, 'colour': '#019ccd'})\n",
       "Decor({'hatch': None, 'component': Component({'lithology': 'chert'}), 'width': None, 'colour': '#9abfc0'})\n",
       "Decor({'hatch': None, 'component': Component({'lithology': 'novaculite'}), 'width': None, 'colour': '#c0aeb6'})\n",
       "Decor({'hatch': None, 'component': Component({'lithology': 'iron formation'}), 'width': None, 'colour': '#b99598'})\n",
       "Decor({'hatch': None, 'component': Component({'lithology': 'exhalite'}), 'width': None, 'colour': '#d9c2a3'})\n",
       "Decor({'hatch': None, 'component': Component({'lithology': 'coal'}), 'width': None, 'colour': '#820041'})\n",
       "Decor({'hatch': None, 'component': Component({'lithology': 'mixed coal and clastic rock'}), 'width': None, 'colour': '#6e4909'})\n",
       "Decor({'hatch': None, 'component': Component({'lithology': 'plutonic rock'}), 'width': None, 'colour': '#fc6e7c'})\n",
       "Decor({'hatch': None, 'component': Component({'lithology': 'aplite'}), 'width': None, 'colour': '#ffc1b7'})\n",
       "Decor({'hatch': None, 'component': Component({'lithology': 'porphyry'}), 'width': None, 'colour': '#ffe1e8'})\n",
       "Decor({'hatch': None, 'component': Component({'lithology': 'lampophyre'}), 'width': None, 'colour': '#e45891'})\n",
       "Decor({'hatch': None, 'component': Component({'lithology': 'pegmatite'}), 'width': None, 'colour': '#ffeff3'})\n",
       "Decor({'hatch': None, 'component': Component({'lithology': 'granitoid'}), 'width': None, 'colour': '#dd2972'})\n",
       "Decor({'hatch': None, 'component': Component({'lithology': 'alkali-feldspar granite'}), 'width': None, 'colour': '#ffd1dc'})\n",
       "Decor({'hatch': None, 'component': Component({'lithology': 'granite'}), 'width': None, 'colour': '#f9b5bb'})\n",
       "Decor({'hatch': None, 'component': Component({'lithology': 'peraluminous granite'}), 'width': None, 'colour': '#f8beae'})\n",
       "Decor({'hatch': None, 'component': Component({'lithology': 'metaluminous granite'}), 'width': None, 'colour': '#ffb3c5'})\n",
       "Decor({'hatch': None, 'component': Component({'lithology': 'subaluminous granite'}), 'width': None, 'colour': '#ff6f6b'})\n",
       "Decor({'hatch': None, 'component': Component({'lithology': 'peralkaline granite'}), 'width': None, 'colour': '#fc5262'})\n",
       "Decor({'hatch': None, 'component': Component({'lithology': 'granodiorite'}), 'width': None, 'colour': '#e979a6'})\n",
       "Decor({'hatch': None, 'component': Component({'lithology': 'tonalite'}), 'width': None, 'colour': '#fcb6b6'})\n",
       "Decor({'hatch': None, 'component': Component({'lithology': 'trondhjemite'}), 'width': None, 'colour': '#ffa7bc'})\n",
       "Decor({'hatch': None, 'component': Component({'lithology': 'alkali-feldpar syenite'}), 'width': None, 'colour': '#f43c6c'})\n",
       "Decor({'hatch': None, 'component': Component({'lithology': 'quartz syenite'}), 'width': None, 'colour': '#fb2338'})\n",
       "Decor({'hatch': None, 'component': Component({'lithology': 'syenite'}), 'width': None, 'colour': '#f41a87'})\n",
       "Decor({'hatch': None, 'component': Component({'lithology': 'quartz monzonite'}), 'width': None, 'colour': '#ff6388'})\n",
       "Decor({'hatch': None, 'component': Component({'lithology': 'monzonite'}), 'width': None, 'colour': '#ff275a'})\n",
       "Decor({'hatch': None, 'component': Component({'lithology': 'quartz monzodiorite'}), 'width': None, 'colour': '#ff819f'})\n",
       "Decor({'hatch': None, 'component': Component({'lithology': 'monzodiorite'}), 'width': None, 'colour': '#ffa99d'})\n",
       "Decor({'hatch': None, 'component': Component({'lithology': 'quartz diorite'}), 'width': None, 'colour': '#e81c00'})\n",
       "Decor({'hatch': None, 'component': Component({'lithology': 'diorite'}), 'width': None, 'colour': '#ff3317'})\n",
       "Decor({'hatch': None, 'component': Component({'lithology': 'diabase'}), 'width': None, 'colour': '#d60000'})\n",
       "Decor({'hatch': None, 'component': Component({'lithology': 'gabbroid'}), 'width': None, 'colour': '#ac0000'})\n",
       "Decor({'hatch': None, 'component': Component({'lithology': 'quartz monzogabbro'}), 'width': None, 'colour': '#ff6f5b'})\n",
       "Decor({'hatch': None, 'component': Component({'lithology': 'monzogabbro'}), 'width': None, 'colour': '#e377ad'})\n",
       "Decor({'hatch': None, 'component': Component({'lithology': 'quartz gabbro'}), 'width': None, 'colour': '#eda7ca'})\n",
       "Decor({'hatch': None, 'component': Component({'lithology': 'gabbro'}), 'width': None, 'colour': '#e993be'})\n",
       "Decor({'hatch': None, 'component': Component({'lithology': 'norite'}), 'width': None, 'colour': '#ffd6d1'})\n",
       "Decor({'hatch': None, 'component': Component({'lithology': 'troctolite'}), 'width': None, 'colour': '#ffbfce'})\n",
       "Decor({'hatch': None, 'component': Component({'lithology': 'anorthosite'}), 'width': None, 'colour': '#ff95ae'})\n",
       "Decor({'hatch': None, 'component': Component({'lithology': 'alkalic intrusive rock'}), 'width': None, 'colour': '#ff6f91'})\n",
       "Decor({'hatch': None, 'component': Component({'lithology': 'nepheline syenite'}), 'width': None, 'colour': '#ff1b51'})\n",
       "Decor({'hatch': None, 'component': Component({'lithology': 'ultramafic intrusive rock'}), 'width': None, 'colour': '#e80037'})\n",
       "Decor({'hatch': None, 'component': Component({'lithology': 'peridotite'}), 'width': None, 'colour': '#ce0031'})\n",
       "Decor({'hatch': None, 'component': Component({'lithology': 'dunite'}), 'width': None, 'colour': '#b0002a'})\n",
       "Decor({'hatch': None, 'component': Component({'lithology': 'kimberlite'}), 'width': None, 'colour': '#c1010a'})\n",
       "Decor({'hatch': None, 'component': Component({'lithology': 'pyroxenite'}), 'width': None, 'colour': '#940023'})\n",
       "Decor({'hatch': None, 'component': Component({'lithology': 'hornblendite'}), 'width': None, 'colour': '#a30109'})\n",
       "Decor({'hatch': None, 'component': Component({'lithology': 'intrusive carbonatite'}), 'width': None, 'colour': '#750107'})\n",
       "Decor({'hatch': None, 'component': Component({'lithology': 'volcanic rock'}), 'width': None, 'colour': '#ffb7de'})\n",
       "Decor({'hatch': None, 'component': Component({'lithology': 'glassy volcanic rock'}), 'width': None, 'colour': '#ffc3e4'})\n",
       "Decor({'hatch': None, 'component': Component({'lithology': 'obsidian'}), 'width': None, 'colour': '#ffd1ea'})\n",
       "Decor({'hatch': None, 'component': Component({'lithology': 'vitrophyre'}), 'width': None, 'colour': '#ffc3f8'})\n",
       "Decor({'hatch': None, 'component': Component({'lithology': 'pumice'}), 'width': None, 'colour': '#ffe5f3'})\n",
       "Decor({'hatch': None, 'component': Component({'lithology': 'pyroclastic'}), 'width': None, 'colour': '#ffe0de'})\n",
       "Decor({'hatch': None, 'component': Component({'lithology': 'tuff'}), 'width': None, 'colour': '#f9d3d3'})\n",
       "Decor({'hatch': None, 'component': Component({'lithology': 'welded tuff'}), 'width': None, 'colour': '#fff3c9'})\n",
       "Decor({'hatch': None, 'component': Component({'lithology': 'ash-flow tuff'}), 'width': None, 'colour': '#ffefd9'})\n",
       "Decor({'hatch': None, 'component': Component({'lithology': 'ignimbrite'}), 'width': None, 'colour': '#ffe5c3'})\n",
       "Decor({'hatch': None, 'component': Component({'lithology': 'volcanic breccia'}), 'width': None, 'colour': '#ffd59d'})\n",
       "Decor({'hatch': None, 'component': Component({'lithology': 'lava flow'}), 'width': None, 'colour': '#ffa227'})\n",
       "Decor({'hatch': None, 'component': Component({'lithology': 'bimodal suite'}), 'width': None, 'colour': '#ffc16f'})\n",
       "Decor({'hatch': None, 'component': Component({'lithology': 'felsic volcanic rock'}), 'width': None, 'colour': '#f48b00'})\n",
       "Decor({'hatch': None, 'component': Component({'lithology': 'alkali-feldspar rhyolite'}), 'width': None, 'colour': '#fedc7e'})\n",
       "Decor({'hatch': None, 'component': Component({'lithology': 'rhyolite'}), 'width': None, 'colour': '#fecc68'})\n",
       "Decor({'hatch': None, 'component': Component({'lithology': 'rhyodacite'}), 'width': None, 'colour': '#fec62a'})\n",
       "Decor({'hatch': None, 'component': Component({'lithology': 'dacite'}), 'width': None, 'colour': '#fecdac'})\n",
       "Decor({'hatch': None, 'component': Component({'lithology': 'alkali-feldspar trachyte'}), 'width': None, 'colour': '#feb786'})\n",
       "Decor({'hatch': None, 'component': Component({'lithology': 'trachyte'}), 'width': None, 'colour': '#fea060'})\n",
       "Decor({'hatch': None, 'component': Component({'lithology': 'quartz latite'}), 'width': None, 'colour': '#fe8736'})\n",
       "Decor({'hatch': None, 'component': Component({'lithology': 'latite'}), 'width': None, 'colour': '#fe7518'})\n",
       "Decor({'hatch': None, 'component': Component({'lithology': 'intermediate volcanic rock'}), 'width': None, 'colour': '#eb6001'})\n",
       "Decor({'hatch': None, 'component': Component({'lithology': 'trachyandesite'}), 'width': None, 'colour': '#c95201'})\n",
       "Decor({'hatch': None, 'component': Component({'lithology': 'andesite'}), 'width': None, 'colour': '#b14801'})\n",
       "Decor({'hatch': None, 'component': Component({'lithology': 'mafic volcanic rock'}), 'width': None, 'colour': '#933c01'})\n",
       "Decor({'hatch': None, 'component': Component({'lithology': 'trachybasalt'}), 'width': None, 'colour': '#ecd5c6'})\n",
       "Decor({'hatch': None, 'component': Component({'lithology': 'basalt'}), 'width': None, 'colour': '#ddb397'})\n",
       "Decor({'hatch': None, 'component': Component({'lithology': 'tholeite'}), 'width': None, 'colour': '#d39d79'})\n",
       "Decor({'hatch': None, 'component': Component({'lithology': 'hawaiite'}), 'width': None, 'colour': '#c68050'})\n",
       "Decor({'hatch': None, 'component': Component({'lithology': 'alkaline basalt'}), 'width': None, 'colour': '#a96537'})\n",
       "Decor({'hatch': None, 'component': Component({'lithology': 'alkalic volcanic rock'}), 'width': None, 'colour': '#c24100'})\n",
       "Decor({'hatch': None, 'component': Component({'lithology': 'phonolite'}), 'width': None, 'colour': '#5f391f'})\n",
       "Decor({'hatch': None, 'component': Component({'lithology': 'tephrite'}), 'width': None, 'colour': '#854f2b'})\n",
       "Decor({'hatch': None, 'component': Component({'lithology': 'ultramafitite'}), 'width': None, 'colour': '#a03500'})\n",
       "Decor({'hatch': None, 'component': Component({'lithology': 'volcanic carbonatite'}), 'width': None, 'colour': '#6e2500'})\n",
       "Decor({'hatch': None, 'component': Component({'lithology': 'metamorphic rock'}), 'width': None, 'colour': '#a7a7ff'})\n",
       "Decor({'hatch': None, 'component': Component({'lithology': 'hornfels'}), 'width': None, 'colour': '#eaafff'})\n",
       "Decor({'hatch': None, 'component': Component({'lithology': 'metasedimentary rock'}), 'width': None, 'colour': '#7dff7d'})\n",
       "Decor({'hatch': None, 'component': Component({'lithology': 'meta-argillite'}), 'width': None, 'colour': '#c9ffc9'})\n",
       "Decor({'hatch': None, 'component': Component({'lithology': 'slate'}), 'width': None, 'colour': '#e6cdff'})\n",
       "Decor({'hatch': None, 'component': Component({'lithology': 'quartzite'}), 'width': None, 'colour': '#9fff9f'})\n",
       "Decor({'hatch': None, 'component': Component({'lithology': 'metaconglomerate'}), 'width': None, 'colour': '#e9ffe9'})\n",
       "Decor({'hatch': None, 'component': Component({'lithology': 'marble'}), 'width': None, 'colour': '#0000ff'})\n",
       "Decor({'hatch': None, 'component': Component({'lithology': 'metavolcanic rock'}), 'width': None, 'colour': '#ff57ff'})\n",
       "Decor({'hatch': None, 'component': Component({'lithology': 'felsic metavolcanic rock'}), 'width': None, 'colour': '#ff8dff'})\n",
       "Decor({'hatch': None, 'component': Component({'lithology': 'metarhyolite'}), 'width': None, 'colour': '#ffa7ff'})\n",
       "Decor({'hatch': None, 'component': Component({'lithology': 'keratophyre'}), 'width': None, 'colour': '#fe6700'})\n",
       "Decor({'hatch': None, 'component': Component({'lithology': 'intermediate metavolcanic rock'}), 'width': None, 'colour': '#ff0000'})\n",
       "Decor({'hatch': None, 'component': Component({'lithology': 'mafic metavolcanic rock'}), 'width': None, 'colour': '#b93b68'})\n",
       "Decor({'hatch': None, 'component': Component({'lithology': 'metabasalt'}), 'width': None, 'colour': '#872b4c'})\n",
       "Decor({'hatch': None, 'component': Component({'lithology': 'spilite'}), 'width': None, 'colour': '#c9557e'})\n",
       "Decor({'hatch': None, 'component': Component({'lithology': 'greenstone'}), 'width': None, 'colour': '#008000'})\n",
       "Decor({'hatch': None, 'component': Component({'lithology': 'phyllite'}), 'width': None, 'colour': '#b4cfe4'})\n",
       "Decor({'hatch': None, 'component': Component({'lithology': 'schist'}), 'width': None, 'colour': '#dbdbe7'})\n",
       "Decor({'hatch': None, 'component': Component({'lithology': 'greenschist'}), 'width': None, 'colour': '#ededf3'})\n",
       "Decor({'hatch': None, 'component': Component({'lithology': 'blueschist'}), 'width': None, 'colour': '#c0c0c0'})\n",
       "Decor({'hatch': None, 'component': Component({'lithology': 'mica schist'}), 'width': None, 'colour': '#b1b1b1'})\n",
       "Decor({'hatch': None, 'component': Component({'lithology': 'pelitic schist'}), 'width': None, 'colour': '#cacadc'})\n",
       "Decor({'hatch': None, 'component': Component({'lithology': 'quartz-feldspar schist'}), 'width': None, 'colour': '#a2a2c0'})\n",
       "Decor({'hatch': None, 'component': Component({'lithology': 'calc-silicate schist'}), 'width': None, 'colour': '#b6b6ce'})\n",
       "Decor({'hatch': None, 'component': Component({'lithology': 'amphibole schist'}), 'width': None, 'colour': '#969696'})\n",
       "Decor({'hatch': None, 'component': Component({'lithology': 'granofels'}), 'width': None, 'colour': '#a337fd'})\n",
       "Decor({'hatch': None, 'component': Component({'lithology': 'gneiss'}), 'width': None, 'colour': '#ecd6fe'})\n",
       "Decor({'hatch': None, 'component': Component({'lithology': 'felsic gneiss'}), 'width': None, 'colour': '#e0bcfe'})\n",
       "Decor({'hatch': None, 'component': Component({'lithology': 'granitic gneiss'}), 'width': None, 'colour': '#d5a4fe'})\n",
       "Decor({'hatch': None, 'component': Component({'lithology': 'biotite gneiss'}), 'width': None, 'colour': '#c886fe'})\n",
       "Decor({'hatch': None, 'component': Component({'lithology': 'mafic gneiss'}), 'width': None, 'colour': '#ccb7ff'})\n",
       "Decor({'hatch': None, 'component': Component({'lithology': 'orthogneiss'}), 'width': None, 'colour': '#b395ff'})\n",
       "Decor({'hatch': None, 'component': Component({'lithology': 'paragneiss'}), 'width': None, 'colour': '#9063ff'})\n",
       "Decor({'hatch': None, 'component': Component({'lithology': 'migmatite'}), 'width': None, 'colour': '#9f00ca'})\n",
       "Decor({'hatch': None, 'component': Component({'lithology': 'amphibolite'}), 'width': None, 'colour': '#7b009c'})\n",
       "Decor({'hatch': None, 'component': Component({'lithology': 'granulite'}), 'width': None, 'colour': '#6a006a'})\n",
       "Decor({'hatch': None, 'component': Component({'lithology': 'eclogite'}), 'width': None, 'colour': '#ce9dff'})\n",
       "Decor({'hatch': None, 'component': Component({'lithology': 'greisen'}), 'width': None, 'colour': '#a449ff'})\n",
       "Decor({'hatch': None, 'component': Component({'lithology': 'skarn'}), 'width': None, 'colour': '#8103ff'})\n",
       "Decor({'hatch': None, 'component': Component({'lithology': 'calc-silicate rock'}), 'width': None, 'colour': '#46008c'})\n",
       "Decor({'hatch': None, 'component': Component({'lithology': 'serpentinite'}), 'width': None, 'colour': '#005c00'})\n",
       "Decor({'hatch': None, 'component': Component({'lithology': 'tectonite'}), 'width': None, 'colour': '#84613e'})\n",
       "Decor({'hatch': None, 'component': Component({'lithology': 'tectonic melange'}), 'width': None, 'colour': '#d0cbb0'})\n",
       "Decor({'hatch': None, 'component': Component({'lithology': 'tectonic breccia'}), 'width': None, 'colour': '#b0a778'})\n",
       "Decor({'hatch': None, 'component': Component({'lithology': 'cataclasite'}), 'width': None, 'colour': '#887f50'})\n",
       "Decor({'hatch': None, 'component': Component({'lithology': 'phyllonite'}), 'width': None, 'colour': '#ac7f50'})\n",
       "Decor({'hatch': None, 'component': Component({'lithology': 'mylonite'}), 'width': None, 'colour': '#6d5033'})\n",
       "Decor({'hatch': None, 'component': Component({'lithology': 'flaser gneiss'}), 'width': None, 'colour': '#64020b'})\n",
       "Decor({'hatch': None, 'component': Component({'lithology': 'augen gneiss'}), 'width': None, 'colour': '#887f50'}))"
      ]
     },
     "execution_count": 21,
     "metadata": {},
     "output_type": "execute_result"
    }
   ],
   "source": [
    "Legend.default()"
   ]
  },
  {
   "cell_type": "markdown",
   "metadata": {},
   "source": [
    "There are also default timescales:"
   ]
  },
  {
   "cell_type": "code",
   "execution_count": 22,
   "metadata": {
    "collapsed": false,
    "internals": {},
    "slideshow": {
     "slide_type": "-"
    }
   },
   "outputs": [
    {
     "data": {
      "text/plain": [
       "Legend(Decor({'hatch': None, 'component': Component({'age': 'phanerozoic'}), 'width': None, 'colour': '#6fdaed'})\n",
       "Decor({'hatch': None, 'component': Component({'age': 'cenozoic'}), 'width': None, 'colour': '#f6ec39'})\n",
       "Decor({'hatch': None, 'component': Component({'age': 'quaternary'}), 'width': None, 'colour': '#fef691'})\n",
       "Decor({'hatch': None, 'component': Component({'age': 'tertiary'}), 'width': None, 'colour': '#f2f902'})\n",
       "Decor({'hatch': None, 'component': Component({'age': 'neogene'}), 'width': None, 'colour': '#fedd2d'})\n",
       "Decor({'hatch': None, 'component': Component({'age': 'holocene'}), 'width': None, 'colour': '#fef1e0'})\n",
       "Decor({'hatch': None, 'component': Component({'age': 'pleistocene'}), 'width': None, 'colour': '#feefb8'})\n",
       "Decor({'hatch': None, 'component': Component({'age': 'upper pleistocene'}), 'width': None, 'colour': '#fef1d6'})\n",
       "Decor({'hatch': None, 'component': Component({'age': 'tarantian'}), 'width': None, 'colour': '#fef1d6'})\n",
       "Decor({'hatch': None, 'component': Component({'age': 'middle pleistocene'}), 'width': None, 'colour': '#fef0cc'}))"
      ]
     },
     "execution_count": 22,
     "metadata": {},
     "output_type": "execute_result"
    }
   ],
   "source": [
    "time = Legend.default_timescale()\n",
    "time[:10]"
   ]
  },
  {
   "cell_type": "markdown",
   "metadata": {},
   "source": [
    "## Legend from image"
   ]
  },
  {
   "cell_type": "code",
   "execution_count": 23,
   "metadata": {
    "collapsed": false
   },
   "outputs": [
    {
     "data": {
      "image/png": "[encoded data removed]",
      "text/plain": [
       "<IPython.core.display.Image object>"
      ]
     },
     "execution_count": 23,
     "metadata": {
      "image/png": {
       "width": 15
      }
     },
     "output_type": "execute_result"
    }
   ],
   "source": [
    "from IPython.display import Image\n",
    "Image('z_Lithology_legend_gapless2.png', width=15)"
   ]
  },
  {
   "cell_type": "code",
   "execution_count": 24,
   "metadata": {
    "collapsed": true
   },
   "outputs": [],
   "source": [
    "liths = [\n",
    "'Conglomerate', \n",
    "'Sandstone',\n",
    "'Sandstone',\n",
    "'Sandstone',\n",
    "'Sandstone',\n",
    "'Sandstone',\n",
    "'Siltstone',\n",
    "'Siltstone',\n",
    "'Heterolithic',\n",
    "'Heterolithic',\n",
    "'Mudstone',\n",
    "'Mudstone',\n",
    "'Limestone',\n",
    "'Dolomite',\n",
    "'Anhydrite',\n",
    "'Halite',\n",
    "'Coal',\n",
    "'Volcanic',\n",
    "'NULL',\n",
    "]\n",
    "\n",
    "colours = [\n",
    "None, \n",
    "'Grey',\n",
    "'Red',\n",
    "'Grey',\n",
    "'Grey',\n",
    "'Red',\n",
    "'Grey',\n",
    "'Red',\n",
    "'Grey',\n",
    "'Red',\n",
    "'Grey',\n",
    "'Red',\n",
    "None, \n",
    "None, \n",
    "None, \n",
    "None, \n",
    "None, \n",
    "None, \n",
    "None, \n",
    "]"
   ]
  },
  {
   "cell_type": "code",
   "execution_count": 25,
   "metadata": {
    "collapsed": false
   },
   "outputs": [],
   "source": [
    "components = [Component({'lithology': l, 'colour': c}) for l, c in zip(liths, colours)]"
   ]
  },
  {
   "cell_type": "code",
   "execution_count": 27,
   "metadata": {
    "collapsed": false
   },
   "outputs": [
    {
     "data": {
      "image/png": "[encoded data removed]",
      "text/plain": [
       "<matplotlib.figure.Figure at 0x110513ef0>"
      ]
     },
     "metadata": {},
     "output_type": "display_data"
    },
    {
     "data": {
      "image/png": "[encoded data removed]",
      "text/plain": [
       "<matplotlib.figure.Figure at 0x110563f98>"
      ]
     },
     "metadata": {},
     "output_type": "display_data"
    },
    {
     "data": {
      "image/png": "[encoded data removed]",
      "text/plain": [
       "<matplotlib.figure.Figure at 0x1105ae940>"
      ]
     },
     "metadata": {},
     "output_type": "display_data"
    },
    {
     "data": {
      "image/png": "[encoded data removed]",
      "text/plain": [
       "<matplotlib.figure.Figure at 0x11063ec18>"
      ]
     },
     "metadata": {},
     "output_type": "display_data"
    },
    {
     "data": {
      "image/png": "[encoded data removed]",
      "text/plain": [
       "<matplotlib.figure.Figure at 0x11068a6d8>"
      ]
     },
     "metadata": {},
     "output_type": "display_data"
    },
    {
     "data": {
      "image/png": "[encoded data removed]",
      "text/plain": [
       "<matplotlib.figure.Figure at 0x1106de8d0>"
      ]
     },
     "metadata": {},
     "output_type": "display_data"
    },
    {
     "data": {
      "image/png": "[encoded data removed]",
      "text/plain": [
       "<matplotlib.figure.Figure at 0x113d3e390>"
      ]
     },
     "metadata": {},
     "output_type": "display_data"
    },
    {
     "data": {
      "image/png": "[encoded data removed]",
      "text/plain": [
       "<matplotlib.figure.Figure at 0x113d94588>"
      ]
     },
     "metadata": {},
     "output_type": "display_data"
    },
    {
     "data": {
      "image/png": "[encoded data removed]",
      "text/plain": [
       "<matplotlib.figure.Figure at 0x1102c39b0>"
      ]
     },
     "metadata": {},
     "output_type": "display_data"
    },
    {
     "data": {
      "image/png": "[encoded data removed]",
      "text/plain": [
       "<matplotlib.figure.Figure at 0x11027dfd0>"
      ]
     },
     "metadata": {},
     "output_type": "display_data"
    },
    {
     "data": {
      "image/png": "[encoded data removed]",
      "text/plain": [
       "<matplotlib.figure.Figure at 0x110211668>"
      ]
     },
     "metadata": {},
     "output_type": "display_data"
    },
    {
     "data": {
      "image/png": "[encoded data removed]",
      "text/plain": [
       "<matplotlib.figure.Figure at 0x10ffe2dd8>"
      ]
     },
     "metadata": {},
     "output_type": "display_data"
    },
    {
     "data": {
      "image/png": "[encoded data removed]",
      "text/plain": [
       "<matplotlib.figure.Figure at 0x10ff212e8>"
      ]
     },
     "metadata": {},
     "output_type": "display_data"
    },
    {
     "data": {
      "image/png": "[encoded data removed]",
      "text/plain": [
       "<matplotlib.figure.Figure at 0x110434f60>"
      ]
     },
     "metadata": {},
     "output_type": "display_data"
    },
    {
     "data": {
      "image/png": "[encoded data removed]",
      "text/plain": [
       "<matplotlib.figure.Figure at 0x1104a0ac8>"
      ]
     },
     "metadata": {},
     "output_type": "display_data"
    },
    {
     "data": {
      "image/png": "[encoded data removed]",
      "text/plain": [
       "<matplotlib.figure.Figure at 0x1102acda0>"
      ]
     },
     "metadata": {},
     "output_type": "display_data"
    },
    {
     "data": {
      "image/png": "[encoded data removed]",
      "text/plain": [
       "<matplotlib.figure.Figure at 0x10fc7e940>"
      ]
     },
     "metadata": {},
     "output_type": "display_data"
    },
    {
     "data": {
      "image/png": "[encoded data removed]",
      "text/plain": [
       "<matplotlib.figure.Figure at 0x110250c50>"
      ]
     },
     "metadata": {},
     "output_type": "display_data"
    },
    {
     "data": {
      "image/png": "[encoded data removed]",
      "text/plain": [
       "<matplotlib.figure.Figure at 0x11023a7b8>"
      ]
     },
     "metadata": {},
     "output_type": "display_data"
    }
   ],
   "source": [
    "Legend.from_image('z_Lithology_legend_gapless2.png', components).plot()"
   ]
  },
  {
   "cell_type": "markdown",
   "metadata": {},
   "source": [
    "## Querying a legend"
   ]
  },
  {
   "cell_type": "markdown",
   "metadata": {
    "internals": {},
    "slideshow": {
     "slide_type": "-"
    }
   },
   "source": [
    "The legend is basically a query table. We can ask the Legend what colour to use for a given Rock object:"
   ]
  },
  {
   "cell_type": "code",
   "execution_count": 23,
   "metadata": {
    "collapsed": false,
    "internals": {},
    "scrolled": false,
    "slideshow": {
     "slide_type": "-"
    }
   },
   "outputs": [
    {
     "data": {
      "text/plain": [
       "'#eeeeee'"
      ]
     },
     "execution_count": 23,
     "metadata": {},
     "output_type": "execute_result"
    }
   ],
   "source": [
    "legend.get_colour(rock)"
   ]
  },
  {
   "cell_type": "code",
   "execution_count": 24,
   "metadata": {
    "collapsed": false,
    "internals": {},
    "slideshow": {
     "slide_type": "-"
    }
   },
   "outputs": [
    {
     "data": {
      "text/plain": [
       "'#ffdbba'"
      ]
     },
     "execution_count": 24,
     "metadata": {},
     "output_type": "execute_result"
    }
   ],
   "source": [
    "rock3 = Component({'colour': 'red',\n",
    "           'grainsize': 'vf-f',\n",
    "           'lithology': 'sandstone'})\n",
    "legend.get_colour(rock3)"
   ]
  },
  {
   "cell_type": "code",
   "execution_count": 25,
   "metadata": {
    "collapsed": false
   },
   "outputs": [
    {
     "data": {
      "text/plain": [
       "Legend(Decor({'component': Component({'grainsize': 'vf-f', 'colour': 'red', 'lithology': 'sandstone'}), 'colour': '#4E6AFB', 'hatch': None, 'width': None}))"
      ]
     },
     "execution_count": 25,
     "metadata": {},
     "output_type": "execute_result"
    }
   ],
   "source": [
    "Legend.random(rock3)"
   ]
  },
  {
   "cell_type": "markdown",
   "metadata": {
    "internals": {},
    "slideshow": {
     "slide_type": "-"
    }
   },
   "source": [
    "Sometimes we also want to use a width for a given lithology:"
   ]
  },
  {
   "cell_type": "code",
   "execution_count": 26,
   "metadata": {
    "collapsed": false,
    "internals": {},
    "slideshow": {
     "slide_type": "-"
    }
   },
   "outputs": [
    {
     "data": {
      "text/plain": [
       "3.0"
      ]
     },
     "execution_count": 26,
     "metadata": {},
     "output_type": "execute_result"
    }
   ],
   "source": [
    "legend.get_width(rock3)"
   ]
  },
  {
   "cell_type": "markdown",
   "metadata": {
    "internals": {},
    "slideshow": {
     "slide_type": "-"
    }
   },
   "source": [
    "We can also ask the legend which Rock is represented by a particular colour. (I doubt you'd ever really need to do this, but I had to implement this to allow you to make a `Striplog` from an image: it looks up the rocks to use by colour.)"
   ]
  },
  {
   "cell_type": "code",
   "execution_count": 27,
   "metadata": {
    "collapsed": false,
    "internals": {},
    "slideshow": {
     "slide_type": "-"
    }
   },
   "outputs": [
    {
     "data": {
      "text/html": [
       "<table><tr><td><strong>grainsize</strong></td><td>vf-f</td></tr><tr><td><strong>colour</strong></td><td>grey</td></tr><tr><td><strong>lithology</strong></td><td>sandstone</td></tr></table>"
      ],
      "text/plain": [
       "Component({'grainsize': 'vf-f', 'colour': 'grey', 'lithology': 'sandstone'})"
      ]
     },
     "execution_count": 27,
     "metadata": {},
     "output_type": "execute_result"
    }
   ],
   "source": [
    "legend.get_component('#f7e9a6')"
   ]
  },
  {
   "cell_type": "markdown",
   "metadata": {
    "internals": {},
    "slideshow": {
     "slide_type": "-"
    }
   },
   "source": [
    "The `Legend` behaves more or less like a list, so we can index into it:"
   ]
  },
  {
   "cell_type": "code",
   "execution_count": 28,
   "metadata": {
    "collapsed": false,
    "internals": {},
    "slideshow": {
     "slide_type": "-"
    }
   },
   "outputs": [
    {
     "data": {
      "text/plain": [
       "Legend(Decor({'component': Component({'lithology': 'volcanic'}), 'colour': '#ff4c4a', 'hatch': None, 'width': 2.0})\n",
       "Decor({'component': Component({'lithology': 'conglomerate'}), 'colour': '#86f0b6', 'hatch': None, 'width': 5.0}))"
      ]
     },
     "execution_count": 28,
     "metadata": {},
     "output_type": "execute_result"
    }
   ],
   "source": [
    "legend[3:5]"
   ]
  },
  {
   "cell_type": "markdown",
   "metadata": {
    "internals": {},
    "slideshow": {
     "slide_type": "-"
    }
   },
   "source": [
    "`Legend`s can plot themselves. "
   ]
  },
  {
   "cell_type": "code",
   "execution_count": 29,
   "metadata": {
    "collapsed": false,
    "internals": {},
    "slideshow": {
     "slide_type": "-"
    }
   },
   "outputs": [
    {
     "data": {
      "image/png": "[encoded data removed]",
      "text/plain": [
       "<matplotlib.figure.Figure at 0x109b01ef0>"
      ]
     },
     "metadata": {},
     "output_type": "display_data"
    },
    {
     "data": {
      "image/png": "[encoded data removed]",
      "text/plain": [
       "<matplotlib.figure.Figure at 0x109b691d0>"
      ]
     },
     "metadata": {},
     "output_type": "display_data"
    },
    {
     "data": {
      "image/png": "[encoded data removed]",
      "text/plain": [
       "<matplotlib.figure.Figure at 0x109bad6a0>"
      ]
     },
     "metadata": {},
     "output_type": "display_data"
    },
    {
     "data": {
      "image/png": "[encoded data removed]",
      "text/plain": [
       "<matplotlib.figure.Figure at 0x109e03cf8>"
      ]
     },
     "metadata": {},
     "output_type": "display_data"
    },
    {
     "data": {
      "image/png": "[encoded data removed]",
      "text/plain": [
       "<matplotlib.figure.Figure at 0x109e4b4e0>"
      ]
     },
     "metadata": {},
     "output_type": "display_data"
    },
    {
     "data": {
      "image/png": "[encoded data removed]",
      "text/plain": [
       "<matplotlib.figure.Figure at 0x109ea4470>"
      ]
     },
     "metadata": {},
     "output_type": "display_data"
    },
    {
     "data": {
      "image/png": "[encoded data removed]",
      "text/plain": [
       "<matplotlib.figure.Figure at 0x109ee8400>"
      ]
     },
     "metadata": {},
     "output_type": "display_data"
    },
    {
     "data": {
      "image/png": "[encoded data removed]",
      "text/plain": [
       "<matplotlib.figure.Figure at 0x10a03ac88>"
      ]
     },
     "metadata": {},
     "output_type": "display_data"
    },
    {
     "data": {
      "image/png": "[encoded data removed]",
      "text/plain": [
       "<matplotlib.figure.Figure at 0x10999c5f8>"
      ]
     },
     "metadata": {},
     "output_type": "display_data"
    },
    {
     "data": {
      "image/png": "[encoded data removed]",
      "text/plain": [
       "<matplotlib.figure.Figure at 0x109a2f550>"
      ]
     },
     "metadata": {},
     "output_type": "display_data"
    },
    {
     "data": {
      "image/png": "[encoded data removed]",
      "text/plain": [
       "<matplotlib.figure.Figure at 0x1098f2550>"
      ]
     },
     "metadata": {},
     "output_type": "display_data"
    },
    {
     "data": {
      "image/png": "[encoded data removed]",
      "text/plain": [
       "<matplotlib.figure.Figure at 0x109a83240>"
      ]
     },
     "metadata": {},
     "output_type": "display_data"
    },
    {
     "data": {
      "image/png": "[encoded data removed]",
      "text/plain": [
       "<matplotlib.figure.Figure at 0x1098024a8>"
      ]
     },
     "metadata": {},
     "output_type": "display_data"
    },
    {
     "data": {
      "image/png": "[encoded data removed]",
      "text/plain": [
       "<matplotlib.figure.Figure at 0x1092b8390>"
      ]
     },
     "metadata": {},
     "output_type": "display_data"
    },
    {
     "data": {
      "image/png": "[encoded data removed]",
      "text/plain": [
       "<matplotlib.figure.Figure at 0x1090c9b00>"
      ]
     },
     "metadata": {},
     "output_type": "display_data"
    },
    {
     "data": {
      "image/png": "[encoded data removed]",
      "text/plain": [
       "<matplotlib.figure.Figure at 0x1098b0898>"
      ]
     },
     "metadata": {},
     "output_type": "display_data"
    },
    {
     "data": {
      "image/png": "[encoded data removed]",
      "text/plain": [
       "<matplotlib.figure.Figure at 0x109a42128>"
      ]
     },
     "metadata": {},
     "output_type": "display_data"
    },
    {
     "data": {
      "image/png": "[encoded data removed]",
      "text/plain": [
       "<matplotlib.figure.Figure at 0x109982710>"
      ]
     },
     "metadata": {},
     "output_type": "display_data"
    }
   ],
   "source": [
    "legend.plot()"
   ]
  },
  {
   "cell_type": "markdown",
   "metadata": {
    "internals": {},
    "slideshow": {
     "slide_type": "-"
    }
   },
   "source": [
    "Sometimes you don't want to have to make a legend, so you can use a random one. Just pass a list of `Component`s..."
   ]
  },
  {
   "cell_type": "code",
   "execution_count": 30,
   "metadata": {
    "collapsed": false,
    "internals": {},
    "slideshow": {
     "slide_type": "-"
    }
   },
   "outputs": [
    {
     "data": {
      "image/png": "[encoded data removed]",
      "text/plain": [
       "<matplotlib.figure.Figure at 0x109aa6ef0>"
      ]
     },
     "metadata": {},
     "output_type": "display_data"
    },
    {
     "data": {
      "image/png": "[encoded data removed]",
      "text/plain": [
       "<matplotlib.figure.Figure at 0x109912390>"
      ]
     },
     "metadata": {},
     "output_type": "display_data"
    },
    {
     "data": {
      "image/png": "[encoded data removed]",
      "text/plain": [
       "<matplotlib.figure.Figure at 0x10986b7f0>"
      ]
     },
     "metadata": {},
     "output_type": "display_data"
    },
    {
     "data": {
      "image/png": "[encoded data removed]",
      "text/plain": [
       "<matplotlib.figure.Figure at 0x1098cb1d0>"
      ]
     },
     "metadata": {},
     "output_type": "display_data"
    },
    {
     "data": {
      "image/png": "[encoded data removed]",
      "text/plain": [
       "<matplotlib.figure.Figure at 0x1098e34e0>"
      ]
     },
     "metadata": {},
     "output_type": "display_data"
    },
    {
     "data": {
      "image/png": "[encoded data removed]",
      "text/plain": [
       "<matplotlib.figure.Figure at 0x1092afe80>"
      ]
     },
     "metadata": {},
     "output_type": "display_data"
    },
    {
     "data": {
      "image/png": "[encoded data removed]",
      "text/plain": [
       "<matplotlib.figure.Figure at 0x1094167b8>"
      ]
     },
     "metadata": {},
     "output_type": "display_data"
    }
   ],
   "source": [
    "# We'll scrape a quick list of 7 components from the default legend:\n",
    "c = [d.component for d in legend[:7]]\n",
    "\n",
    "l = Legend.random(c)\n",
    "l.plot()"
   ]
  },
  {
   "cell_type": "markdown",
   "metadata": {},
   "source": [
    "There is a default colour table for geological timescales too... it's based on the Wikipedia's colour scheme for the geological timetable. "
   ]
  },
  {
   "cell_type": "code",
   "execution_count": 31,
   "metadata": {
    "collapsed": false
   },
   "outputs": [
    {
     "data": {
      "image/png": "[encoded data removed]",
      "text/plain": [
       "<matplotlib.figure.Figure at 0x109ea4da0>"
      ]
     },
     "metadata": {},
     "output_type": "display_data"
    },
    {
     "data": {
      "image/png": "[encoded data removed]",
      "text/plain": [
       "<matplotlib.figure.Figure at 0x1094b3e48>"
      ]
     },
     "metadata": {},
     "output_type": "display_data"
    },
    {
     "data": {
      "image/png": "[encoded data removed]",
      "text/plain": [
       "<matplotlib.figure.Figure at 0x10a09def0>"
      ]
     },
     "metadata": {},
     "output_type": "display_data"
    },
    {
     "data": {
      "image/png": "[encoded data removed]",
      "text/plain": [
       "<matplotlib.figure.Figure at 0x1094fabe0>"
      ]
     },
     "metadata": {},
     "output_type": "display_data"
    },
    {
     "data": {
      "image/png": "[encoded data removed]",
      "text/plain": [
       "<matplotlib.figure.Figure at 0x109957e10>"
      ]
     },
     "metadata": {},
     "output_type": "display_data"
    }
   ],
   "source": [
    "time[74:79].plot(fmt=\"{age!t}\")  # Pass a format for proper case"
   ]
  },
  {
   "cell_type": "markdown",
   "metadata": {},
   "source": [
    "## Hatch patterns"
   ]
  },
  {
   "cell_type": "code",
   "execution_count": 32,
   "metadata": {
    "collapsed": false
   },
   "outputs": [
    {
     "data": {
      "image/png": "[encoded data removed]",
      "text/plain": [
       "<matplotlib.figure.Figure at 0x109458358>"
      ]
     },
     "metadata": {},
     "output_type": "display_data"
    },
    {
     "data": {
      "image/png": "[encoded data removed]",
      "text/plain": [
       "<matplotlib.figure.Figure at 0x10925f9b0>"
      ]
     },
     "metadata": {},
     "output_type": "display_data"
    },
    {
     "data": {
      "image/png": "[encoded data removed]",
      "text/plain": [
       "<matplotlib.figure.Figure at 0x10994cb70>"
      ]
     },
     "metadata": {},
     "output_type": "display_data"
    },
    {
     "data": {
      "image/png": "[encoded data removed]",
      "text/plain": [
       "<matplotlib.figure.Figure at 0x109acf7b8>"
      ]
     },
     "metadata": {},
     "output_type": "display_data"
    },
    {
     "data": {
      "image/png": "[encoded data removed]",
      "text/plain": [
       "<matplotlib.figure.Figure at 0x1096e4320>"
      ]
     },
     "metadata": {},
     "output_type": "display_data"
    },
    {
     "data": {
      "image/png": "[encoded data removed]",
      "text/plain": [
       "<matplotlib.figure.Figure at 0x109694668>"
      ]
     },
     "metadata": {},
     "output_type": "display_data"
    },
    {
     "data": {
      "image/png": "[encoded data removed]",
      "text/plain": [
       "<matplotlib.figure.Figure at 0x10923a5f8>"
      ]
     },
     "metadata": {},
     "output_type": "display_data"
    },
    {
     "data": {
      "image/png": "[encoded data removed]",
      "text/plain": [
       "<matplotlib.figure.Figure at 0x109b34f98>"
      ]
     },
     "metadata": {},
     "output_type": "display_data"
    },
    {
     "data": {
      "image/png": "[encoded data removed]",
      "text/plain": [
       "<matplotlib.figure.Figure at 0x109413ac8>"
      ]
     },
     "metadata": {},
     "output_type": "display_data"
    },
    {
     "data": {
      "image/png": "[encoded data removed]",
      "text/plain": [
       "<matplotlib.figure.Figure at 0x109888dd8>"
      ]
     },
     "metadata": {},
     "output_type": "display_data"
    }
   ],
   "source": [
    "hatchy = \"\"\"colour,width,hatch,component colour,component grainsize,component lithology\n",
    "#dddddd,1,+,,,siltstone,\n",
    "#dddddd,1,+++,,,greywacke,\n",
    "#dddddd,2,x,,,anhydrite,\n",
    "#dddddd,2,xxx,,,gypsum,\n",
    "#dddddd,3,/,,,missing,\n",
    "#dddddd,4,..,,,sandstone,\n",
    "#dddddd,5,o,,,conglomerate,\n",
    "#dddddd,5,0,,,till,\n",
    "#dddddd,6,---,,,mudstone,\n",
    "#dddddd,7,,,,limestone,\n",
    "\"\"\"\n",
    "Legend.from_csv(hatchy).plot()"
   ]
  },
  {
   "cell_type": "markdown",
   "metadata": {},
   "source": [
    "## Bugs\n",
    "\n",
    "### Decor plots with axes\n",
    "\n",
    "These should plot as square patches, not rectangles. The text actually flows off the right-hand edge of the plot. "
   ]
  },
  {
   "cell_type": "code",
   "execution_count": 33,
   "metadata": {
    "collapsed": false
   },
   "outputs": [
    {
     "data": {
      "image/png": "[encoded data removed]",
      "text/plain": [
       "<matplotlib.figure.Figure at 0x10a071fd0>"
      ]
     },
     "metadata": {},
     "output_type": "display_data"
    }
   ],
   "source": [
    "import matplotlib.pyplot as plt\n",
    "fig = plt.figure(figsize=(3, 10))\n",
    "for i, d in enumerate(l):\n",
    "    ax = fig.add_subplot(len(l), 1, i+1)\n",
    "    ax = d.plot(ax=ax)"
   ]
  },
  {
   "cell_type": "markdown",
   "metadata": {
    "internals": {
     "slide_helper": "subslide_end"
    },
    "slide_helper": "slide_end",
    "slideshow": {
     "slide_type": "-"
    }
   },
   "source": [
    "<hr />\n",
    "\n",
    "<p style=\"color:gray\">©2015 Agile Geoscience. Licensed CC-BY. <a href=\"https://github.com/agile-geoscience/striplog\">striplog.py</a></p>"
   ]
  }
 ],
 "metadata": {
  "kernelspec": {
   "display_name": "Python 3",
   "language": "python",
   "name": "python3"
  },
  "language_info": {
   "codemirror_mode": {
    "name": "ipython",
    "version": 3
   },
   "file_extension": ".py",
   "mimetype": "text/x-python",
   "name": "python",
   "nbconvert_exporter": "python",
   "pygments_lexer": "ipython3",
   "version": "3.4.4"
  }
 },
 "nbformat": 4,
 "nbformat_minor": 0
}
