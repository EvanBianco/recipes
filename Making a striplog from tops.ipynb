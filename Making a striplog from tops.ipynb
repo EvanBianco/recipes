{
 "cells": [
  {
   "cell_type": "markdown",
   "metadata": {},
   "source": [
    "# Making a striplog from tops"
   ]
  },
  {
   "cell_type": "code",
   "execution_count": 1,
   "metadata": {
    "collapsed": true
   },
   "outputs": [],
   "source": [
    "from striplog import Lexicon, Striplog, Legend"
   ]
  },
  {
   "cell_type": "markdown",
   "metadata": {},
   "source": [
    "Read a simple csv of tops into a list."
   ]
  },
  {
   "cell_type": "code",
   "execution_count": 2,
   "metadata": {
    "collapsed": true
   },
   "outputs": [],
   "source": [
    "topsfile = 'data/tops/P-129_tops.csv'"
   ]
  },
  {
   "cell_type": "code",
   "execution_count": 3,
   "metadata": {
    "collapsed": true
   },
   "outputs": [],
   "source": [
    "import csv\n",
    "\n",
    "def get_tops(fname, wellid):\n",
    "    \"\"\"\n",
    "    Get all the tops corrsponding to the first column name of well\n",
    "    \"\"\"\n",
    "    tops = ''\n",
    "    with open(fname, 'r') as f:\n",
    "        for line in f.readlines():\n",
    "            row = line.strip().split(',')\n",
    "            if row[0] == wellid:\n",
    "                name = row[1]\n",
    "                md = row[5]\n",
    "                tops += md + ', ' + str(name) +  '\\n '\n",
    "    return tops\n",
    "\n",
    "topslist = get_tops(topsfile, 'P-129')"
   ]
  },
  {
   "cell_type": "code",
   "execution_count": 4,
   "metadata": {
    "collapsed": false
   },
   "outputs": [
    {
     "data": {
      "text/plain": [
       "'698.33, Lower Windsor\\n 806.04, Horton\\n 946.52, Horton Bluff FM\\n 1906.35, Maguma\\n 1938.46, TD\\n '"
      ]
     },
     "execution_count": 4,
     "metadata": {},
     "output_type": "execute_result"
    }
   ],
   "source": [
    "topslist"
   ]
  },
  {
   "cell_type": "code",
   "execution_count": 5,
   "metadata": {
    "collapsed": true
   },
   "outputs": [],
   "source": [
    "l = Lexicon.default()\n",
    "l.formation = [r'\\w+']"
   ]
  },
  {
   "cell_type": "code",
   "execution_count": 6,
   "metadata": {
    "collapsed": false
   },
   "outputs": [
    {
     "name": "stdout",
     "output_type": "stream",
     "text": [
      "107.71 m of Lower Windsor 698.33 - 806.04\n",
      "140.48 m of Horton 806.04 - 946.52\n",
      "959.83 m of Horton Bluff 946.52 - 1906.35\n",
      "32.11 m of Maguma 1906.35 - 1938.46\n",
      "1.00 m of Td 1938.46 - 1939.46\n"
     ]
    }
   ],
   "source": [
    "formations = Striplog.from_descriptions(topslist, lexicon=l, order='auto')\n",
    "for frm in formations:\n",
    "    print(frm.summary(fmt='{formation!t}'), frm.top.middle, '-',frm.base.middle)"
   ]
  },
  {
   "cell_type": "markdown",
   "metadata": {},
   "source": [
    "We need to make a legend for our formations, otherwise we won't be able to see it."
   ]
  },
  {
   "cell_type": "code",
   "execution_count": 11,
   "metadata": {
    "collapsed": true
   },
   "outputs": [],
   "source": [
    "strat_str = \"\"\"colour,  width, comp formation\n",
    "        #FFFFFF, 1, \n",
    "        #9999ff, 1, lower windsor\n",
    "        #ffcc00, 1, horton\n",
    "        #cc6600, 1, horton bluff\n",
    "        #660033, 1, meguma\n",
    "\"\"\""
   ]
  },
  {
   "cell_type": "code",
   "execution_count": 13,
   "metadata": {
    "collapsed": false
   },
   "outputs": [],
   "source": [
    "tops_legend = Legend.from_csv(strat_str)"
   ]
  },
  {
   "cell_type": "code",
   "execution_count": 14,
   "metadata": {
    "collapsed": false
   },
   "outputs": [
    {
     "data": {
      "image/png": "[encoded data removed]",
      "text/plain": [
       "<matplotlib.figure.Figure at 0x111e2bb70>"
      ]
     },
     "metadata": {},
     "output_type": "display_data"
    }
   ],
   "source": [
    "% matplotlib inline\n",
    "formations.plot(legend=tops_legend, aspect=4.0)"
   ]
  }
 ],
 "metadata": {
  "kernelspec": {
   "display_name": "Python 3",
   "language": "python",
   "name": "python3"
  },
  "language_info": {
   "codemirror_mode": {
    "name": "ipython",
    "version": 3
   },
   "file_extension": ".py",
   "mimetype": "text/x-python",
   "name": "python",
   "nbconvert_exporter": "python",
   "pygments_lexer": "ipython3",
   "version": "3.5.1"
  }
 },
 "nbformat": 4,
 "nbformat_minor": 0
}
