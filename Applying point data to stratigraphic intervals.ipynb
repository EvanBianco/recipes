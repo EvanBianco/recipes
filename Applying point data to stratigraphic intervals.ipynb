{
 "cells": [
  {
   "cell_type": "markdown",
   "metadata": {},
   "source": [
    "# Applying point data to stratigraphic intervals"
   ]
  },
  {
   "cell_type": "markdown",
   "metadata": {},
   "source": [
    "In this recipe, we'll apply non-regularly sample point data to stratigraphic intervals. It's a kind of intellegent upscaling."
   ]
  },
  {
   "cell_type": "markdown",
   "metadata": {},
   "source": [
    "## Point data\n",
    "\n",
    "From the recipe, [Handling sidewall core data](https://github.com/agile-geoscience/recipes/blob/master/Handling%20sidewall%20core%20data.ipynb), we'll start by making a striplog representing sidewall core porosity."
   ]
  },
  {
   "cell_type": "code",
   "execution_count": 1,
   "metadata": {
    "collapsed": true
   },
   "outputs": [],
   "source": [
    "from striplog import Striplog, Lexicon, Legend\n",
    "% matplotlib inline"
   ]
  },
  {
   "cell_type": "markdown",
   "metadata": {},
   "source": [
    "Some things really are point data. Sort of like a log, but irregular, more discrete. For instance we may have some porosity measurements of sidewall core plugs."
   ]
  },
  {
   "cell_type": "code",
   "execution_count": 2,
   "metadata": {
    "collapsed": true
   },
   "outputs": [],
   "source": [
    "data_csv = \"\"\"top, density, porosity, remarks\n",
    "650, 2100, 0.100,\n",
    "700, 2150, 0.002,\n",
    "750, 2150, 0.015,\n",
    "825, 2200, 0.027,\n",
    "875, 2200, 0.043,\n",
    "925, 2300, 0.220,\n",
    "1000, 2200, 0.085,\n",
    "1050, 2220, 0.065,\n",
    "1100, 2225, 0.054,\n",
    "1150, 2200, 0.063,\n",
    "1200, 2300, 0.064,\n",
    "1250, 2375, 0.073,\n",
    "1300, 2400, 0.082, broken sample\n",
    "1350, 2425, 0.192,\n",
    "1400, 2575, 0.143,\n",
    "1500, 2425, 0.192,\n",
    "1505, 2376, 0.252,\n",
    "1510, 2435, 0.157,\n",
    "1550, 2424, 0.150,\n",
    "1575, 2465, 0.095,\n",
    "1600, 2400, 0.129,\n",
    "\"\"\""
   ]
  },
  {
   "cell_type": "markdown",
   "metadata": {},
   "source": [
    "You must specify `points=True` otherwise Striplog will 'fill in' and create the bases for you, based on the next top."
   ]
  },
  {
   "cell_type": "code",
   "execution_count": 3,
   "metadata": {
    "collapsed": false
   },
   "outputs": [],
   "source": [
    "swc_data = Striplog.from_csv_text(data_csv, points=True)"
   ]
  },
  {
   "cell_type": "markdown",
   "metadata": {},
   "source": [
    "When we pass this 'striplog' into `welly.plot()`, it gets treated as a set of points."
   ]
  },
  {
   "cell_type": "code",
   "execution_count": 4,
   "metadata": {
    "collapsed": false
   },
   "outputs": [],
   "source": [
    "import numpy as np\n",
    "phi = np.array([i.primary.porosity for i in swc_data])"
   ]
  },
  {
   "cell_type": "code",
   "execution_count": 5,
   "metadata": {
    "collapsed": false
   },
   "outputs": [
    {
     "data": {
      "text/plain": [
       "array([  650.,   700.,   750.,   825.,   875.,   925.,  1000.,  1050.,\n",
       "        1100.,  1150.,  1200.,  1250.,  1300.,  1350.,  1400.,  1500.,\n",
       "        1505.,  1510.,  1550.,  1575.,  1600.])"
      ]
     },
     "execution_count": 5,
     "metadata": {},
     "output_type": "execute_result"
    }
   ],
   "source": [
    "z = np.array([i.top.middle for i  in swc_data])\n",
    "z"
   ]
  },
  {
   "cell_type": "markdown",
   "metadata": {
    "collapsed": true
   },
   "source": [
    "## Stratigraphic data"
   ]
  },
  {
   "cell_type": "markdown",
   "metadata": {},
   "source": [
    "Read a simple csv of tops into a list."
   ]
  },
  {
   "cell_type": "code",
   "execution_count": 6,
   "metadata": {
    "collapsed": true
   },
   "outputs": [],
   "source": [
    "topsfile = 'data/tops/P-129_tops.csv'"
   ]
  },
  {
   "cell_type": "code",
   "execution_count": 7,
   "metadata": {
    "collapsed": true
   },
   "outputs": [],
   "source": [
    "import csv\n",
    "\n",
    "def get_tops(fname, wellid):\n",
    "    \"\"\"\n",
    "    Get all the tops corrsponding to the first column name of well\n",
    "    \"\"\"\n",
    "    tops = ''\n",
    "    with open(fname, 'r') as f:\n",
    "        for line in f.readlines():\n",
    "            row = line.strip().split(',')\n",
    "            if row[0] == wellid:\n",
    "                name = row[1]\n",
    "                md = row[5]\n",
    "                tops += md + ', ' + str(name) +  '\\n '\n",
    "    return tops"
   ]
  },
  {
   "cell_type": "code",
   "execution_count": 8,
   "metadata": {
    "collapsed": true
   },
   "outputs": [],
   "source": [
    "topslist = get_tops(topsfile, 'P-129')"
   ]
  },
  {
   "cell_type": "code",
   "execution_count": 9,
   "metadata": {
    "collapsed": false
   },
   "outputs": [],
   "source": [
    "l = Lexicon.default()\n",
    "l.formation = [r'\\w+']"
   ]
  },
  {
   "cell_type": "code",
   "execution_count": 10,
   "metadata": {
    "collapsed": false
   },
   "outputs": [
    {
     "name": "stdout",
     "output_type": "stream",
     "text": [
      "107.71 m of Lower Windsor 698.33 - 806.04\n",
      "140.48 m of Horton 806.04 - 946.52\n",
      "959.83 m of Horton Bluff 946.52 - 1906.35\n",
      "32.11 m of Maguma 1906.35 - 1938.46\n",
      "1.00 m of Td 1938.46 - 1939.46\n"
     ]
    }
   ],
   "source": [
    "formations = Striplog.from_descriptions(topslist, lexicon=l, order='auto')\n",
    "for frm in formations:\n",
    "    print(frm.summary(fmt='{formation!t}'), frm.top.middle, '-',frm.base.middle)"
   ]
  },
  {
   "cell_type": "markdown",
   "metadata": {},
   "source": [
    "We need to make a legend for our formations, otherwise we won't be able to see it."
   ]
  },
  {
   "cell_type": "code",
   "execution_count": 11,
   "metadata": {
    "collapsed": true
   },
   "outputs": [],
   "source": [
    "strat_str = \"\"\"colour,  width, comp formation\n",
    "        #FFFFFF, 1, none\n",
    "        #9999ff, 1, lower windsor\n",
    "        #ffcc00, 1, horton\n",
    "        #cc6600, 1, horton bluff\n",
    "        #660033, 1, meguma\n",
    "\"\"\""
   ]
  },
  {
   "cell_type": "code",
   "execution_count": 12,
   "metadata": {
    "collapsed": false
   },
   "outputs": [],
   "source": [
    "tops_legend = Legend.from_csv(strat_str)"
   ]
  },
  {
   "cell_type": "code",
   "execution_count": 13,
   "metadata": {
    "collapsed": false
   },
   "outputs": [
    {
     "data": {
      "image/png": "[encoded data removed]",
      "text/plain": [
       "<matplotlib.figure.Figure at 0x10f446f28>"
      ]
     },
     "metadata": {},
     "output_type": "display_data"
    }
   ],
   "source": [
    "formations.plot(legend=tops_legend, aspect=4.0)"
   ]
  },
  {
   "cell_type": "markdown",
   "metadata": {},
   "source": [
    "## Make a `striplog` from image"
   ]
  },
  {
   "cell_type": "code",
   "execution_count": 14,
   "metadata": {
    "collapsed": true
   },
   "outputs": [],
   "source": [
    "imgfile = \"data/images/P-129_280_1935.png\""
   ]
  },
  {
   "cell_type": "code",
   "execution_count": 15,
   "metadata": {
    "collapsed": false
   },
   "outputs": [],
   "source": [
    "legend = Legend.default(name='nsdoe')"
   ]
  },
  {
   "cell_type": "code",
   "execution_count": 16,
   "metadata": {
    "collapsed": false
   },
   "outputs": [],
   "source": [
    "top, base = 280.0, 1935.0\n",
    "strip = Striplog.from_image(imgfile, top, base, legend=legend)"
   ]
  },
  {
   "cell_type": "markdown",
   "metadata": {},
   "source": [
    "## Create a `well` object "
   ]
  },
  {
   "cell_type": "code",
   "execution_count": 17,
   "metadata": {
    "collapsed": false
   },
   "outputs": [],
   "source": [
    "from welly import Well, Curve"
   ]
  },
  {
   "cell_type": "code",
   "execution_count": 18,
   "metadata": {
    "collapsed": true
   },
   "outputs": [],
   "source": [
    "well = Well.from_las('data/las/P-129_out.LAS')"
   ]
  },
  {
   "cell_type": "code",
   "execution_count": 19,
   "metadata": {
    "collapsed": false
   },
   "outputs": [],
   "source": [
    "curve_legend_csv = \"\"\"colour,lw,xscale,curve mnemonic\n",
    "#006400,1.0,linear,GR\n",
    "#000000,1.0,log,RLA5\n",
    "#000000,1.0,linear,RHOB\n",
    "#CCFFCC,1.0,linear,NPHI_SAN\n",
    "blue,1.0,linear,DT\n",
    "green,1.0,linear,DTS\n",
    "\"\"\"\n",
    "curve_legend = Legend.from_csv(curve_legend_csv)"
   ]
  },
  {
   "cell_type": "markdown",
   "metadata": {},
   "source": [
    "Add our `formations` and `swc_porosity` to the `well`"
   ]
  },
  {
   "cell_type": "code",
   "execution_count": 20,
   "metadata": {
    "collapsed": false
   },
   "outputs": [],
   "source": [
    "well.data['FM'] = formations\n",
    "well.data['SWC_PHI'] = swc_data\n",
    "well.data['strip'] = strip"
   ]
  },
  {
   "cell_type": "code",
   "execution_count": 21,
   "metadata": {
    "collapsed": true
   },
   "outputs": [],
   "source": [
    "# let's look a these tracks"
   ]
  },
  {
   "cell_type": "code",
   "execution_count": 22,
   "metadata": {
    "collapsed": false
   },
   "outputs": [],
   "source": [
    "complete_legend = tops_legend + curve_legend + legend"
   ]
  },
  {
   "cell_type": "code",
   "execution_count": 23,
   "metadata": {
    "collapsed": false
   },
   "outputs": [
    {
     "data": {
      "image/png": "[encoded data removed]",
      "text/plain": [
       "<matplotlib.figure.Figure at 0x13513c978>"
      ]
     },
     "metadata": {},
     "output_type": "display_data"
    }
   ],
   "source": [
    "tracks = ['GR','FM','SWC_PHI.porosity',['strip','GR']]\n",
    "well.plot(tracks=tracks, legend=complete_legend)"
   ]
  },
  {
   "cell_type": "markdown",
   "metadata": {},
   "source": [
    "# Apply point data to Formation intervals"
   ]
  },
  {
   "cell_type": "code",
   "execution_count": 29,
   "metadata": {
    "collapsed": false
   },
   "outputs": [],
   "source": [
    "for iv in swc_data:\n",
    "    for attr in iv.primary.__dict__:\n",
    "        setattr(strip.read_at(iv.top.z).primary, attr, getattr(iv.primary, attr))"
   ]
  },
  {
   "cell_type": "code",
   "execution_count": 39,
   "metadata": {
    "collapsed": false
   },
   "outputs": [
    {
     "data": {
      "text/html": [
       "<table><tr><td style=\"width:2em; background-color:#DDDDDD\" rowspan=\"5\"></td><td><strong>top</strong></td><td>621.5435589100678</td></tr><tr><td><strong>primary</strong></td><td><table><tr><td><strong>lithology</strong></td><td>siltstone</td></tr><tr><td><strong>colour</strong></td><td>red</td></tr><tr><td><strong>grainsize</strong></td><td></td></tr></table></td></tr><tr><td><strong>summary</strong></td><td>18.50 m of siltstone, red, </td></tr><tr><td><strong>description</strong></td><td></td></tr><tr><td><strong>base</strong></td><td>640.0477165152872</td></tr></table>"
      ],
      "text/plain": [
       "Interval({'components': [Component({'lithology': 'siltstone', 'colour': 'red', 'grainsize': ''})], 'description': '', 'base': Position({'units': 'm', 'middle': 640.0477165152872}), 'top': Position({'units': 'm', 'middle': 621.5435589100678})})"
      ]
     },
     "execution_count": 39,
     "metadata": {},
     "output_type": "execute_result"
    }
   ],
   "source": [
    "strip[30]"
   ]
  },
  {
   "cell_type": "code",
   "execution_count": null,
   "metadata": {
    "collapsed": true
   },
   "outputs": [],
   "source": []
  }
 ],
 "metadata": {
  "kernelspec": {
   "display_name": "Python 3",
   "language": "python",
   "name": "python3"
  },
  "language_info": {
   "codemirror_mode": {
    "name": "ipython",
    "version": 3
   },
   "file_extension": ".py",
   "mimetype": "text/x-python",
   "name": "python",
   "nbconvert_exporter": "python",
   "pygments_lexer": "ipython3",
   "version": "3.5.1"
  }
 },
 "nbformat": 4,
 "nbformat_minor": 0
}
