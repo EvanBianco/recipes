{
 "cells": [
  {
   "cell_type": "markdown",
   "metadata": {},
   "source": [
    "# Loading complex point data"
   ]
  },
  {
   "cell_type": "markdown",
   "metadata": {},
   "source": [
    "This notebooks looks at the main `striplog` object. For the basic objects it depends on, see [Basic objects](./Basic_objects.ipynb).\n",
    "\n",
    "First, import anything we might need."
   ]
  },
  {
   "cell_type": "code",
   "execution_count": 24,
   "metadata": {
    "collapsed": false
   },
   "outputs": [
    {
     "data": {
      "text/plain": [
       "'0.7.0'"
      ]
     },
     "execution_count": 24,
     "metadata": {},
     "output_type": "execute_result"
    }
   ],
   "source": [
    "import matplotlib.pyplot as plt\n",
    "%matplotlib inline\n",
    "\n",
    "import numpy as np\n",
    "\n",
    "import striplog\n",
    "striplog.__version__"
   ]
  },
  {
   "cell_type": "code",
   "execution_count": 25,
   "metadata": {
    "collapsed": false
   },
   "outputs": [],
   "source": [
    "from striplog import Legend, Lexicon, Interval, Component"
   ]
  },
  {
   "cell_type": "code",
   "execution_count": 26,
   "metadata": {
    "collapsed": false
   },
   "outputs": [],
   "source": [
    "legend = Legend.builtin('NSDOE')\n",
    "lexicon = Lexicon.default()"
   ]
  },
  {
   "cell_type": "markdown",
   "metadata": {},
   "source": [
    "<hr />\n",
    "## Making a `striplog`"
   ]
  },
  {
   "cell_type": "code",
   "execution_count": 27,
   "metadata": {
    "collapsed": false
   },
   "outputs": [],
   "source": [
    "from striplog import Striplog\n",
    "imgfile = \"data/images/M-MG-70_14.3_135.9.png\""
   ]
  },
  {
   "cell_type": "code",
   "execution_count": 28,
   "metadata": {
    "collapsed": false
   },
   "outputs": [
    {
     "data": {
      "text/plain": [
       "Striplog(26 Intervals, start=14.3, stop=135.9)"
      ]
     },
     "execution_count": 28,
     "metadata": {},
     "output_type": "execute_result"
    }
   ],
   "source": [
    "strip = Striplog.from_image(imgfile, 14.3, 135.9, legend=legend)\n",
    "strip"
   ]
  },
  {
   "cell_type": "code",
   "execution_count": 29,
   "metadata": {
    "collapsed": false
   },
   "outputs": [
    {
     "data": {
      "image/png": "[encoded data removed]",
      "text/plain": [
       "<matplotlib.figure.Figure at 0x10f74f198>"
      ]
     },
     "metadata": {},
     "output_type": "display_data"
    }
   ],
   "source": [
    "strip.plot(legend, ladder=True, aspect=3)"
   ]
  },
  {
   "cell_type": "markdown",
   "metadata": {},
   "source": [
    "## A more complicated example"
   ]
  },
  {
   "cell_type": "code",
   "execution_count": 17,
   "metadata": {
    "collapsed": false
   },
   "outputs": [],
   "source": [
    "fname = \"data/xrf/XRF_sample.csv\"\n",
    "\n",
    "remap = {'rocktype': 'Comp Lithology'}\n",
    "ignore = ['date', 'project', 'index', 'name', 'sname', 'station']\n",
    "\n",
    "xrf = Striplog.from_csv(fname, remap=remap, ignore=ignore, null='ND')"
   ]
  },
  {
   "cell_type": "code",
   "execution_count": 18,
   "metadata": {
    "collapsed": false
   },
   "outputs": [
    {
     "data": {
      "text/html": [
       "<table><tr><td style=\"width:2em; background-color:#DDDDDD\" rowspan=\"6\"></td><td><strong>top</strong></td><td>50.0</td></tr><tr><td><strong>primary</strong></td><td><table><tr><td><strong>Lithology</strong></td><td>sandstone</td></tr></table></td></tr><tr><td><strong>summary</strong></td><td>10.00 m of sandstone</td></tr><tr><td><strong>description</strong></td><td></td></tr><tr><td><strong>data</strong></td><td><table><tr><td><strong>Cl</strong></td><td>1564.0</td></tr><tr><td><strong>Y</strong></td><td>31.0</td></tr><tr><td><strong>S</strong></td><td>789.0</td></tr><tr><td><strong>Ca</strong></td><td>4854.0</td></tr><tr><td><strong>K</strong></td><td>10797.0</td></tr><tr><td><strong>Sm</strong></td><td>18.0</td></tr><tr><td><strong>Rb</strong></td><td>49.0</td></tr><tr><td><strong>V</strong></td><td>104.0</td></tr><tr><td><strong>Ba</strong></td><td>186.0</td></tr><tr><td><strong>Ti</strong></td><td>6873.0</td></tr><tr><td><strong>Bi</strong></td><td>5.0</td></tr><tr><td><strong>La</strong></td><td>113.0</td></tr><tr><td><strong>Cr</strong></td><td>59.0</td></tr><tr><td><strong>Cu</strong></td><td>24.0</td></tr><tr><td><strong>Th</strong></td><td>49.0</td></tr><tr><td><strong>Sb</strong></td><td>1.0</td></tr><tr><td><strong>Sr</strong></td><td>47.0</td></tr><tr><td><strong>P</strong></td><td>2730.0</td></tr><tr><td><strong>Mo</strong></td><td>1.0</td></tr><tr><td><strong>As</strong></td><td>11.0</td></tr><tr><td><strong>Fe</strong></td><td>47737.0</td></tr><tr><td><strong>Ag</strong></td><td>1.0</td></tr><tr><td><strong>Ce</strong></td><td>130.0</td></tr><tr><td><strong>U</strong></td><td>3.0</td></tr><tr><td><strong>Sn</strong></td><td>19.0</td></tr><tr><td><strong>Cd</strong></td><td>4.0</td></tr><tr><td><strong>Co</strong></td><td>19.0</td></tr><tr><td><strong>Nb</strong></td><td>17.0</td></tr><tr><td><strong>Zr</strong></td><td>167.0</td></tr><tr><td><strong>Mn</strong></td><td>678.0</td></tr><tr><td><strong>Hg</strong></td><td>5.0</td></tr><tr><td><strong>Zn</strong></td><td>62.0</td></tr></table></td></tr><tr><td><strong>base</strong></td><td>60.0</td></tr></table>"
      ],
      "text/plain": [
       "Interval({'components': [Component({'Lithology': 'sandstone'})], 'base': Position({'middle': 60.0, 'units': 'm'}), 'data': {'Cl': 1564.0, 'Y': 31.0, 'S': 789.0, 'Ca': 4854.0, 'K': 10797.0, 'Sm': 18.0, 'Rb': 49.0, 'V': 104.0, 'Ba': 186.0, 'Ti': 6873.0, 'Bi': 5.0, 'La': 113.0, 'Cr': 59.0, 'Cu': 24.0, 'Th': 49.0, 'Sb': 1.0, 'Sr': 47.0, 'P': 2730.0, 'Mo': 1.0, 'As': 11.0, 'Fe': 47737.0, 'Ag': 1.0, 'Ce': 130.0, 'U': 3.0, 'Sn': 19.0, 'Cd': 4.0, 'Co': 19.0, 'Nb': 17.0, 'Zr': 167.0, 'Mn': 678.0, 'Hg': 5.0, 'Zn': 62.0}, 'description': '', 'top': Position({'middle': 50.0, 'units': 'm'})})"
      ]
     },
     "execution_count": 18,
     "metadata": {},
     "output_type": "execute_result"
    }
   ],
   "source": [
    "xrf[4]"
   ]
  },
  {
   "cell_type": "markdown",
   "metadata": {
    "collapsed": true
   },
   "source": [
    "## Another more complicated one"
   ]
  },
  {
   "cell_type": "code",
   "execution_count": 19,
   "metadata": {
    "collapsed": false
   },
   "outputs": [],
   "source": [
    "fname = 'data/tops/Helen_top.csv'\n",
    "\n",
    "# What to include: only rows with Well = P-108\n",
    "include= {'Well identifier': lambda x: x=='P-108'}\n",
    "\n",
    "# Rename the Surface field as Name.\n",
    "remap = {'Surface': 'Name'}\n",
    "\n",
    "# What to exclude: any rows with Name = TD\n",
    "exclude = {'Name': lambda x: x=='TD'}\n",
    "\n",
    "# What to transform before using: make Z positive and correct a spelling error.\n",
    "function = {'Z': lambda x: -x,\n",
    "            'Name': lambda x: x.replace('Maguma', 'Meguma')}\n",
    "\n",
    "# Which fields to leave out of the result, apart from those that are Null.\n",
    "ignore = ['Edited by user', 'Locked to fault', 'Used by dep.conv.', 'Well', 'Symbol']\n",
    "\n",
    "# Do the thing!\n",
    "s = Striplog.from_csv(fname,\n",
    "                      include=include,\n",
    "                      exclude=exclude,\n",
    "                      remap=remap,\n",
    "                      ignore=ignore,\n",
    "                      function=function,\n",
    "                      points=False,\n",
    "                      null=-999.0\n",
    "                      )"
   ]
  },
  {
   "cell_type": "code",
   "execution_count": 20,
   "metadata": {
    "collapsed": false
   },
   "outputs": [
    {
     "data": {
      "text/plain": [
       "Striplog(4 Intervals, start=465.0, stop=1175.0)"
      ]
     },
     "execution_count": 20,
     "metadata": {},
     "output_type": "execute_result"
    }
   ],
   "source": [
    "s"
   ]
  },
  {
   "cell_type": "markdown",
   "metadata": {
    "collapsed": true
   },
   "source": [
    "## The same thing from Petrel's own format"
   ]
  },
  {
   "cell_type": "code",
   "execution_count": 21,
   "metadata": {
    "collapsed": false
   },
   "outputs": [],
   "source": [
    "fname = 'data/tops/Helen_top.txt'\n",
    "\n",
    "# What to include: only rows with Well = P-108\n",
    "include= {'Well': lambda x: x=='P-108'}\n",
    "\n",
    "# Rename the Surface field as Name.\n",
    "remap = {'Surface': 'Name'}\n",
    "\n",
    "# What to exclude: any rows with Name = TD\n",
    "exclude = {'Name': lambda x: x=='TD'}\n",
    "\n",
    "# What to transform before using: make Z positive and correct a spelling error.\n",
    "function = {'Z': lambda x: -x,\n",
    "            'Name': lambda x: x.replace('Maguma', 'Meguma')}\n",
    "\n",
    "# Which fields to leave out of the result, apart from those that are Null.\n",
    "ignore = ['Edited by user', 'Locked to fault', 'Used by dep.conv.', 'Well', 'Symbol']\n",
    "\n",
    "# Do the thing!\n",
    "s = Striplog.from_petrel(fname,\n",
    "                         include=include,\n",
    "                         exclude=exclude,\n",
    "                         remap=remap,\n",
    "                         ignore=ignore,\n",
    "                         function=function,\n",
    "                         points=False,\n",
    "                         null=-999.0\n",
    "                         )"
   ]
  },
  {
   "cell_type": "code",
   "execution_count": 22,
   "metadata": {
    "collapsed": false
   },
   "outputs": [
    {
     "data": {
      "text/plain": [
       "Striplog(4 Intervals, start=465.0, stop=1175.0)"
      ]
     },
     "execution_count": 22,
     "metadata": {},
     "output_type": "execute_result"
    }
   ],
   "source": [
    "s"
   ]
  },
  {
   "cell_type": "code",
   "execution_count": 23,
   "metadata": {
    "collapsed": false
   },
   "outputs": [
    {
     "data": {
      "text/html": [
       "<table><tr><td style=\"width:2em; background-color:#DDDDDD\" rowspan=\"6\"></td><td><strong>top</strong></td><td>1055.0</td></tr><tr><td><strong>primary</strong></td><td>None</td></tr><tr><td><strong>summary</strong></td><td>None</td></tr><tr><td><strong>description</strong></td><td></td></tr><tr><td><strong>data</strong></td><td><table><tr><td><strong>Used by geo mod</strong></td><td>True</td></tr><tr><td><strong>Name</strong></td><td>Meguma</td></tr><tr><td><strong>X</strong></td><td>478677.0</td></tr><tr><td><strong>Y</strong></td><td>5004321.0</td></tr><tr><td><strong>Z</strong></td><td>1001.35</td></tr><tr><td><strong>Interpreter</strong></td><td>cenx</td></tr><tr><td><strong>Type</strong></td><td>Other</td></tr></table></td></tr><tr><td><strong>base</strong></td><td>1175.0</td></tr></table>"
      ],
      "text/plain": [
       "Interval({'components': [], 'base': Position({'middle': 1175.0, 'units': 'm'}), 'data': {'Used by geo mod': True, 'Name': 'Meguma', 'X': 478677.0, 'Y': 5004321.0, 'Z': 1001.35, 'Interpreter': 'cenx', 'Type': 'Other'}, 'description': '', 'top': Position({'middle': 1055.0, 'units': 'm'})})"
      ]
     },
     "execution_count": 23,
     "metadata": {},
     "output_type": "execute_result"
    }
   ],
   "source": [
    "s[3]"
   ]
  }
 ],
 "metadata": {
  "kernelspec": {
   "display_name": "Python 3",
   "language": "python",
   "name": "python3"
  },
  "language_info": {
   "codemirror_mode": {
    "name": "ipython",
    "version": 3
   },
   "file_extension": ".py",
   "mimetype": "text/x-python",
   "name": "python",
   "nbconvert_exporter": "python",
   "pygments_lexer": "ipython3",
   "version": "3.5.1"
  }
 },
 "nbformat": 4,
 "nbformat_minor": 0
}
