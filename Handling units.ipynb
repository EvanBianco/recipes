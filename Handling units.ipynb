{
 "cells": [
  {
   "cell_type": "markdown",
   "metadata": {},
   "source": [
    "## Well data units\n",
    "\n",
    "Some preliminaries..."
   ]
  },
  {
   "cell_type": "code",
   "execution_count": 2,
   "metadata": {
    "collapsed": false
   },
   "outputs": [
    {
     "data": {
      "text/plain": [
       "'0.1.1'"
      ]
     },
     "execution_count": 2,
     "metadata": {},
     "output_type": "execute_result"
    }
   ],
   "source": [
    "import numpy as np\n",
    "import matplotlib.pyplot as plt\n",
    "%matplotlib inline\n",
    "import welly\n",
    "welly.__version__"
   ]
  },
  {
   "cell_type": "code",
   "execution_count": 3,
   "metadata": {
    "collapsed": false
   },
   "outputs": [],
   "source": [
    "import os\n",
    "env = %env"
   ]
  },
  {
   "cell_type": "markdown",
   "metadata": {},
   "source": [
    "## Load a well from LAS\n",
    "\n",
    "Use the `from_las()` method to load a well by passing a filename as a `str`. \n",
    "\n",
    "This is really just a wrapper for `lasio` but instantiates a `Header`, `Curve`s, etc."
   ]
  },
  {
   "cell_type": "code",
   "execution_count": 4,
   "metadata": {
    "collapsed": false
   },
   "outputs": [],
   "source": [
    "from welly import Well"
   ]
  },
  {
   "cell_type": "code",
   "execution_count": 5,
   "metadata": {
    "collapsed": false
   },
   "outputs": [],
   "source": [
    "w = Well.from_las('P-129_out.LAS')"
   ]
  },
  {
   "cell_type": "markdown",
   "metadata": {},
   "source": [
    "## Units\n",
    "\n",
    "`welly` does not deal in a smart way with units. \n",
    "\n",
    "We recommend `pint` for now. At some point we may intergate its behaviour into `welly`. "
   ]
  },
  {
   "cell_type": "code",
   "execution_count": 6,
   "metadata": {
    "collapsed": false
   },
   "outputs": [
    {
     "data": {
      "text/html": [
       "<table><tr><th style=\"text-align:center;\" colspan=\"2\">RHOB [g/cm3]</th></tr><tr><td style=\"text-align:center;\" colspan=\"2\">1.0668 : 1939.2900 : 0.1524</td></tr><tr><td><strong>description</strong></td><td>Bulk Density</td></tr><tr><td><strong>run</strong></td><td>1</td></tr><tr><td><strong>service_company</strong></td><td>Schlumberger</td></tr><tr><td><strong>code</strong></td><td></td></tr><tr><td><strong>null</strong></td><td>-999.25</td></tr><tr><td><strong>date</strong></td><td>10-Oct-2007</td></tr><tr><th style=\"border-top: 2px solid #000;\">Depth</th><th style=\"border-top: 2px solid #000;\">Value</th></tr><tr><td>1.0668</td><td>2.3901</td></tr><tr><td>1.2192</td><td>2.3901</td></tr><tr><td>1.3716</td><td>2.3901</td></tr><tr><td>⋮</td><td>⋮</td></tr><tr><td>1938.8328</td><td>nan</td></tr><tr><td>1938.9852</td><td>nan</td></tr><tr><td>1939.1376</td><td>nan</td></tr></table>"
      ],
      "text/plain": [
       "Curve([ 2.39014983,  2.39014983,  2.39014983, ...,         nan,\n",
       "               nan,         nan])"
      ]
     },
     "execution_count": 6,
     "metadata": {},
     "output_type": "execute_result"
    }
   ],
   "source": [
    "w.data['RHOB']"
   ]
  },
  {
   "cell_type": "code",
   "execution_count": 7,
   "metadata": {
    "collapsed": false
   },
   "outputs": [
    {
     "name": "stdout",
     "output_type": "stream",
     "text": [
      "[ 2390.1498318  2390.1498318  2390.1498318 ...,           nan           nan           nan] kilogram / meter ** 3\n"
     ]
    }
   ],
   "source": [
    "import pint\n",
    "ureg = pint.UnitRegistry()\n",
    "\n",
    "rhob_old = ureg.Quantity(w.data['RHOB'], 'g/cm^3')\n",
    "rhob_new = rhob_old.to('kg/m^3')\n",
    "\n",
    "print(rhob_new)"
   ]
  },
  {
   "cell_type": "code",
   "execution_count": 8,
   "metadata": {
    "collapsed": false
   },
   "outputs": [
    {
     "data": {
      "text/html": [
       "kilogram/meter<sup>3</sup>"
      ],
      "text/latex": [
       "$\\frac{kilogram}{meter^{3}}$"
      ],
      "text/plain": [
       "<Unit('kilogram / meter ** 3')>"
      ]
     },
     "execution_count": 8,
     "metadata": {},
     "output_type": "execute_result"
    }
   ],
   "source": [
    "rhob_new.units"
   ]
  },
  {
   "cell_type": "code",
   "execution_count": null,
   "metadata": {
    "collapsed": true
   },
   "outputs": [],
   "source": []
  }
 ],
 "metadata": {
  "kernelspec": {
   "display_name": "Python 3",
   "language": "python",
   "name": "python3"
  },
  "language_info": {
   "codemirror_mode": {
    "name": "ipython",
    "version": 3
   },
   "file_extension": ".py",
   "mimetype": "text/x-python",
   "name": "python",
   "nbconvert_exporter": "python",
   "pygments_lexer": "ipython3",
   "version": "3.4.4"
  }
 },
 "nbformat": 4,
 "nbformat_minor": 0
}
