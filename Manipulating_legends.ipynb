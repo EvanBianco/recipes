{
 "cells": [
  {
   "cell_type": "markdown",
   "metadata": {},
   "source": [
    "# Manipulatings"
   ]
  },
  {
   "cell_type": "markdown",
   "metadata": {},
   "source": [
    "We want to extract `striplogs` from all of Helens striplog images, and save them as LAS files."
   ]
  },
  {
   "cell_type": "markdown",
   "metadata": {},
   "source": [
    "## Legends \n",
    "There are several `default` legens:\n",
    "\n",
    "<code>'nsdoe'</code>: Nova Scotia Dept. of Energy\n",
    "\n",
    "<code>'nagmdm__6_2'</code>: USGS N. Am. Geol. Map Data Model 6.2 <<< default\n",
    "\n",
    "<code>'nagmdm__6_1'</code>: USGS N. Am. Geol. Map Data Model 6.1\n",
    "\n",
    "<code>'nagmdm__4_3'</code>: USGS N. Am. Geol. Map Data Model 4.3\n",
    "\n",
    "<code>'sgmc'</code>: USGS State Geologic Map Compilation"
   ]
  },
  {
   "cell_type": "code",
   "execution_count": 2,
   "metadata": {
    "collapsed": false
   },
   "outputs": [],
   "source": [
    "from striplog import Striplog, Legend\n",
    "legend = Legend.default(name='nsdoe')"
   ]
  },
  {
   "cell_type": "markdown",
   "metadata": {},
   "source": [
    "This legend already has the colours defined, with the rocks those colours represent:"
   ]
  },
  {
   "cell_type": "code",
   "execution_count": 7,
   "metadata": {
    "collapsed": false
   },
   "outputs": [],
   "source": [
    "% matplotlib inline"
   ]
  },
  {
   "cell_type": "code",
   "execution_count": 16,
   "metadata": {
    "collapsed": false
   },
   "outputs": [
    {
     "data": {
      "text/plain": [
       "<bound method Legend.get_component of Legend(Decor({'colour': '#f7e9a6', 'hatch': None, 'component': Component({'colour': 'grey', 'grainsize': 'vf-f', 'lithology': 'sandstone'}), 'width': 3.0})\n",
       "Decor({'colour': '#ff99cc', 'hatch': None, 'component': Component({'lithology': 'anhydrite'}), 'width': 2.0})\n",
       "Decor({'colour': '#dbd6bc', 'hatch': None, 'component': Component({'colour': 'grey', 'lithology': 'heterolithic'}), 'width': 3.0})\n",
       "Decor({'colour': '#ff4c4a', 'hatch': None, 'component': Component({'lithology': 'volcanic'}), 'width': 2.0})\n",
       "Decor({'colour': '#86f0b6', 'hatch': None, 'component': Component({'lithology': 'conglomerate'}), 'width': 5.0})\n",
       "Decor({'colour': '#ff96f6', 'hatch': None, 'component': Component({'lithology': 'halite'}), 'width': 2.0})\n",
       "Decor({'colour': '#f2ff42', 'hatch': None, 'component': Component({'colour': 'grey', 'grainsize': 'f-m', 'lithology': 'sandstone'}), 'width': 4.0})\n",
       "Decor({'colour': '#dbc9bc', 'hatch': None, 'component': Component({'colour': 'red', 'lithology': 'heterolithic'}), 'width': 3.0})\n",
       "Decor({'colour': '#a68374', 'hatch': None, 'component': Component({'colour': 'grey', 'lithology': 'siltstone'}), 'width': 2.0})\n",
       "Decor({'colour': '#a657fa', 'hatch': None, 'component': Component({'lithology': 'dolomite'}), 'width': 3.0})\n",
       "Decor({'colour': '#ffd073', 'hatch': None, 'component': Component({'colour': 'red', 'grainsize': 'c-m', 'lithology': 'sandstone'}), 'width': 4.0})\n",
       "Decor({'colour': '#a6d1ff', 'hatch': None, 'component': Component({'lithology': 'limestone'}), 'width': 3.0})\n",
       "Decor({'colour': '#ffdbba', 'hatch': None, 'component': Component({'colour': 'red', 'grainsize': 'vf-f', 'lithology': 'sandstone'}), 'width': 3.0})\n",
       "Decor({'colour': '#ffe040', 'hatch': None, 'component': Component({'colour': 'grey', 'grainsize': 'c-m', 'lithology': 'sandstone'}), 'width': 4.0})\n",
       "Decor({'colour': '#a1655a', 'hatch': None, 'component': Component({'colour': 'red', 'lithology': 'siltstone'}), 'width': 2.0})\n",
       "Decor({'colour': '#363434', 'hatch': None, 'component': Component({'lithology': 'coal'}), 'width': 1.0})\n",
       "Decor({'colour': '#664a4a', 'hatch': None, 'component': Component({'colour': 'red', 'lithology': 'mudstone'}), 'width': 1.0})\n",
       "Decor({'colour': '#666666', 'hatch': None, 'component': Component({'colour': 'grey', 'lithology': 'mudstone'}), 'width': 1.0}))>"
      ]
     },
     "execution_count": 16,
     "metadata": {},
     "output_type": "execute_result"
    }
   ],
   "source": [
    "legend.get_component"
   ]
  },
  {
   "cell_type": "code",
   "execution_count": 10,
   "metadata": {
    "collapsed": false
   },
   "outputs": [
    {
     "data": {
      "image/png": "[encoded data removed]",
      "text/plain": [
       "<matplotlib.figure.Figure at 0x10eea43c8>"
      ]
     },
     "metadata": {},
     "output_type": "display_data"
    }
   ],
   "source": [
    "legend[4].plot()"
   ]
  },
  {
   "cell_type": "markdown",
   "metadata": {},
   "source": [
    "Look at the fourth element in the legend, each item in the legend has a arbitrary number of display parameters and style settings"
   ]
  },
  {
   "cell_type": "code",
   "execution_count": 25,
   "metadata": {
    "collapsed": true
   },
   "outputs": [],
   "source": [
    "from striplog import Component"
   ]
  },
  {
   "cell_type": "code",
   "execution_count": 26,
   "metadata": {
    "collapsed": false
   },
   "outputs": [],
   "source": [
    "c1 = Component({'lithology': 'conglomerate'})"
   ]
  },
  {
   "cell_type": "code",
   "execution_count": 28,
   "metadata": {
    "collapsed": false
   },
   "outputs": [
    {
     "data": {
      "text/html": [
       "<table><tr><td><strong>colour</strong></td><td style=\"color:#000000; background-color:#86f0b6\">#86f0b6</td></tr><tr><td><strong>hatch</strong></td><td style=\"color:black; background-color:white\">None</td></tr><tr><td><strong>component</strong></td><td style=\"color:black; background-color:white\"><table><tr><td><strong>lithology</strong></td><td>conglomerate</td></tr></table></td></tr><tr><td><strong>width</strong></td><td style=\"color:black; background-color:white\">5.0</td></tr></table>"
      ],
      "text/plain": [
       "Decor({'colour': '#86f0b6', 'hatch': None, 'component': Component({'lithology': 'conglomerate'}), 'width': 5.0})"
      ]
     },
     "execution_count": 28,
     "metadata": {},
     "output_type": "execute_result"
    }
   ],
   "source": [
    "legend.get_decor(c1)"
   ]
  },
  {
   "cell_type": "markdown",
   "metadata": {},
   "source": [
    "Change the color of conglomerate to burnt orange"
   ]
  },
  {
   "cell_type": "code",
   "execution_count": 33,
   "metadata": {
    "collapsed": false
   },
   "outputs": [
    {
     "data": {
      "image/png": "[encoded data removed]",
      "text/plain": [
       "<matplotlib.figure.Figure at 0x10f2dcf98>"
      ]
     },
     "metadata": {},
     "output_type": "display_data"
    },
    {
     "data": {
      "image/png": "[encoded data removed]",
      "text/plain": [
       "<matplotlib.figure.Figure at 0x10f33bfd0>"
      ]
     },
     "metadata": {},
     "output_type": "display_data"
    },
    {
     "data": {
      "image/png": "[encoded data removed]",
      "text/plain": [
       "<matplotlib.figure.Figure at 0x10f2f8e10>"
      ]
     },
     "metadata": {},
     "output_type": "display_data"
    },
    {
     "data": {
      "image/png": "[encoded data removed]",
      "text/plain": [
       "<matplotlib.figure.Figure at 0x10f3dd7b8>"
      ]
     },
     "metadata": {},
     "output_type": "display_data"
    },
    {
     "data": {
      "image/png": "[encoded data removed]",
      "text/plain": [
       "<matplotlib.figure.Figure at 0x10f3a9390>"
      ]
     },
     "metadata": {},
     "output_type": "display_data"
    }
   ],
   "source": [
    "burnt_orange = '#CF5300'  # hex code for burnt orange\n",
    "legend[4].colour = burnt_orange  # change the colour\n",
    "legend[:5].plot()  # plot the first 5 items in the legend"
   ]
  },
  {
   "cell_type": "code",
   "execution_count": 34,
   "metadata": {
    "collapsed": false
   },
   "outputs": [
    {
     "data": {
      "image/png": "[encoded data removed]",
      "text/plain": [
       "<matplotlib.figure.Figure at 0x10f43a438>"
      ]
     },
     "metadata": {},
     "output_type": "display_data"
    },
    {
     "data": {
      "image/png": "[encoded data removed]",
      "text/plain": [
       "<matplotlib.figure.Figure at 0x10f2fcfd0>"
      ]
     },
     "metadata": {},
     "output_type": "display_data"
    },
    {
     "data": {
      "image/png": "[encoded data removed]",
      "text/plain": [
       "<matplotlib.figure.Figure at 0x10f03d048>"
      ]
     },
     "metadata": {},
     "output_type": "display_data"
    },
    {
     "data": {
      "image/png": "[encoded data removed]",
      "text/plain": [
       "<matplotlib.figure.Figure at 0x10ec93eb8>"
      ]
     },
     "metadata": {},
     "output_type": "display_data"
    },
    {
     "data": {
      "image/png": "[encoded data removed]",
      "text/plain": [
       "<matplotlib.figure.Figure at 0x10e9c25f8>"
      ]
     },
     "metadata": {},
     "output_type": "display_data"
    },
    {
     "data": {
      "image/png": "[encoded data removed]",
      "text/plain": [
       "<matplotlib.figure.Figure at 0x10ea04588>"
      ]
     },
     "metadata": {},
     "output_type": "display_data"
    },
    {
     "data": {
      "image/png": "[encoded data removed]",
      "text/plain": [
       "<matplotlib.figure.Figure at 0x10e90f5f8>"
      ]
     },
     "metadata": {},
     "output_type": "display_data"
    },
    {
     "data": {
      "image/png": "[encoded data removed]",
      "text/plain": [
       "<matplotlib.figure.Figure at 0x10f412828>"
      ]
     },
     "metadata": {},
     "output_type": "display_data"
    },
    {
     "data": {
      "image/png": "[encoded data removed]",
      "text/plain": [
       "<matplotlib.figure.Figure at 0x10f390f60>"
      ]
     },
     "metadata": {},
     "output_type": "display_data"
    },
    {
     "data": {
      "image/png": "[encoded data removed]",
      "text/plain": [
       "<matplotlib.figure.Figure at 0x10f2b5e48>"
      ]
     },
     "metadata": {},
     "output_type": "display_data"
    },
    {
     "data": {
      "image/png": "[encoded data removed]",
      "text/plain": [
       "<matplotlib.figure.Figure at 0x10e8c9a90>"
      ]
     },
     "metadata": {},
     "output_type": "display_data"
    },
    {
     "data": {
      "image/png": "[encoded data removed]",
      "text/plain": [
       "<matplotlib.figure.Figure at 0x10f4be860>"
      ]
     },
     "metadata": {},
     "output_type": "display_data"
    },
    {
     "data": {
      "image/png": "[encoded data removed]",
      "text/plain": [
       "<matplotlib.figure.Figure at 0x10f088f98>"
      ]
     },
     "metadata": {},
     "output_type": "display_data"
    },
    {
     "data": {
      "image/png": "[encoded data removed]",
      "text/plain": [
       "<matplotlib.figure.Figure at 0x10f07de80>"
      ]
     },
     "metadata": {},
     "output_type": "display_data"
    },
    {
     "data": {
      "image/png": "[encoded data removed]",
      "text/plain": [
       "<matplotlib.figure.Figure at 0x10f326ac8>"
      ]
     },
     "metadata": {},
     "output_type": "display_data"
    },
    {
     "data": {
      "image/png": "[encoded data removed]",
      "text/plain": [
       "<matplotlib.figure.Figure at 0x10f353898>"
      ]
     },
     "metadata": {},
     "output_type": "display_data"
    },
    {
     "data": {
      "image/png": "[encoded data removed]",
      "text/plain": [
       "<matplotlib.figure.Figure at 0x10ea13048>"
      ]
     },
     "metadata": {},
     "output_type": "display_data"
    },
    {
     "data": {
      "image/png": "[encoded data removed]",
      "text/plain": [
       "<matplotlib.figure.Figure at 0x10ec14320>"
      ]
     },
     "metadata": {},
     "output_type": "display_data"
    }
   ],
   "source": [
    "legend.plot()"
   ]
  },
  {
   "cell_type": "code",
   "execution_count": null,
   "metadata": {
    "collapsed": true
   },
   "outputs": [],
   "source": []
  }
 ],
 "metadata": {
  "kernelspec": {
   "display_name": "Python 3",
   "language": "python",
   "name": "python3"
  },
  "language_info": {
   "codemirror_mode": {
    "name": "ipython",
    "version": 3
   },
   "file_extension": ".py",
   "mimetype": "text/x-python",
   "name": "python",
   "nbconvert_exporter": "python",
   "pygments_lexer": "ipython3",
   "version": "3.5.1"
  }
 },
 "nbformat": 4,
 "nbformat_minor": 0
}
