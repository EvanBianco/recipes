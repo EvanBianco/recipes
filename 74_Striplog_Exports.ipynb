{
 "cells": [
  {
   "cell_type": "markdown",
   "metadata": {},
   "source": [
    "# Striplogs Exports"
   ]
  },
  {
   "cell_type": "markdown",
   "metadata": {},
   "source": [
    "In this recipe we will show how to create a `striplog` from one of Helen's images, visualize it, and save it to LAS files, and save it as PNG, or SVG format that can used in a graphics editor"
   ]
  },
  {
   "cell_type": "markdown",
   "metadata": {},
   "source": [
    "First, import modules we might need"
   ]
  },
  {
   "cell_type": "code",
   "execution_count": 24,
   "metadata": {
    "collapsed": false
   },
   "outputs": [
    {
     "data": {
      "text/plain": [
       "'0.6.1'"
      ]
     },
     "execution_count": 24,
     "metadata": {},
     "output_type": "execute_result"
    }
   ],
   "source": [
    "import matplotlib.pyplot as plt\n",
    "% matplotlib inline\n",
    "\n",
    "import numpy as np\n",
    "\n",
    "import striplog\n",
    "striplog.__version__\n"
   ]
  },
  {
   "cell_type": "code",
   "execution_count": null,
   "metadata": {
    "collapsed": true
   },
   "outputs": [],
   "source": []
  },
  {
   "cell_type": "code",
   "execution_count": 14,
   "metadata": {
    "collapsed": false
   },
   "outputs": [],
   "source": [
    "from striplog import Striplog, Legend\n",
    "legend = Legend.default(name='nsdoe')"
   ]
  },
  {
   "cell_type": "markdown",
   "metadata": {},
   "source": [
    "Define a quick function for finding files that match a given pattern:"
   ]
  },
  {
   "cell_type": "code",
   "execution_count": 5,
   "metadata": {
    "collapsed": false
   },
   "outputs": [],
   "source": [
    "import re\n",
    "import os\n",
    "def listdir(directory, match):\n",
    "    for f in os.listdir(directory):\n",
    "        if match:\n",
    "            if not re.search(match, f, flags=re.IGNORECASE):\n",
    "                continue\n",
    "        yield os.path.join(directory, f)"
   ]
  },
  {
   "cell_type": "markdown",
   "metadata": {},
   "source": [
    "Now step over the files. For each one, make a `striplog`, and add it to a dictionary. This way we can easily step over it later to process the elements or save them into files. \n",
    "\n",
    "Each file name has the form, `Well_start_stop.png`. Here's an example of an image, from file `M-Malagawatch-2_0_610.23.png`:\n",
    "\n",
    "<img src=\"M-Malagawatch-2_0_610.23.png\" width=25 />\n",
    "\n",
    "We pass the file name into the loop, and extract the well name (*M-Malagewatch-2*), the start depth (0 m), and the end depth (610.23 m). Then we pass these to the `.from_img()` call, along with the `legend` (which it needs to assign rocks to the colours), and a 'tolerance', which tells it how flexible to be with colours."
   ]
  },
  {
   "cell_type": "markdown",
   "metadata": {},
   "source": [
    "This takes about 20 seconds to run."
   ]
  },
  {
   "cell_type": "code",
   "execution_count": 8,
   "metadata": {
    "collapsed": false
   },
   "outputs": [],
   "source": [
    "wells = {}\n",
    "directory = \"../data/PNG\"\n",
    "\n",
    "for f in listdir(directory, r\"[MP].+\\.png\"):\n",
    "    name, start, stop = os.path.basename(f).strip('.png').split('_')\n",
    "    \n",
    "    well = Well()\n",
    "    \n",
    "    # Make the striplog.\n",
    "    striplog = Striplog.from_img(f, float(start), float(stop), legend=legend, tolerance=35)\n",
    "    \n",
    "    # Add the striplog to the well.\n",
    "    well.add_striplog(striplog, \"lithology\")\n",
    "    \n",
    "    wells[name] = well"
   ]
  },
  {
   "cell_type": "code",
   "execution_count": 10,
   "metadata": {
    "collapsed": false
   },
   "outputs": [
    {
     "data": {
      "text/plain": [
       "['M-Kempt-Head-84-1',\n",
       " 'M-OB-62-74',\n",
       " 'M-Malagawatch-1',\n",
       " 'M-Maypole',\n",
       " 'P-55',\n",
       " 'M-P-05',\n",
       " 'M-F-24',\n",
       " 'P-93',\n",
       " 'M-BearIsland-1',\n",
       " 'M-Port-Malcolm',\n",
       " 'P-103',\n",
       " 'P-101',\n",
       " 'P-126',\n",
       " 'P-121',\n",
       " 'P-120',\n",
       " 'P-104',\n",
       " 'P-132',\n",
       " 'P-108',\n",
       " 'P-129',\n",
       " 'P-128',\n",
       " 'M-Woodbine-Road-84-1',\n",
       " 'M-Sunoco-1',\n",
       " 'M-StPaul-P-91',\n",
       " 'M-SYD-82',\n",
       " 'M-Malagawatch-2',\n",
       " 'M-SB1',\n",
       " 'M-BrasDor-1',\n",
       " 'M-MG-70',\n",
       " 'M-BrasDor-2',\n",
       " 'P-85',\n",
       " 'P-86',\n",
       " 'P-84',\n",
       " 'M-MullRiver',\n",
       " 'M-Malagawatch-10',\n",
       " 'P-119',\n",
       " 'P-130',\n",
       " 'P-114',\n",
       " 'P-117',\n",
       " 'P-110',\n",
       " 'P-111',\n",
       " 'P-112',\n",
       " 'P-113']"
      ]
     },
     "execution_count": 10,
     "metadata": {},
     "output_type": "execute_result"
    }
   ],
   "source": [
    "wells.keys()"
   ]
  },
  {
   "cell_type": "code",
   "execution_count": 11,
   "metadata": {
    "collapsed": false
   },
   "outputs": [
    {
     "data": {
      "image/png": "[encoded data removed]",
      "text/plain": [
       "<matplotlib.figure.Figure at 0x1093aa050>"
      ]
     },
     "metadata": {},
     "output_type": "display_data"
    }
   ],
   "source": [
    "%matplotlib inline\n",
    "wells['P-129'].striplog.lithology.plot(legend, ladder=True, interval=(10,50), aspect=10)"
   ]
  },
  {
   "cell_type": "markdown",
   "metadata": {},
   "source": [
    "It's easy to form a chunk of LAS3-style text using the `striplog.to_las3()` method:"
   ]
  },
  {
   "cell_type": "code",
   "execution_count": 12,
   "metadata": {
    "collapsed": false
   },
   "outputs": [
    {
     "name": "stdout",
     "output_type": "stream",
     "text": [
      "~Lithology_Parameter\n",
      "LITH .   Striplog         : Lithology source          {S}\n",
      "LITHD.   MD               : Lithology depth reference {S}\n",
      "\n",
      "~Lithology_Definition\n",
      "LITHT.M                   : Lithology top depth       {F}\n",
      "LITHB.M                   : Lithology base depth      {F}\n",
      "LITHD.                    : Lithology description     {S}\n",
      "\n",
      "~Lithology_Data | Lithology_Definition\n",
      "  280.000,  299.986,  \"Red, siltstone\"                                \n",
      "  299.986,  304.008,  \"Grey, sandstone, vf-f\"                         \n",
      "  304.008,  328.016,  \"Red, siltstone\"                                \n",
      "  328.016,  328.990,  \"Limestone\"                                     \n",
      "  328.990,  330.007,  \"Red, siltstone\"                                \n",
      "  330.007,  333.987,  \"Limestone\"                                     \n",
      "  333.987,  338.983,  \"Red, siltstone\"                                \n",
      "  338.983,  340.931,  \"Limestone\"                                     \n",
      "  340.931,  345.927,  \"Red, siltstone\"                                \n",
      "  345.927,  346.944,  \"Limestone\"                                     \n",
      "  346.944,  414.946,  \"Red, siltstone\"                                \n",
      "  414.946,  416.936,  \"Grey, mudstone\"                                \n",
      "  416.936,  422.440,  \"Red, heterolithic\"                             \n",
      "  422.440,  423.414,  \"Grey, mudstone\"                                \n",
      "  423.414,  426.929,  \"Red, heterolithic\"                             \n",
      "  426.929,  427.902,  \"Grey, mudstone\"                                \n",
      "  427.902,  449.921,  \"Anhydrite\"                                     \n",
      "  449.921,  452.927,  \"Limestone\"                                     \n",
      "  452.927,  528.974,  \"Red, heterolithic\"                             \n",
      "  528.974,  532.446,  \"Anhydrite\"                                     \n",
      "  532.446,  537.485,  \"Red, heterolithic\"                             \n",
      "  537.485,  539.983,  \"Limestone\"                                     \n",
      "  539.983,  586.009,  \"Red, heterolithic\"                             \n",
      "  586.009,  589.016,  \"Limestone\"                                     \n",
      "  589.016,  591.006,  \"Red, siltstone\"                                \n",
      "  591.006,  592.996,  \"Limestone\"                                     \n",
      "  592.996,  594.012,  \"Red, siltstone\"                                \n",
      "  594.012,  594.986,  \"Limestone\"                                     \n",
      "  594.986,  615.014,  \"Red, siltstone\"                                \n",
      "  615.014,  621.492,  \"Anhydrite\"                                     \n",
      "  621.492,  639.996,  \"Red, siltstone\"                                \n",
      "  639.996,  642.960,  \"Anhydrite\"                                     \n",
      "  642.960,  645.966,  \"Red, siltstone\"                                \n",
      "  645.966,  649.989,  \"Anhydrite\"                                     \n",
      "  649.989,  652.487,  \"Red, siltstone\"                                \n",
      "  652.487,  656.002,  \"Anhydrite\"                                     \n",
      "  656.002,  669.975,  \"Red, heterolithic\"                             \n",
      "  669.975,  674.971,  \"Grey, sandstone, vf-f\"                         \n",
      "  674.971,  703.468,  \"Anhydrite\"                                     \n",
      "  703.468,  703.976,  \"Grey, sandstone, vf-f\"                         \n",
      "  703.976,  705.966,  \"Anhydrite\"                                     \n",
      "  705.966,  707.448,  \"Grey, sandstone, vf-f\"                         \n",
      "  707.448,  714.477,  \"Anhydrite\"                                     \n",
      "  714.477,  715.451,  \"Limestone\"                                     \n",
      "  715.451,  719.473,  \"Anhydrite\"                                     \n",
      "  719.473,  724.470,  \"Limestone\"                                     \n",
      "  724.470,  734.462,  \"Anhydrite\"                                     \n",
      "  734.462,  735.436,  \"Limestone\"                                     \n",
      "  735.436,  761.900,  \"Anhydrite\"                                     \n",
      "  761.900,  764.907,  \"Limestone\"                                     \n",
      "  764.907,  778.922,  \"Anhydrite\"                                     \n",
      "  778.922,  779.938,  \"Limestone\"                                     \n",
      "  779.938,  805.937,  \"Anhydrite\"                                     \n",
      "  805.937,  809.959,  \"Limestone\"                                     \n",
      "  809.959,  827.955,  \"Red, sandstone, vf-f\"                          \n",
      "  827.955,  829.945,  \"Grey, sandstone, vf-f\"                         \n",
      "  829.945,  838.921,  \"Red, sandstone, vf-f\"                          \n",
      "  838.921,  840.954,  \"Grey, sandstone, vf-f\"                         \n",
      "  840.954,  847.432,  \"Red, sandstone, vf-f\"                          \n",
      "  847.432,  853.953,  \"Grey, sandstone, vf-f\"                         \n",
      "  853.953,  859.966,  \"Red, sandstone, vf-f\"                          \n",
      "  859.966,  862.930,  \"Grey, sandstone, vf-f\"                         \n",
      "  862.930,  872.457,  \"Red, sandstone, vf-f\"                          \n",
      "  872.457,  874.955,  \"Grey, sandstone, vf-f\"                         \n",
      "  874.955,  878.935,  \"Red, sandstone, vf-f\"                          \n",
      "  878.935,  880.925,  \"Grey, sandstone, vf-f\"                         \n",
      "  880.925,  893.924,  \"Red, sandstone, vf-f\"                          \n",
      "  893.924,  894.941,  \"Grey, sandstone, vf-f\"                         \n",
      "  894.941,  905.950,  \"Red, sandstone, vf-f\"                          \n",
      "  905.950,  918.949,  \"Grey, sandstone, vf-f\"                         \n",
      "  918.949,  919.923,  \"Red, mudstone\"                                 \n",
      "  919.923,  939.908,  \"Grey, sandstone, vf-f\"                         \n",
      "  939.908,  947.403,  \"Red, mudstone\"                                 \n",
      "  947.403,  955.914,  \"Grey, sandstone, vf-f\"                         \n",
      "  955.914,  984.918,  \"Red, sandstone, vf-f\"                          \n",
      "  984.918,  991.947,  \"Grey, sandstone, vf-f\"                         \n",
      "  991.947, 1015.913,  \"Red, sandstone, vf-f\"                          \n",
      " 1015.913, 1019.936,  \"Grey, sandstone, vf-f\"                         \n",
      " 1019.936, 1134.938,  \"Red, heterolithic\"                             \n",
      " 1134.938, 1137.436,  \"Grey, sandstone, vf-f\"                         \n",
      " 1137.436, 1152.425,  \"Grey, heterolithic\"                            \n",
      " 1152.425, 1154.924,  \"Grey, sandstone, vf-f\"                         \n",
      " 1154.924, 1159.920,  \"Grey, mudstone\"                                \n",
      " 1159.920, 1164.959,  \"Grey, sandstone, vf-f\"                         \n",
      " 1164.959, 1201.966,  \"Grey, heterolithic\"                            \n",
      " 1201.966, 1204.972,  \"Grey, sandstone, f-m\"                          \n",
      " 1204.972, 1207.005,  \"Grey, heterolithic\"                            \n",
      " 1207.005, 1210.011,  \"Grey, sandstone, f-m\"                          \n",
      " 1210.011, 1217.506,  \"Grey, heterolithic\"                            \n",
      " 1217.506, 1221.486,  \"Grey, sandstone, f-m\"                          \n",
      " 1221.486, 1238.000,  \"Grey, heterolithic\"                            \n",
      " 1238.000, 1246.002,  \"Grey, sandstone, f-m\"                          \n",
      " 1246.002, 1252.481,  \"Grey, mudstone\"                                \n",
      " 1252.481, 1262.982,  \"Grey, sandstone, f-m\"                          \n",
      " 1262.982, 1272.509,  \"Grey, heterolithic\"                            \n",
      " 1272.509, 1277.505,  \"Grey, sandstone, f-m\"                          \n",
      " 1277.505, 1287.498,  \"Grey, heterolithic\"                            \n",
      " 1287.498, 1294.019,  \"Grey, sandstone, f-m\"                          \n",
      " 1294.019, 1304.012,  \"Grey, mudstone\"                                \n",
      " 1304.012, 1309.008,  \"Grey, sandstone, f-m\"                          \n",
      " 1309.008, 1332.000,  \"Grey, heterolithic\"                            \n",
      " 1332.000, 1333.990,  \"Grey, sandstone, f-m\"                          \n",
      " 1333.990, 1343.009,  \"Grey, heterolithic\"                            \n",
      " 1343.009, 1349.996,  \"Grey, sandstone, f-m\"                          \n",
      " 1349.996, 1357.490,  \"Grey, heterolithic\"                            \n",
      " 1357.490, 1359.988,  \"Grey, sandstone, f-m\"                          \n",
      " 1359.988, 1367.991,  \"Grey, heterolithic\"                            \n",
      " 1367.991, 1369.981,  \"Grey, sandstone, f-m\"                          \n",
      " 1369.981, 1374.978,  \"Grey, mudstone\"                                \n",
      " 1374.978, 1377.010,  \"Grey, sandstone, f-m\"                          \n",
      " 1377.010, 1393.524,  \"Grey, heterolithic\"                            \n",
      " 1393.524, 1399.028,  \"Grey, sandstone, f-m\"                          \n",
      " 1399.028, 1414.018,  \"Grey, heterolithic\"                            \n",
      " 1414.018, 1425.027,  \"Grey, sandstone, vf-f\"                         \n",
      " 1425.027, 1428.033,  \"Grey, heterolithic\"                            \n",
      " 1428.033, 1435.019,  \"Grey, sandstone, vf-f\"                         \n",
      " 1435.019, 1443.996,  \"Grey, heterolithic\"                            \n",
      " 1443.996, 1448.992,  \"Grey, sandstone, vf-f\"                         \n",
      " 1448.992, 1455.979,  \"Grey, heterolithic\"                            \n",
      " 1455.979, 1458.985,  \"Grey, sandstone, vf-f\"                         \n",
      " 1458.985, 1460.002,  \"Grey, mudstone\"                                \n",
      " 1460.002, 1463.474,  \"Grey, sandstone, vf-f\"                         \n",
      " 1463.474, 1482.020,  \"Grey, heterolithic\"                            \n",
      " 1482.020, 1484.010,  \"Grey, mudstone\"                                \n",
      " 1484.010, 1487.524,  \"Grey, sandstone, vf-f\"                         \n",
      " 1487.524, 1489.049,  \"Grey, mudstone\"                                \n",
      " 1489.049, 1491.081,  \"Grey, sandstone, vf-f\"                         \n",
      " 1491.081, 1495.569,  \"Grey, heterolithic\"                            \n",
      " 1495.569, 1507.552,  \"Grey, sandstone, f-m\"                          \n",
      " 1507.552, 1515.089,  \"Grey, heterolithic\"                            \n",
      " 1515.089, 1525.082,  \"Grey, sandstone, f-m\"                          \n",
      " 1525.082, 1527.072,  \"Grey, mudstone\"                                \n",
      " 1527.072, 1540.071,  \"Grey, sandstone, f-m\"                          \n",
      " 1540.071, 1542.061,  \"Grey, mudstone\"                                \n",
      " 1542.061, 1545.068,  \"Grey, sandstone, f-m\"                          \n",
      " 1545.068, 1547.524,  \"Grey, mudstone\"                                \n",
      " 1547.524, 1553.028,  \"Grey, sandstone, f-m\"                          \n",
      " 1553.028, 1554.002,  \"Grey, mudstone\"                                \n",
      " 1554.002, 1556.500,  \"Grey, sandstone, f-m\"                          \n",
      " 1556.500, 1557.516,  \"Grey, mudstone\"                                \n",
      " 1557.516, 1560.015,  \"Grey, sandstone, f-m\"                          \n",
      " 1560.015, 1562.005,  \"Grey, mudstone\"                                \n",
      " 1562.005, 1568.017,  \"Grey, sandstone, f-m\"                          \n",
      " 1568.017, 1570.007,  \"Grey, mudstone\"                                \n",
      " 1570.007, 1571.998,  \"Grey, sandstone, f-m\"                          \n",
      " 1571.998, 1573.014,  \"Grey, mudstone\"                                \n",
      " 1573.014, 1600.028,  \"Grey, sandstone, f-m\"                          \n",
      " 1600.028, 1602.992,  \"Grey, mudstone\"                                \n",
      " 1602.992, 1635.046,  \"Grey, sandstone, f-m\"                          \n",
      " 1635.046, 1640.042,  \"Grey, heterolithic\"                            \n",
      " 1640.042, 1644.530,  \"Grey, sandstone, f-m\"                          \n",
      " 1644.530, 1648.045,  \"Grey, mudstone\"                                \n",
      " 1648.045, 1655.539,  \"Grey, sandstone, f-m\"                          \n",
      " 1655.539, 1657.572,  \"Grey, mudstone\"                                \n",
      " 1657.572, 1675.102,  \"Grey, sandstone, f-m\"                          \n",
      " 1675.102, 1677.092,  \"Grey, mudstone\"                                \n",
      " 1677.092, 1698.559,  \"Grey, sandstone, f-m\"                          \n",
      " 1698.559, 1700.084,  \"Grey, mudstone\"                                \n",
      " 1700.084, 1713.040,  \"Grey, sandstone, f-m\"                          \n",
      " 1713.040, 1715.031,  \"Grey, mudstone\"                                \n",
      " 1715.031, 1733.534,  \"Grey, sandstone, f-m\"                          \n",
      " 1733.534, 1734.550,  \"Grey, mudstone\"                                \n",
      " 1734.550, 1737.049,  \"Grey, sandstone, f-m\"                          \n",
      " 1737.049, 1738.531,  \"Grey, mudstone\"                                \n",
      " 1738.531, 1742.045,  \"Grey, sandstone, f-m\"                          \n",
      " 1742.045, 1743.019,  \"Grey, mudstone\"                                \n",
      " 1743.019, 1756.018,  \"Grey, sandstone, f-m\"                          \n",
      " 1756.018, 1770.034,  \"Grey, mudstone\"                                \n",
      " 1770.034, 1784.049,  \"Grey, sandstone, f-m\"                          \n",
      " 1784.049, 1784.557,  \"Grey, mudstone\"                                \n",
      " 1784.557, 1797.514,  \"Grey, sandstone, f-m\"                          \n",
      " 1797.514, 1800.520,  \"Grey, mudstone\"                                \n",
      " 1800.520, 1836.511,  \"Grey, sandstone, f-m\"                          \n",
      " 1836.511, 1837.019,  \"Grey, mudstone\"                                \n",
      " 1837.019, 1841.000,  \"Grey, sandstone, f-m\"                          \n",
      " 1841.000, 1842.016,  \"Grey, mudstone\"                                \n",
      " 1842.016, 1847.986,  \"Grey, sandstone, f-m\"                          \n",
      " 1847.986, 1849.002,  \"Grey, mudstone\"                                \n",
      " 1849.002, 1853.956,  \"Grey, sandstone, f-m\"                          \n",
      " 1853.956, 1858.445,  \"Grey, mudstone\"                                \n",
      " 1858.445, 1873.942,  \"Grey, sandstone, f-m\"                          \n",
      " 1873.942, 1892.446,  \"Grey, mudstone\"                                \n",
      " 1892.446, 1898.967,  \"Grey, sandstone, f-m\"                          \n",
      " 1898.967, 1904.471,  \"Grey, mudstone\"                                \n",
      " 1904.471, 1935.000,  \"Volcanic\"                                      \n",
      "\n"
     ]
    }
   ],
   "source": [
    "print wells['P-129'].striplog.lithology.to_las3()"
   ]
  },
  {
   "cell_type": "markdown",
   "metadata": {},
   "source": [
    "But anything to do with well-level operations or data happens in `Well`. So to write an entire LAS3 file, we'll need `well.striplogs_to_las3()`. However, this only works reliably if we already have an LAS file containing details like KB and so on. We don't have all this information for these wells, so we will just use our template directly and write some very simple LAS3 files."
   ]
  },
  {
   "cell_type": "code",
   "execution_count": 13,
   "metadata": {
    "collapsed": false
   },
   "outputs": [],
   "source": [
    "from striplog import templates\n",
    "import time"
   ]
  },
  {
   "cell_type": "code",
   "execution_count": 14,
   "metadata": {
    "collapsed": false
   },
   "outputs": [],
   "source": [
    "def form_las(well, striplog):\n",
    "    time_now = time.strftime(\"%Y/%m/%d %H:%M\", time.gmtime())\n",
    "    result = templates.las.format(\n",
    "                  prog='striplog.py',\n",
    "                  date=time_now,\n",
    "                  start=striplog.start,\n",
    "                  stop=striplog.stop,\n",
    "                  step=-999.25,\n",
    "                  null=-999.25,\n",
    "                  well=well,\n",
    "                  uwi='',\n",
    "                  lic=well,\n",
    "                  apd=-999.25,\n",
    "                  eref=-999.25,\n",
    "                  section=striplog.to_las3(),\n",
    "                  curve='')\n",
    "    return result.strip() + '\\n'"
   ]
  },
  {
   "cell_type": "code",
   "execution_count": 15,
   "metadata": {
    "collapsed": false
   },
   "outputs": [
    {
     "name": "stdout",
     "output_type": "stream",
     "text": [
      "~Version\n",
      "VERS .              3.0       :CWLS LOG ASCII STANDARD - VERSION 3.0\n",
      "WRAP .               NO       :ONE LINE PER DEPTH STEP\n",
      "DLM  .            COMMA       :DELIMITING CHARACTER\n",
      "PROG .       striplog.py      :LAS Program name and version\n",
      "CREA . 2015/03/27 13:00       :LAS Creation date {YYYY/MM/DD hh:mm}\n",
      "\n",
      "~Well\n",
      "#MNEM .UNIT  DATA             DESCRIPTION\n",
      "#---- ------ --------------   -----------------------------\n",
      "STRT .M       280.000         :START DEPTH\n",
      "STOP .M      1935.000         :STOP DEPTH\n",
      "STEP .M      -999.2500        :STEP\n",
      "NULL .       -999.2500        :NULL VALUE\n",
      "\n",
      "WELL .       P-129                 :WELL\n",
      "FLD  .       UNDEFINED             :FIELD\n",
      "CTRY .       CA                    :COUNTRY\n",
      "\n",
      "PROV .       NOVA SCOTIA           :PROVINCE\n",
      "UWI  .                             :UNIQUE WELL ID\n",
      "LIC  .       P-129                 :LICENSE NUMBER\n",
      "\n",
      "~Parameter\n",
      "#MNEM .UNIT  VALUE            DESCRIPTION\n",
      "#---- ------ --------------   -----------------------------\n",
      "\n",
      "#Required parameters\n",
      "RUN  .        ONE             :RUN NUMBER\n",
      "PDAT .        GL              :PERMANENT DATUM\n",
      "APD  .M       -999.250        :ABOVE PERM DATUM\n",
      "DREF .        KB              :DEPTH REFERENCE\n",
      "EREF .M       -999.250        :ELEVATION OF DEPTH\n",
      "\n",
      "#Remarks\n",
      "R1   .                        :REMARK LINE 1\n",
      "R2   .                        :REMARK LINE 2\n",
      "R3   .                        :REMARK LINE 3\n",
      "\n",
      "~Lithology_Parameter\n",
      "LITH .   Striplog         : Lithology source          {S}\n",
      "LITHD.   MD               : Lithology depth reference {S}\n",
      "\n",
      "~Lithology_Definition\n",
      "LITHT.M                   : Lithology top depth       {F}\n",
      "LITHB.M                   : Lithology base depth      {F}\n",
      "LITHD.                    : Lithology description     {S}\n",
      "\n",
      "~Lithology_Data | Lithology_Definition\n",
      "  280.000,  299.986,  \"Red, siltstone\"                                \n",
      "  299.986,  304.008,  \"Grey, sandstone, vf-f\"                         \n",
      "  304.008,  328.016,  \"Red, siltstone\"                                \n",
      "  328.016,  328.990,  \"Limestone\"                                     \n",
      "  328.990,  330.007,  \"Red, siltstone\"                                \n",
      "  330.007,  333.987,  \"Limestone\"                                     \n",
      "  333.987,  338.983,  \"Red, siltstone\"                                \n",
      "  338.983,  340.931,  \"Limestone\"                                     \n",
      "  340.931,  345.927,  \"Red, siltstone\"                                \n",
      "  345.927,  346.944,  \"Limestone\"                                     \n",
      "  346.944,  414.946,  \"Red, siltstone\"                                \n",
      "  414.946,  416.936,  \"Grey, mudstone\"                                \n",
      "  416.936,  422.440,  \"Red, heterolithic\"                             \n",
      "  422.440,  423.414,  \"Grey, mudstone\"                                \n",
      "  423.414,  426.929,  \"Red, heterolithic\"                             \n",
      "  426.929,  427.902,  \"Grey, mudstone\"                                \n",
      "  427.902,  449.921,  \"Anhydrite\"                                     \n",
      "  449.921,  452.927,  \"Limestone\"                                     \n",
      "  452.927,  528.974,  \"Red, heterolithic\"                             \n",
      "  528.974,  532.446,  \"Anhydrite\"                                     \n",
      "  532.446,  537.485,  \"Red, heterolithic\"                             \n",
      "  537.485,  539.983,  \"Limestone\"                                     \n",
      "  539.983,  586.009,  \"Red, heterolithic\"                             \n",
      "  586.009,  589.016,  \"Limestone\"                                     \n",
      "  589.016,  591.006,  \"Red, siltstone\"                                \n",
      "  591.006,  592.996,  \"Limestone\"                                     \n",
      "  592.996,  594.012,  \"Red, siltstone\"                                \n",
      "  594.012,  594.986,  \"Limestone\"                                     \n",
      "  594.986,  615.014,  \"Red, siltstone\"                                \n",
      "  615.014,  621.492,  \"Anhydrite\"                                     \n",
      "  621.492,  639.996,  \"Red, siltstone\"                                \n",
      "  639.996,  642.960,  \"Anhydrite\"                                     \n",
      "  642.960,  645.966,  \"Red, siltstone\"                                \n",
      "  645.966,  649.989,  \"Anhydrite\"                                     \n",
      "  649.989,  652.487,  \"Red, siltstone\"                                \n",
      "  652.487,  656.002,  \"Anhydrite\"                                     \n",
      "  656.002,  669.975,  \"Red, heterolithic\"                             \n",
      "  669.975,  674.971,  \"Grey, sandstone, vf-f\"                         \n",
      "  674.971,  703.468,  \"Anhydrite\"                                     \n",
      "  703.468,  703.976,  \"Grey, sandstone, vf-f\"                         \n",
      "  703.976,  705.966,  \"Anhydrite\"                                     \n",
      "  705.966,  707.448,  \"Grey, sandstone, vf-f\"                         \n",
      "  707.448,  714.477,  \"Anhydrite\"                                     \n",
      "  714.477,  715.451,  \"Limestone\"                                     \n",
      "  715.451,  719.473,  \"Anhydrite\"                                     \n",
      "  719.473,  724.470,  \"Limestone\"                                     \n",
      "  724.470,  734.462,  \"Anhydrite\"                                     \n",
      "  734.462,  735.436,  \"Limestone\"                                     \n",
      "  735.436,  761.900,  \"Anhydrite\"                                     \n",
      "  761.900,  764.907,  \"Limestone\"                                     \n",
      "  764.907,  778.922,  \"Anhydrite\"                                     \n",
      "  778.922,  779.938,  \"Limestone\"                                     \n",
      "  779.938,  805.937,  \"Anhydrite\"                                     \n",
      "  805.937,  809.959,  \"Limestone\"                                     \n",
      "  809.959,  827.955,  \"Red, sandstone, vf-f\"                          \n",
      "  827.955,  829.945,  \"Grey, sandstone, vf-f\"                         \n",
      "  829.945,  838.921,  \"Red, sandstone, vf-f\"                          \n",
      "  838.921,  840.954,  \"Grey, sandstone, vf-f\"                         \n",
      "  840.954,  847.432,  \"Red, sandstone, vf-f\"                          \n",
      "  847.432,  853.953,  \"Grey, sandstone, vf-f\"                         \n",
      "  853.953,  859.966,  \"Red, sandstone, vf-f\"                          \n",
      "  859.966,  862.930,  \"Grey, sandstone, vf-f\"                         \n",
      "  862.930,  872.457,  \"Red, sandstone, vf-f\"                          \n",
      "  872.457,  874.955,  \"Grey, sandstone, vf-f\"                         \n",
      "  874.955,  878.935,  \"Red, sandstone, vf-f\"                          \n",
      "  878.935,  880.925,  \"Grey, sandstone, vf-f\"                         \n",
      "  880.925,  893.924,  \"Red, sandstone, vf-f\"                          \n",
      "  893.924,  894.941,  \"Grey, sandstone, vf-f\"                         \n",
      "  894.941,  905.950,  \"Red, sandstone, vf-f\"                          \n",
      "  905.950,  918.949,  \"Grey, sandstone, vf-f\"                         \n",
      "  918.949,  919.923,  \"Red, mudstone\"                                 \n",
      "  919.923,  939.908,  \"Grey, sandstone, vf-f\"                         \n",
      "  939.908,  947.403,  \"Red, mudstone\"                                 \n",
      "  947.403,  955.914,  \"Grey, sandstone, vf-f\"                         \n",
      "  955.914,  984.918,  \"Red, sandstone, vf-f\"                          \n",
      "  984.918,  991.947,  \"Grey, sandstone, vf-f\"                         \n",
      "  991.947, 1015.913,  \"Red, sandstone, vf-f\"                          \n",
      " 1015.913, 1019.936,  \"Grey, sandstone, vf-f\"                         \n",
      " 1019.936, 1134.938,  \"Red, heterolithic\"                             \n",
      " 1134.938, 1137.436,  \"Grey, sandstone, vf-f\"                         \n",
      " 1137.436, 1152.425,  \"Grey, heterolithic\"                            \n",
      " 1152.425, 1154.924,  \"Grey, sandstone, vf-f\"                         \n",
      " 1154.924, 1159.920,  \"Grey, mudstone\"                                \n",
      " 1159.920, 1164.959,  \"Grey, sandstone, vf-f\"                         \n",
      " 1164.959, 1201.966,  \"Grey, heterolithic\"                            \n",
      " 1201.966, 1204.972,  \"Grey, sandstone, f-m\"                          \n",
      " 1204.972, 1207.005,  \"Grey, heterolithic\"                            \n",
      " 1207.005, 1210.011,  \"Grey, sandstone, f-m\"                          \n",
      " 1210.011, 1217.506,  \"Grey, heterolithic\"                            \n",
      " 1217.506, 1221.486,  \"Grey, sandstone, f-m\"                          \n",
      " 1221.486, 1238.000,  \"Grey, heterolithic\"                            \n",
      " 1238.000, 1246.002,  \"Grey, sandstone, f-m\"                          \n",
      " 1246.002, 1252.481,  \"Grey, mudstone\"                                \n",
      " 1252.481, 1262.982,  \"Grey, sandstone, f-m\"                          \n",
      " 1262.982, 1272.509,  \"Grey, heterolithic\"                            \n",
      " 1272.509, 1277.505,  \"Grey, sandstone, f-m\"                          \n",
      " 1277.505, 1287.498,  \"Grey, heterolithic\"                            \n",
      " 1287.498, 1294.019,  \"Grey, sandstone, f-m\"                          \n",
      " 1294.019, 1304.012,  \"Grey, mudstone\"                                \n",
      " 1304.012, 1309.008,  \"Grey, sandstone, f-m\"                          \n",
      " 1309.008, 1332.000,  \"Grey, heterolithic\"                            \n",
      " 1332.000, 1333.990,  \"Grey, sandstone, f-m\"                          \n",
      " 1333.990, 1343.009,  \"Grey, heterolithic\"                            \n",
      " 1343.009, 1349.996,  \"Grey, sandstone, f-m\"                          \n",
      " 1349.996, 1357.490,  \"Grey, heterolithic\"                            \n",
      " 1357.490, 1359.988,  \"Grey, sandstone, f-m\"                          \n",
      " 1359.988, 1367.991,  \"Grey, heterolithic\"                            \n",
      " 1367.991, 1369.981,  \"Grey, sandstone, f-m\"                          \n",
      " 1369.981, 1374.978,  \"Grey, mudstone\"                                \n",
      " 1374.978, 1377.010,  \"Grey, sandstone, f-m\"                          \n",
      " 1377.010, 1393.524,  \"Grey, heterolithic\"                            \n",
      " 1393.524, 1399.028,  \"Grey, sandstone, f-m\"                          \n",
      " 1399.028, 1414.018,  \"Grey, heterolithic\"                            \n",
      " 1414.018, 1425.027,  \"Grey, sandstone, vf-f\"                         \n",
      " 1425.027, 1428.033,  \"Grey, heterolithic\"                            \n",
      " 1428.033, 1435.019,  \"Grey, sandstone, vf-f\"                         \n",
      " 1435.019, 1443.996,  \"Grey, heterolithic\"                            \n",
      " 1443.996, 1448.992,  \"Grey, sandstone, vf-f\"                         \n",
      " 1448.992, 1455.979,  \"Grey, heterolithic\"                            \n",
      " 1455.979, 1458.985,  \"Grey, sandstone, vf-f\"                         \n",
      " 1458.985, 1460.002,  \"Grey, mudstone\"                                \n",
      " 1460.002, 1463.474,  \"Grey, sandstone, vf-f\"                         \n",
      " 1463.474, 1482.020,  \"Grey, heterolithic\"                            \n",
      " 1482.020, 1484.010,  \"Grey, mudstone\"                                \n",
      " 1484.010, 1487.524,  \"Grey, sandstone, vf-f\"                         \n",
      " 1487.524, 1489.049,  \"Grey, mudstone\"                                \n",
      " 1489.049, 1491.081,  \"Grey, sandstone, vf-f\"                         \n",
      " 1491.081, 1495.569,  \"Grey, heterolithic\"                            \n",
      " 1495.569, 1507.552,  \"Grey, sandstone, f-m\"                          \n",
      " 1507.552, 1515.089,  \"Grey, heterolithic\"                            \n",
      " 1515.089, 1525.082,  \"Grey, sandstone, f-m\"                          \n",
      " 1525.082, 1527.072,  \"Grey, mudstone\"                                \n",
      " 1527.072, 1540.071,  \"Grey, sandstone, f-m\"                          \n",
      " 1540.071, 1542.061,  \"Grey, mudstone\"                                \n",
      " 1542.061, 1545.068,  \"Grey, sandstone, f-m\"                          \n",
      " 1545.068, 1547.524,  \"Grey, mudstone\"                                \n",
      " 1547.524, 1553.028,  \"Grey, sandstone, f-m\"                          \n",
      " 1553.028, 1554.002,  \"Grey, mudstone\"                                \n",
      " 1554.002, 1556.500,  \"Grey, sandstone, f-m\"                          \n",
      " 1556.500, 1557.516,  \"Grey, mudstone\"                                \n",
      " 1557.516, 1560.015,  \"Grey, sandstone, f-m\"                          \n",
      " 1560.015, 1562.005,  \"Grey, mudstone\"                                \n",
      " 1562.005, 1568.017,  \"Grey, sandstone, f-m\"                          \n",
      " 1568.017, 1570.007,  \"Grey, mudstone\"                                \n",
      " 1570.007, 1571.998,  \"Grey, sandstone, f-m\"                          \n",
      " 1571.998, 1573.014,  \"Grey, mudstone\"                                \n",
      " 1573.014, 1600.028,  \"Grey, sandstone, f-m\"                          \n",
      " 1600.028, 1602.992,  \"Grey, mudstone\"                                \n",
      " 1602.992, 1635.046,  \"Grey, sandstone, f-m\"                          \n",
      " 1635.046, 1640.042,  \"Grey, heterolithic\"                            \n",
      " 1640.042, 1644.530,  \"Grey, sandstone, f-m\"                          \n",
      " 1644.530, 1648.045,  \"Grey, mudstone\"                                \n",
      " 1648.045, 1655.539,  \"Grey, sandstone, f-m\"                          \n",
      " 1655.539, 1657.572,  \"Grey, mudstone\"                                \n",
      " 1657.572, 1675.102,  \"Grey, sandstone, f-m\"                          \n",
      " 1675.102, 1677.092,  \"Grey, mudstone\"                                \n",
      " 1677.092, 1698.559,  \"Grey, sandstone, f-m\"                          \n",
      " 1698.559, 1700.084,  \"Grey, mudstone\"                                \n",
      " 1700.084, 1713.040,  \"Grey, sandstone, f-m\"                          \n",
      " 1713.040, 1715.031,  \"Grey, mudstone\"                                \n",
      " 1715.031, 1733.534,  \"Grey, sandstone, f-m\"                          \n",
      " 1733.534, 1734.550,  \"Grey, mudstone\"                                \n",
      " 1734.550, 1737.049,  \"Grey, sandstone, f-m\"                          \n",
      " 1737.049, 1738.531,  \"Grey, mudstone\"                                \n",
      " 1738.531, 1742.045,  \"Grey, sandstone, f-m\"                          \n",
      " 1742.045, 1743.019,  \"Grey, mudstone\"                                \n",
      " 1743.019, 1756.018,  \"Grey, sandstone, f-m\"                          \n",
      " 1756.018, 1770.034,  \"Grey, mudstone\"                                \n",
      " 1770.034, 1784.049,  \"Grey, sandstone, f-m\"                          \n",
      " 1784.049, 1784.557,  \"Grey, mudstone\"                                \n",
      " 1784.557, 1797.514,  \"Grey, sandstone, f-m\"                          \n",
      " 1797.514, 1800.520,  \"Grey, mudstone\"                                \n",
      " 1800.520, 1836.511,  \"Grey, sandstone, f-m\"                          \n",
      " 1836.511, 1837.019,  \"Grey, mudstone\"                                \n",
      " 1837.019, 1841.000,  \"Grey, sandstone, f-m\"                          \n",
      " 1841.000, 1842.016,  \"Grey, mudstone\"                                \n",
      " 1842.016, 1847.986,  \"Grey, sandstone, f-m\"                          \n",
      " 1847.986, 1849.002,  \"Grey, mudstone\"                                \n",
      " 1849.002, 1853.956,  \"Grey, sandstone, f-m\"                          \n",
      " 1853.956, 1858.445,  \"Grey, mudstone\"                                \n",
      " 1858.445, 1873.942,  \"Grey, sandstone, f-m\"                          \n",
      " 1873.942, 1892.446,  \"Grey, mudstone\"                                \n",
      " 1892.446, 1898.967,  \"Grey, sandstone, f-m\"                          \n",
      " 1898.967, 1904.471,  \"Grey, mudstone\"                                \n",
      " 1904.471, 1935.000,  \"Volcanic\"\n",
      "\n"
     ]
    }
   ],
   "source": [
    "print form_las('P-129', wells['P-129'].striplog.lithology)"
   ]
  },
  {
   "cell_type": "markdown",
   "metadata": {},
   "source": [
    "We'll use a small function for writing files. This way we can ensure that the filenames have some structure and match the file contents, and that we don't clobber things we don't want to clobber. "
   ]
  },
  {
   "cell_type": "code",
   "execution_count": 16,
   "metadata": {
    "collapsed": false
   },
   "outputs": [],
   "source": [
    "def write_las(data, path, suffix=None, overwrite=False):\n",
    "    if not suffix:\n",
    "        suffix = time.strftime(\"%Y%m%d-%H%M%S\", time.gmtime())\n",
    "    \n",
    "    w = re.findall(r'\\nWELL \\.(.+?)\\:WELL', data)[0].strip()\n",
    "    file_name = re.sub(r' ', r'_', w) + '_{0}.las'.format(suffix)\n",
    "    \n",
    "    full_path = os.path.join(path, file_name)\n",
    "    \n",
    "    if (not os.path.isfile(full_path)) or overwrite:\n",
    "        with open(full_path, 'w') as f:\n",
    "            f.write(data)\n",
    "    else:\n",
    "        print w, \"... file exists, not overwritten\""
   ]
  },
  {
   "cell_type": "markdown",
   "metadata": {},
   "source": [
    "Now we can write a loop to go over the `well` objects in our dictionary, saving each one's striplog *lithology* to an LAS file in turn:"
   ]
  },
  {
   "cell_type": "code",
   "execution_count": 17,
   "metadata": {
    "collapsed": false
   },
   "outputs": [],
   "source": [
    "path = \"../data/LAS\"\n",
    "for name, well in wells.items():\n",
    "    data = form_las(name, well.striplog.lithology)\n",
    "    write_las(data, path, suffix='striplog_from_image')"
   ]
  },
  {
   "cell_type": "code",
   "execution_count": 19,
   "metadata": {
    "collapsed": false
   },
   "outputs": [
    {
     "name": "stdout",
     "output_type": "stream",
     "text": [
      "-rw-r--r--@ 1 matt  staff   2784 27 Mar 10:00 ../data/LAS/M-BearIsland-1_striplog_from_image.las\r\n",
      "-rw-r--r--@ 1 matt  staff   2707 27 Mar 10:00 ../data/LAS/M-BrasDor-1_striplog_from_image.las\r\n",
      "-rw-r--r--@ 1 matt  staff   4269 27 Mar 10:00 ../data/LAS/M-BrasDor-2_striplog_from_image.las\r\n",
      "-rw-r--r--@ 1 matt  staff  13576 27 Mar 10:00 ../data/LAS/M-F-24_striplog_from_image.las\r\n",
      "-rw-r--r--@ 1 matt  staff  10944 27 Mar 10:00 ../data/LAS/M-Kempt-Head-84-1_striplog_from_image.las\r\n",
      "-rw-r--r--@ 1 matt  staff   3559 27 Mar 10:00 ../data/LAS/M-MG-70_striplog_from_image.las\r\n",
      "-rw-r--r--@ 1 matt  staff  10944 27 Mar 10:00 ../data/LAS/M-Malagawatch-10_striplog_from_image.las\r\n",
      "-rw-r--r--@ 1 matt  staff   9876 27 Mar 10:00 ../data/LAS/M-Malagawatch-1_striplog_from_image.las\r\n",
      "-rw-r--r--@ 1 matt  staff   6755 27 Mar 10:00 ../data/LAS/M-Malagawatch-2_striplog_from_image.las\r\n",
      "-rw-r--r--@ 1 matt  staff   2707 27 Mar 10:00 ../data/LAS/M-Maypole_striplog_from_image.las\r\n",
      "-rw-r--r--@ 1 matt  staff  20038 27 Mar 10:00 ../data/LAS/M-MullRiver_striplog_from_image.las\r\n",
      "-rw-r--r--@ 1 matt  staff   2503 27 Mar 10:00 ../data/LAS/M-OB-62-74_striplog_from_image.las\r\n",
      "-rw-r--r--@ 1 matt  staff  10095 27 Mar 10:00 ../data/LAS/M-P-05_striplog_from_image.las\r\n",
      "-rw-r--r--@ 1 matt  staff  11092 27 Mar 10:00 ../data/LAS/M-Port-Malcolm_striplog_from_image.las\r\n",
      "-rw-r--r--@ 1 matt  staff  10310 27 Mar 10:00 ../data/LAS/M-SB1_striplog_from_image.las\r\n",
      "-rw-r--r--@ 1 matt  staff  11375 27 Mar 10:00 ../data/LAS/M-SYD-82_striplog_from_image.las\r\n",
      "-rw-r--r--@ 1 matt  staff  16493 27 Mar 10:00 ../data/LAS/M-StPaul-P-91_striplog_from_image.las\r\n",
      "-rw-r--r--@ 1 matt  staff   2854 27 Mar 10:00 ../data/LAS/M-Sunoco-1_striplog_from_image.las\r\n",
      "-rw-r--r--@ 1 matt  staff   9314 27 Mar 10:00 ../data/LAS/M-Woodbine-Road-84-1_striplog_from_image.las\r\n",
      "-rw-r--r--@ 1 matt  staff  16351 27 Mar 10:00 ../data/LAS/P-101_striplog_from_image.las\r\n",
      "-rw-r--r--@ 1 matt  staff  10873 27 Mar 10:00 ../data/LAS/P-103_striplog_from_image.las\r\n",
      "-rw-r--r--@ 1 matt  staff  13580 27 Mar 10:00 ../data/LAS/P-104_striplog_from_image.las\r\n",
      "-rw-r--r--@ 1 matt  staff   8458 27 Mar 10:00 ../data/LAS/P-108_striplog_from_image.las\r\n",
      "-rw-r--r--@ 1 matt  staff   2776 27 Mar 10:00 ../data/LAS/P-110_striplog_from_image.las\r\n",
      "-rw-r--r--@ 1 matt  staff   9961 27 Mar 10:00 ../data/LAS/P-111_striplog_from_image.las\r\n",
      "-rw-r--r--@ 1 matt  staff   7050 27 Mar 10:00 ../data/LAS/P-112_striplog_from_image.las\r\n",
      "-rw-r--r--@ 1 matt  staff   8600 27 Mar 10:00 ../data/LAS/P-113_striplog_from_image.las\r\n",
      "-rw-r--r--@ 1 matt  staff   8613 27 Mar 10:00 ../data/LAS/P-114_striplog_from_image.las\r\n",
      "-rw-r--r--@ 1 matt  staff   4054 27 Mar 10:00 ../data/LAS/P-117_striplog_from_image.las\r\n",
      "-rw-r--r--@ 1 matt  staff   6399 27 Mar 10:00 ../data/LAS/P-119_striplog_from_image.las\r\n",
      "-rw-r--r--@ 1 matt  staff   6257 27 Mar 10:00 ../data/LAS/P-120_striplog_from_image.las\r\n",
      "-rw-r--r--@ 1 matt  staff   6541 27 Mar 10:00 ../data/LAS/P-121_striplog_from_image.las\r\n",
      "-rw-r--r--@ 1 matt  staff  13783 27 Mar 10:00 ../data/LAS/P-126_striplog_from_image.las\r\n",
      "-rw-r--r--@ 1 matt  staff   6044 27 Mar 10:00 ../data/LAS/P-128_striplog_from_image.las\r\n",
      "-rw-r--r--@ 1 matt  staff  14848 27 Mar 10:00 ../data/LAS/P-129_striplog_from_image.las\r\n",
      "-rw-r--r--@ 1 matt  staff  16132 27 Mar 10:00 ../data/LAS/P-130_striplog_from_image.las\r\n",
      "-rw-r--r--@ 1 matt  staff  21321 27 Mar 10:00 ../data/LAS/P-132_striplog_from_image.las\r\n",
      "-rw-r--r--@ 1 matt  staff   5903 27 Mar 10:00 ../data/LAS/P-55_striplog_from_image.las\r\n",
      "-rw-r--r--@ 1 matt  staff   8967 27 Mar 10:00 ../data/LAS/P-84_striplog_from_image.las\r\n",
      "-rw-r--r--@ 1 matt  staff  19332 27 Mar 10:00 ../data/LAS/P-85_striplog_from_image.las\r\n",
      "-rw-r--r--@ 1 matt  staff  16765 27 Mar 10:00 ../data/LAS/P-86_striplog_from_image.las\r\n",
      "-rw-r--r--@ 1 matt  staff   3346 27 Mar 10:00 ../data/LAS/P-93_striplog_from_image.las\r\n"
     ]
    }
   ],
   "source": [
    "ls -l ../data/LAS/*striplog_from_image.las"
   ]
  },
  {
   "cell_type": "code",
   "execution_count": null,
   "metadata": {
    "collapsed": false
   },
   "outputs": [],
   "source": []
  }
 ],
 "metadata": {
  "kernelspec": {
   "display_name": "Python 3",
   "language": "python",
   "name": "python3"
  },
  "language_info": {
   "codemirror_mode": {
    "name": "ipython",
    "version": 3
   },
   "file_extension": ".py",
   "mimetype": "text/x-python",
   "name": "python",
   "nbconvert_exporter": "python",
   "pygments_lexer": "ipython3",
   "version": "3.5.1"
  }
 },
 "nbformat": 4,
 "nbformat_minor": 0
}
