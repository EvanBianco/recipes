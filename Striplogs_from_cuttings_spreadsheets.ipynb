{
 "cells": [
  {
   "cell_type": "markdown",
   "metadata": {},
   "source": [
    "# Striplogs from cuttings spreadsheets"
   ]
  },
  {
   "cell_type": "markdown",
   "metadata": {},
   "source": [
    "We want to extract `striplogs` from cuttings descriptions, and save them as LAS files. I'd like to save both the original verbatim descriptions, as transcribed from PDF files, as well as the synthesized `rock` parameters — which will be of highly variable quality."
   ]
  },
  {
   "cell_type": "code",
   "execution_count": 1,
   "metadata": {
    "collapsed": false
   },
   "outputs": [],
   "source": [
    "from striplog import Striplog, Legend, Lexicon\n",
    "legend = Legend.default()\n",
    "lexicon = Lexicon.default()"
   ]
  },
  {
   "cell_type": "code",
   "execution_count": 3,
   "metadata": {
    "collapsed": false
   },
   "outputs": [],
   "source": [
    "import xlrd\n",
    "xls = \"data/cuttings/Nova_Scotia_cuttings_extract.xlsx\"\n",
    "book = xlrd.open_workbook(xls)\n",
    "name = \"P-129\"\n",
    "sh = book.sheet_by_name(name)"
   ]
  },
  {
   "cell_type": "code",
   "execution_count": 24,
   "metadata": {
    "collapsed": false
   },
   "outputs": [
    {
     "data": {
      "text/plain": [
       "['P-129', 'P-130', 'P-131']"
      ]
     },
     "execution_count": 24,
     "metadata": {},
     "output_type": "execute_result"
    }
   ],
   "source": [
    "sh.book.sheet_names()"
   ]
  },
  {
   "cell_type": "markdown",
   "metadata": {},
   "source": [
    "The data in this spreadsheet are spread over one sheet per well; the sheets look like this:\n",
    "\n",
    "<img src=\"cuttings_\" />\n",
    "\n",
    "The data I'm interested in are in green."
   ]
  },
  {
   "cell_type": "markdown",
   "metadata": {},
   "source": [
    "First we'll make a quick helper function."
   ]
  },
  {
   "cell_type": "code",
   "execution_count": 25,
   "metadata": {
    "collapsed": false
   },
   "outputs": [],
   "source": [
    "def not_decreasing(L):\n",
    "    return all(x<=y for x, y in zip(L[:-1], L[1:]))"
   ]
  },
  {
   "cell_type": "markdown",
   "metadata": {},
   "source": [
    "Now we can set up a loop to traverse the sheets in the XLS file, collecting the data we need and doing some basic sanity checking on it. If it passes the sanity check, we create a striplog and add it to the dictionary."
   ]
  },
  {
   "cell_type": "code",
   "execution_count": 53,
   "metadata": {
    "collapsed": true
   },
   "outputs": [],
   "source": [
    "from welly import Well, Header"
   ]
  },
  {
   "cell_type": "code",
   "execution_count": 66,
   "metadata": {
    "collapsed": false
   },
   "outputs": [
    {
     "name": "stderr",
     "output_type": "stream",
     "text": [
      "/Users/Evan/anaconda/envs/welly/lib/python3.5/site-packages/striplog/striplog.py:597: UserWarning: from_array() is deprecated.\n",
      "  warnings.warn(w)\n",
      "/Users/Evan/anaconda/envs/welly/lib/python3.5/site-packages/striplog/striplog.py:597: UserWarning: from_array() is deprecated.\n",
      "  warnings.warn(w)\n"
     ]
    },
    {
     "name": "stdout",
     "output_type": "stream",
     "text": [
      "- Done P-129\n",
      "- Done P-130\n",
      "- Done P-131\n"
     ]
    },
    {
     "name": "stderr",
     "output_type": "stream",
     "text": [
      "/Users/Evan/anaconda/envs/welly/lib/python3.5/site-packages/striplog/striplog.py:597: UserWarning: from_array() is deprecated.\n",
      "  warnings.warn(w)\n"
     ]
    }
   ],
   "source": [
    "import numpy as np\n",
    "\n",
    "striplogs = {}\n",
    "\n",
    "for s in book.sheet_names():\n",
    "    name = s\n",
    "    sh = book.sheet_by_name(name)\n",
    "    \n",
    "    units = sh.cell_value(rowx=2, colx=1)\n",
    "    abbr  = sh.cell_value(rowx=2, colx=3)\n",
    "    tops  = np.array([float(c.value) for c in sh.col_slice(0, 4)])\n",
    "    bases = np.array([float(c.value) for c in sh.col_slice(1, 4)])\n",
    "    descr = [c.value.encode('utf-8') for c in sh.col_slice(3, 4)]\n",
    "    \n",
    "    if not (not_decreasing(tops) and not_decreasing(bases)):\n",
    "        print (\"* Decreasing values:\", name)\n",
    "        continue\n",
    "    \n",
    "    if units.lower() in ['ft', 'feet']:\n",
    "        tops *= 0.3048\n",
    "        bases *= 0.3048\n",
    "        \n",
    "    # Make the striplog, then make a well, and add the striplog to it.\n",
    "    try:\n",
    "        striplog = Striplog._from_array(list(zip(tops, bases, descr)), lexicon, abbreviations=lexicon.abbreviations)\n",
    "    except (Exception):\n",
    "        print (\"* Failed to convert\", name)\n",
    "        continue\n",
    "    \n",
    "    striplogs[name] = striplog\n",
    "    \n",
    "    print (\"- Done\", name)"
   ]
  },
  {
   "cell_type": "markdown",
   "metadata": {},
   "source": [
    "Call the plot method without any keyword arguments to see the striplog with random colors"
   ]
  },
  {
   "cell_type": "code",
   "execution_count": 67,
   "metadata": {
    "collapsed": false
   },
   "outputs": [
    {
     "data": {
      "image/png": "[encoded data removed]",
      "text/plain": [
       "<matplotlib.figure.Figure at 0x10b2b17f0>"
      ]
     },
     "metadata": {},
     "output_type": "display_data"
    }
   ],
   "source": [
    "striplogs['P-129'].plot()"
   ]
  },
  {
   "cell_type": "code",
   "execution_count": 71,
   "metadata": {
    "collapsed": false
   },
   "outputs": [
    {
     "data": {
      "image/png": "[encoded data removed]",
      "text/plain": [
       "<matplotlib.figure.Figure at 0x10be05e48>"
      ]
     },
     "metadata": {},
     "output_type": "display_data"
    }
   ],
   "source": [
    "striplogs['P-129'].plot()"
   ]
  },
  {
   "cell_type": "markdown",
   "metadata": {},
   "source": [
    "Look at the first (zeroth) interval of a striplog"
   ]
  },
  {
   "cell_type": "code",
   "execution_count": 79,
   "metadata": {
    "collapsed": false
   },
   "outputs": [
    {
     "data": {
      "text/html": [
       "<table><tr><td style=\"width:2em; background-color:#DDDDDD\" rowspan=\"5\"></td><td><strong>top</strong></td><td>20.0</td></tr><tr><td><strong>primary</strong></td><td><table><tr><td><strong>amount</strong></td><td>interbeds</td></tr><tr><td><strong>colour</strong></td><td>greenish</td></tr><tr><td><strong>grainsize</strong></td><td>fine</td></tr><tr><td><strong>lithology</strong></td><td>sandstone</td></tr></table></td></tr><tr><td><strong>summary</strong></td><td>10.00 m of interbeds, greenish, fine, sandstone</td></tr><tr><td><strong>description</strong></td><td>b'Sandstone: greenish to yellowish grey, fine lower to moderate lower, sub angular, moderately well sorted, free calcite crystals, slightly calcareous cement, thin grey shale interbeds, 6 to 9 % porosity, Sneider 2'</td></tr><tr><td><strong>base</strong></td><td>30.0</td></tr></table>"
      ],
      "text/plain": [
       "Interval({'top': Position({'units': 'm', 'middle': 20.0}), 'base': Position({'units': 'm', 'middle': 30.0}), 'description': \"b'Sandstone: greenish to yellowish grey, fine lower to moderate lower, sub angular, moderately well sorted, free calcite crystals, slightly calcareous cement, thin grey shale interbeds, 6 to 9 % porosity, Sneider 2'\", 'components': [Component({'amount': 'interbeds', 'colour': 'greenish', 'grainsize': 'fine', 'lithology': 'sandstone'})]})"
      ]
     },
     "execution_count": 79,
     "metadata": {},
     "output_type": "execute_result"
    }
   ],
   "source": [
    "striplogs['P-130'][0]"
   ]
  },
  {
   "cell_type": "markdown",
   "metadata": {},
   "source": [
    "With this particular lexicon, we have not extracted a lot of `rock`s, however:"
   ]
  },
  {
   "cell_type": "markdown",
   "metadata": {},
   "source": [
    "## Save data to LAS files"
   ]
  },
  {
   "cell_type": "markdown",
   "metadata": {},
   "source": [
    "When we write out the data, we can choose to write out the entire descriptions (if any), or just the summaries of the primary rocks (i.e. the first in the list of components)."
   ]
  },
  {
   "cell_type": "code",
   "execution_count": 8,
   "metadata": {
    "collapsed": false
   },
   "outputs": [],
   "source": [
    "from striplog import templates\n",
    "import time"
   ]
  },
  {
   "cell_type": "code",
   "execution_count": 9,
   "metadata": {
    "collapsed": false
   },
   "outputs": [],
   "source": [
    "def form_las(well, striplog):\n",
    "    time_now = time.strftime(\"%Y/%m/%d %H:%M\", time.gmtime())\n",
    "    result = templates.las.format(\n",
    "                  prog='striplog.py',\n",
    "                  date=time_now,\n",
    "                  start=striplog.start,\n",
    "                  stop=striplog.stop,\n",
    "                  step=-999.25,\n",
    "                  null=-999.25,\n",
    "                  well=well,\n",
    "                  uwi='',\n",
    "                  lic=well,\n",
    "                  apd=-999.25,\n",
    "                  eref=-999.25,\n",
    "                  #section=striplog.to_las3(use_descriptions=True), # to capture full text\n",
    "                  section=striplog.to_las3(),                       # to get primary rocks only\n",
    "                  curve='')\n",
    "    return result.strip() + '\\n'"
   ]
  },
  {
   "cell_type": "code",
   "execution_count": 10,
   "metadata": {
    "collapsed": false
   },
   "outputs": [],
   "source": [
    "import re, os\n",
    "def write_las(data, path, suffix=None, overwrite=False):\n",
    "    if not suffix:\n",
    "        suffix = time.strftime(\"%Y%m%d-%H%M%S\", time.gmtime())\n",
    "    \n",
    "    w = re.findall(r'\\nWELL \\.(.+?)\\:WELL', data)[0].strip()\n",
    "    file_name = re.sub(r' ', r'_', w) + '_{0}.las'.format(suffix)\n",
    "    \n",
    "    full_path = os.path.join(path, file_name)\n",
    "    \n",
    "    if (not os.path.isfile(full_path)) or overwrite:\n",
    "        with open(full_path, 'w') as f:\n",
    "            f.write(data)\n",
    "    else:\n",
    "        print w, \"... file exists, not overwritten\""
   ]
  },
  {
   "cell_type": "code",
   "execution_count": 11,
   "metadata": {
    "collapsed": false
   },
   "outputs": [],
   "source": [
    "path = \"../data/LAS\"\n",
    "for name, well in wells.items():\n",
    "    data = form_las(name, well.striplog.cuttings)\n",
    "    write_las(data, path, suffix='striplog_from_cuttings', overwrite=True)"
   ]
  },
  {
   "cell_type": "code",
   "execution_count": 12,
   "metadata": {
    "collapsed": false
   },
   "outputs": [
    {
     "name": "stdout",
     "output_type": "stream",
     "text": [
      "-rw-r--r--@ 1 matt  staff   4602 27 Mar 09:53 ../data/LAS/M-G-24_striplog_from_cuttings.las\r\n",
      "-rw-r--r--@ 1 matt  staff  13018 27 Mar 09:53 ../data/LAS/M-Malagawatch-2_striplog_from_cuttings.las\r\n",
      "-rw-r--r--@ 1 matt  staff   3142 27 Mar 09:53 ../data/LAS/M-Malagawatch-2b_striplog_from_cuttings.las\r\n",
      "-rw-r--r--@ 1 matt  staff  11956 27 Mar 09:53 ../data/LAS/M-Morton1_striplog_from_cuttings.las\r\n",
      "-rw-r--r--@ 1 matt  staff  14515 27 Mar 09:53 ../data/LAS/M-Morton2_striplog_from_cuttings.las\r\n",
      "-rw-r--r--@ 1 matt  staff  12317 27 Mar 09:53 ../data/LAS/M-NorthSyd-F-24_striplog_from_cuttings.las\r\n",
      "-rw-r--r--@ 1 matt  staff   4174 27 Mar 09:53 ../data/LAS/M-PE-83-1_striplog_from_cuttings.las\r\n",
      "-rw-r--r--@ 1 matt  staff   4645 27 Mar 09:53 ../data/LAS/M-PE84-1_striplog_from_cuttings.las\r\n",
      "-rw-r--r--@ 1 matt  staff   6418 27 Mar 09:53 ../data/LAS/M-SYD-82-1_striplog_from_cuttings.las\r\n",
      "-rw-r--r--@ 1 matt  staff  33619 27 Mar 09:53 ../data/LAS/M-StPaul-P-91_striplog_from_cuttings.las\r\n",
      "-rw-r--r--@ 1 matt  staff   6561 27 Mar 09:53 ../data/LAS/M-WR-84-1_striplog_from_cuttings.las\r\n",
      "-rw-r--r--@ 1 matt  staff   2936 27 Mar 09:53 ../data/LAS/M-WR-84-2_striplog_from_cuttings.las\r\n",
      "-rw-r--r--@ 1 matt  staff  12820 27 Mar 09:53 ../data/LAS/P-101_striplog_from_cuttings.las\r\n",
      "-rw-r--r--@ 1 matt  staff   4580 27 Mar 09:53 ../data/LAS/P-102_striplog_from_cuttings.las\r\n",
      "-rw-r--r--@ 1 matt  staff   6679 27 Mar 09:53 ../data/LAS/P-103_striplog_from_cuttings.las\r\n",
      "-rw-r--r--@ 1 matt  staff  10879 27 Mar 09:53 ../data/LAS/P-104_redrill_striplog_from_cuttings.las\r\n",
      "-rw-r--r--@ 1 matt  staff   8278 27 Mar 09:53 ../data/LAS/P-104_upper_striplog_from_cuttings.las\r\n",
      "-rw-r--r--@ 1 matt  staff   6047 27 Mar 09:53 ../data/LAS/P-105_striplog_from_cuttings.las\r\n",
      "-rw-r--r--@ 1 matt  staff  32410 27 Mar 09:53 ../data/LAS/P-106_striplog_from_cuttings.las\r\n",
      "-rw-r--r--@ 1 matt  staff   4216 27 Mar 09:53 ../data/LAS/P-107_striplog_from_cuttings.las\r\n",
      "-rw-r--r--@ 1 matt  staff   9191 27 Mar 09:53 ../data/LAS/P-108_striplog_from_cuttings.las\r\n",
      "-rw-r--r--@ 1 matt  staff   3512 27 Mar 09:53 ../data/LAS/P-109_striplog_from_cuttings.las\r\n",
      "-rw-r--r--@ 1 matt  staff   3357 27 Mar 09:53 ../data/LAS/P-110_striplog_from_cuttings.las\r\n",
      "-rw-r--r--@ 1 matt  staff   9994 27 Mar 09:53 ../data/LAS/P-111_striplog_from_cuttings.las\r\n",
      "-rw-r--r--@ 1 matt  staff   8118 27 Mar 09:53 ../data/LAS/P-112_striplog_from_cuttings.las\r\n",
      "-rw-r--r--@ 1 matt  staff   7908 27 Mar 09:53 ../data/LAS/P-113_striplog_from_cuttings.las\r\n",
      "-rw-r--r--@ 1 matt  staff   2234 27 Mar 09:53 ../data/LAS/P-114_striplog_from_cuttings.las\r\n",
      "-rw-r--r--@ 1 matt  staff  13091 27 Mar 09:53 ../data/LAS/P-115_striplog_from_cuttings.las\r\n",
      "-rw-r--r--@ 1 matt  staff  24174 27 Mar 09:53 ../data/LAS/P-116_striplog_from_cuttings.las\r\n",
      "-rw-r--r--@ 1 matt  staff   8957 27 Mar 09:53 ../data/LAS/P-116b_striplog_from_cuttings.las\r\n",
      "-rw-r--r--@ 1 matt  staff   5277 27 Mar 09:53 ../data/LAS/P-117_striplog_from_cuttings.las\r\n",
      "-rw-r--r--@ 1 matt  staff   1918 27 Mar 09:53 ../data/LAS/P-117b_striplog_from_cuttings.las\r\n",
      "-rw-r--r--@ 1 matt  staff  16437 27 Mar 09:53 ../data/LAS/P-118_striplog_from_cuttings.las\r\n",
      "-rw-r--r--@ 1 matt  staff  12036 27 Mar 09:53 ../data/LAS/P-119_striplog_from_cuttings.las\r\n",
      "-rw-r--r--@ 1 matt  staff  13226 27 Mar 09:53 ../data/LAS/P-120_striplog_from_cuttings.las\r\n",
      "-rw-r--r--@ 1 matt  staff   6417 27 Mar 09:53 ../data/LAS/P-121_striplog_from_cuttings.las\r\n",
      "-rw-r--r--@ 1 matt  staff  11382 27 Mar 09:53 ../data/LAS/P-122_striplog_from_cuttings.las\r\n",
      "-rw-r--r--@ 1 matt  staff   2222 27 Mar 09:53 ../data/LAS/P-123_st1_striplog_from_cuttings.las\r\n",
      "-rw-r--r--@ 1 matt  staff   3440 27 Mar 09:53 ../data/LAS/P-123_st2_striplog_from_cuttings.las\r\n",
      "-rw-r--r--@ 1 matt  staff   4979 27 Mar 09:53 ../data/LAS/P-123_striplog_from_cuttings.las\r\n",
      "-rw-r--r--@ 1 matt  staff  10822 27 Mar 09:53 ../data/LAS/P-123b_striplog_from_cuttings.las\r\n",
      "-rw-r--r--@ 1 matt  staff   4142 27 Mar 09:53 ../data/LAS/P-124_lateral_striplog_from_cuttings.las\r\n",
      "-rw-r--r--@ 1 matt  staff   9932 27 Mar 09:53 ../data/LAS/P-124_striplog_from_cuttings.las\r\n",
      "-rw-r--r--@ 1 matt  staff   7965 27 Mar 09:53 ../data/LAS/P-125_striplog_from_cuttings.las\r\n",
      "-rw-r--r--@ 1 matt  staff  12957 27 Mar 09:53 ../data/LAS/P-126_striplog_from_cuttings.las\r\n",
      "-rw-r--r--@ 1 matt  staff   4065 27 Mar 09:53 ../data/LAS/P-127_striplog_from_cuttings.las\r\n",
      "-rw-r--r--@ 1 matt  staff   6124 27 Mar 09:53 ../data/LAS/P-128_striplog_from_cuttings.las\r\n",
      "-rw-r--r--@ 1 matt  staff  12731 27 Mar 09:53 ../data/LAS/P-129_striplog_from_cuttings.las\r\n",
      "-rw-r--r--@ 1 matt  staff  17354 27 Mar 09:53 ../data/LAS/P-130_striplog_from_cuttings.las\r\n",
      "-rw-r--r--@ 1 matt  staff   4142 27 Mar 09:53 ../data/LAS/P-131_striplog_from_cuttings.las\r\n",
      "-rw-r--r--@ 1 matt  staff  26904 27 Mar 09:53 ../data/LAS/P-132_striplog_from_cuttings.las\r\n",
      "-rw-r--r--@ 1 matt  staff  16991 27 Mar 09:53 ../data/LAS/P-133_striplog_from_cuttings.las\r\n",
      "-rw-r--r--@ 1 matt  staff  26275 27 Mar 09:53 ../data/LAS/P-133b_striplog_from_cuttings.las\r\n",
      "-rw-r--r--@ 1 matt  staff   9321 27 Mar 09:53 ../data/LAS/P-134_striplog_from_cuttings.las\r\n",
      "-rw-r--r--@ 1 matt  staff   1847 27 Mar 09:53 ../data/LAS/P-135_striplog_from_cuttings.las\r\n",
      "-rw-r--r--@ 1 matt  staff   9023 27 Mar 09:53 ../data/LAS/P-137_striplog_from_cuttings.las\r\n",
      "-rw-r--r--@ 1 matt  staff  10882 27 Mar 09:53 ../data/LAS/P-138_striplog_from_cuttings.las\r\n",
      "-rw-r--r--@ 1 matt  staff  17499 27 Mar 09:53 ../data/LAS/P-139_striplog_from_cuttings.las\r\n",
      "-rw-r--r--@ 1 matt  staff   1933 27 Mar 09:53 ../data/LAS/P-14_striplog_from_cuttings.las\r\n",
      "-rw-r--r--@ 1 matt  staff   3206 27 Mar 09:53 ../data/LAS/P-16_striplog_from_cuttings.las\r\n",
      "-rw-r--r--@ 1 matt  staff   2288 27 Mar 09:53 ../data/LAS/P-29_striplog_from_cuttings.las\r\n",
      "-rw-r--r--@ 1 matt  staff   1862 27 Mar 09:53 ../data/LAS/P-30_striplog_from_cuttings.las\r\n",
      "-rw-r--r--@ 1 matt  staff   2212 27 Mar 09:53 ../data/LAS/P-31_striplog_from_cuttings.las\r\n",
      "-rw-r--r--@ 1 matt  staff   2349 27 Mar 09:53 ../data/LAS/P-32_striplog_from_cuttings.las\r\n",
      "-rw-r--r--@ 1 matt  staff   2354 27 Mar 09:53 ../data/LAS/P-33_striplog_from_cuttings.las\r\n",
      "-rw-r--r--@ 1 matt  staff   2212 27 Mar 09:53 ../data/LAS/P-34_striplog_from_cuttings.las\r\n",
      "-rw-r--r--@ 1 matt  staff   4341 27 Mar 09:53 ../data/LAS/P-35_striplog_from_cuttings.las\r\n",
      "-rw-r--r--@ 1 matt  staff   3581 27 Mar 09:53 ../data/LAS/P-36_striplog_from_cuttings.las\r\n",
      "-rw-r--r--@ 1 matt  staff   5468 27 Mar 09:53 ../data/LAS/P-37_striplog_from_cuttings.las\r\n",
      "-rw-r--r--@ 1 matt  staff   3993 27 Mar 09:53 ../data/LAS/P-38_striplog_from_cuttings.las\r\n",
      "-rw-r--r--@ 1 matt  staff   2009 27 Mar 09:53 ../data/LAS/P-39_striplog_from_cuttings.las\r\n",
      "-rw-r--r--@ 1 matt  staff   5121 27 Mar 09:53 ../data/LAS/P-40_striplog_from_cuttings.las\r\n",
      "-rw-r--r--@ 1 matt  staff   2289 27 Mar 09:53 ../data/LAS/P-41_striplog_from_cuttings.las\r\n",
      "-rw-r--r--@ 1 matt  staff   2000 27 Mar 09:53 ../data/LAS/P-42_striplog_from_cuttings.las\r\n",
      "-rw-r--r--@ 1 matt  staff   2648 27 Mar 09:53 ../data/LAS/P-43_striplog_from_cuttings.las\r\n",
      "-rw-r--r--@ 1 matt  staff   2987 27 Mar 09:53 ../data/LAS/P-50_striplog_from_cuttings.las\r\n",
      "-rw-r--r--@ 1 matt  staff   2645 27 Mar 09:53 ../data/LAS/P-52_striplog_from_cuttings.las\r\n",
      "-rw-r--r--@ 1 matt  staff   5058 27 Mar 09:53 ../data/LAS/P-54_striplog_from_cuttings.las\r\n",
      "-rw-r--r--@ 1 matt  staff  30695 27 Mar 09:53 ../data/LAS/P-55_striplog_from_cuttings.las\r\n",
      "-rw-r--r--@ 1 matt  staff   2273 27 Mar 09:53 ../data/LAS/P-56_striplog_from_cuttings.las\r\n",
      "-rw-r--r--@ 1 matt  staff  80536 27 Mar 09:53 ../data/LAS/P-57_striplog_from_cuttings.las\r\n",
      "-rw-r--r--@ 1 matt  staff   6187 27 Mar 09:53 ../data/LAS/P-58_striplog_from_cuttings.las\r\n",
      "-rw-r--r--@ 1 matt  staff   2364 27 Mar 09:53 ../data/LAS/P-59_striplog_from_cuttings.las\r\n",
      "-rw-r--r--@ 1 matt  staff   4206 27 Mar 09:53 ../data/LAS/P-60_striplog_from_cuttings.las\r\n",
      "-rw-r--r--@ 1 matt  staff  20058 27 Mar 09:53 ../data/LAS/P-61_striplog_from_cuttings.las\r\n",
      "-rw-r--r--@ 1 matt  staff   5684 27 Mar 09:53 ../data/LAS/P-63_striplog_from_cuttings.las\r\n",
      "-rw-r--r--@ 1 matt  staff   4846 27 Mar 09:53 ../data/LAS/P-65_striplog_from_cuttings.las\r\n",
      "-rw-r--r--@ 1 matt  staff   4272 27 Mar 09:53 ../data/LAS/P-66_striplog_from_cuttings.las\r\n",
      "-rw-r--r--@ 1 matt  staff   2501 27 Mar 09:53 ../data/LAS/P-67_striplog_from_cuttings.las\r\n",
      "-rw-r--r--@ 1 matt  staff   5400 27 Mar 09:53 ../data/LAS/P-70_striplog_from_cuttings.las\r\n",
      "-rw-r--r--@ 1 matt  staff   4207 27 Mar 09:53 ../data/LAS/P-71_striplog_from_cuttings.las\r\n",
      "-rw-r--r--@ 1 matt  staff   4128 27 Mar 09:53 ../data/LAS/P-80_striplog_from_cuttings.las\r\n",
      "-rw-r--r--@ 1 matt  staff  61653 27 Mar 09:53 ../data/LAS/P-82_striplog_from_cuttings.las\r\n",
      "-rw-r--r--@ 1 matt  staff  23177 27 Mar 09:53 ../data/LAS/P-83_striplog_from_cuttings.las\r\n",
      "-rw-r--r--@ 1 matt  staff  28801 27 Mar 09:53 ../data/LAS/P-84_striplog_from_cuttings.las\r\n",
      "-rw-r--r--@ 1 matt  staff  12170 27 Mar 09:53 ../data/LAS/P-85_striplog_from_cuttings.las\r\n",
      "-rw-r--r--@ 1 matt  staff  57666 27 Mar 09:53 ../data/LAS/P-86_striplog_from_cuttings.las\r\n",
      "-rw-r--r--@ 1 matt  staff   9027 27 Mar 09:53 ../data/LAS/P-87_striplog_from_cuttings.las\r\n",
      "-rw-r--r--@ 1 matt  staff  13207 27 Mar 09:53 ../data/LAS/P-88_striplog_from_cuttings.las\r\n",
      "-rw-r--r--@ 1 matt  staff  16473 27 Mar 09:53 ../data/LAS/P-90_striplog_from_cuttings.las\r\n",
      "-rw-r--r--@ 1 matt  staff   6985 27 Mar 09:53 ../data/LAS/P-91_striplog_from_cuttings.las\r\n",
      "-rw-r--r--@ 1 matt  staff  16992 27 Mar 09:53 ../data/LAS/P-92_striplog_from_cuttings.las\r\n",
      "-rw-r--r--@ 1 matt  staff   6224 27 Mar 09:53 ../data/LAS/P-94_striplog_from_cuttings.las\r\n",
      "-rw-r--r--@ 1 matt  staff   6135 27 Mar 09:53 ../data/LAS/P-94_v2_striplog_from_cuttings.las\r\n",
      "-rw-r--r--@ 1 matt  staff   7605 27 Mar 09:53 ../data/LAS/P-97_striplog_from_cuttings.las\r\n",
      "-rw-r--r--@ 1 matt  staff  25038 27 Mar 09:53 ../data/LAS/P-98_striplog_from_cuttings.las\r\n"
     ]
    }
   ],
   "source": [
    "ls -l ../data/LAS/*_from_cuttings.las"
   ]
  },
  {
   "cell_type": "markdown",
   "metadata": {},
   "source": [
    "## Search the 'database'"
   ]
  },
  {
   "cell_type": "markdown",
   "metadata": {},
   "source": [
    "This `try`/`except` is not very good practice, especially with a `pass` in the exception, but it means we can cope with some errors in the `find` call, resulting from empty descriptions (I think). The idea was to illustrate a point:"
   ]
  },
  {
   "cell_type": "code",
   "execution_count": 13,
   "metadata": {
    "collapsed": false
   },
   "outputs": [],
   "source": [
    "hits, cums = [], []\n",
    "for well, data in wells.items():\n",
    "    try:\n",
    "        oil = data.striplog.cuttings.find('oil')  # Will be None if nothing\n",
    "        if oil:\n",
    "            hits.append(well)\n",
    "            cums.append(oil.cum)\n",
    "    except:\n",
    "        pass"
   ]
  },
  {
   "cell_type": "code",
   "execution_count": 14,
   "metadata": {
    "collapsed": false
   },
   "outputs": [
    {
     "data": {
      "image/png": "[encoded data removed]",
      "text/plain": [
       "<matplotlib.figure.Figure at 0x10a28dd10>"
      ]
     },
     "metadata": {},
     "output_type": "display_data"
    }
   ],
   "source": [
    "import matplotlib.pyplot as plt\n",
    "\n",
    "# Make a var for the x-axis (just the way plt.bar() works.)\n",
    "x = np.arange(len(hits)) + 1\n",
    "\n",
    "# This trick sorts a zipped list, then unpacks it into two variables again:\n",
    "hits, cums = zip(*sorted(zip(hits, cums), key=lambda x: x[1], reverse=True))\n",
    "\n",
    "# Make the plot.\n",
    "fig = plt.figure(figsize=(12,4))\n",
    "ax = fig.add_subplot(111)\n",
    "ax.bar(x, cums, align='center')\n",
    "ax.set(xticks=x, xticklabels=hits)\n",
    "plt.ylabel('cumulative m')\n",
    "plt.text(13.5, 90, 'Cum. thickness of intervals mentioning OIL', fontsize=14, ha='right')\n",
    "plt.show()"
   ]
  },
  {
   "cell_type": "markdown",
   "metadata": {
    "collapsed": false
   },
   "source": [
    "## Create a legend and map cuttings descriptions to legend"
   ]
  },
  {
   "cell_type": "code",
   "execution_count": null,
   "metadata": {
    "collapsed": true
   },
   "outputs": [],
   "source": []
  }
 ],
 "metadata": {
  "kernelspec": {
   "display_name": "Python 3",
   "language": "python",
   "name": "python3"
  },
  "language_info": {
   "codemirror_mode": {
    "name": "ipython",
    "version": 3
   },
   "file_extension": ".py",
   "mimetype": "text/x-python",
   "name": "python",
   "nbconvert_exporter": "python",
   "pygments_lexer": "ipython3",
   "version": "3.5.1"
  }
 },
 "nbformat": 4,
 "nbformat_minor": 0
}
