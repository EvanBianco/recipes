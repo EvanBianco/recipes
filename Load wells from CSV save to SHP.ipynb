{
 "cells": [
  {
   "cell_type": "markdown",
   "metadata": {},
   "source": [
    "## Load wells from CSV save to SHP\n",
    "\n",
    "Some preliminaries..."
   ]
  },
  {
   "cell_type": "code",
   "execution_count": 1,
   "metadata": {
    "collapsed": false
   },
   "outputs": [
    {
     "data": {
      "text/plain": [
       "'0.1.0'"
      ]
     },
     "execution_count": 1,
     "metadata": {},
     "output_type": "execute_result"
    }
   ],
   "source": [
    "import numpy as np\n",
    "import matplotlib.pyplot as plt\n",
    "%matplotlib inline\n",
    "import welly\n",
    "welly.__version__"
   ]
  },
  {
   "cell_type": "code",
   "execution_count": 2,
   "metadata": {
    "collapsed": false
   },
   "outputs": [],
   "source": [
    "import os\n",
    "env = %env"
   ]
  },
  {
   "cell_type": "markdown",
   "metadata": {},
   "source": [
    "## Load wells from CSV\n",
    "\n",
    "This does not do a lot yet. This is the first step in trying to make a CSV constructor.\n",
    "\n",
    "It may not be possible to generalize this in a sensible way."
   ]
  },
  {
   "cell_type": "code",
   "execution_count": 4,
   "metadata": {
    "collapsed": false
   },
   "outputs": [],
   "source": [
    "import csv\n",
    "fname = 'data/Nova_Scotia_wells_2015.csv'\n",
    "reader = csv.DictReader(open(fname))\n",
    "\n",
    "wells = []\n",
    "\n",
    "for line in reader:\n",
    "    params = {'header': {},\n",
    "              'location': {},\n",
    "             }\n",
    "    \n",
    "    for key, value in line.items():\n",
    "        sect, item = key.split('.')\n",
    "        params[sect][item] = value\n",
    "        \n",
    "    # Deal with surface location nonsense.\n",
    "    \n",
    "    # First the numerics.\n",
    "    try:\n",
    "        lat = float(params['location'].get('latitude'))\n",
    "        lon = float(params['location'].get('longitude'))\n",
    "    except:\n",
    "        lat, lon = 0, 0\n",
    "        \n",
    "    try:\n",
    "        x = float(params['location'].get('x'))\n",
    "        y = float(params['location'].get('y'))\n",
    "    except:\n",
    "        x, y = 0, 0\n",
    "\n",
    "    # Then the strings.\n",
    "    datum = params['location'].get('datum')  # Empty string if missing\n",
    "    utm = params['location'].get('datum')    # Empty string if missing\n",
    "    \n",
    "    # STRICT RULES\n",
    "    # Either a well location has what it needs, or it doesn't. \n",
    "    \n",
    "#     # If we have (lat, lon) then chuck everything else out.\n",
    "#     if lat and lon:\n",
    "#         del params['location']['x']\n",
    "#         del params['location']['y']\n",
    "#         del params['location']['utm']\n",
    "#         if not datum:\n",
    "#             del params['location']['latitude']\n",
    "#             del params['location']['longitude']\n",
    "            \n",
    "#     # Otherwise, keep fully qualified (x, y)s\n",
    "#     else:\n",
    "#         del params['location']['latitude']\n",
    "#         del params['location']['longitude']\n",
    "#         if (not x and y) or (not datum) or (not utm):\n",
    "#             del params['location']['x']\n",
    "#             del params['location']['y']\n",
    "#             del params['location']['datum']\n",
    "#             del params['location']['utm']\n",
    "\n",
    "    # Build the well and add it to the list.\n",
    "    h = welly.Header(params['header'])\n",
    "    l = welly.Location(params['location'])\n",
    "    w = welly.Well({'header': h, 'location': l})\n",
    "    wells.append(w)"
   ]
  },
  {
   "cell_type": "markdown",
   "metadata": {},
   "source": [
    "Get the index of the well P-129 in this list:"
   ]
  },
  {
   "cell_type": "code",
   "execution_count": 5,
   "metadata": {
    "collapsed": false
   },
   "outputs": [
    {
     "data": {
      "text/plain": [
       "10"
      ]
     },
     "execution_count": 5,
     "metadata": {},
     "output_type": "execute_result"
    }
   ],
   "source": [
    "[w.header.license for w in wells].index('P-129')"
   ]
  },
  {
   "cell_type": "markdown",
   "metadata": {},
   "source": [
    "Add curves to this well:"
   ]
  },
  {
   "cell_type": "code",
   "execution_count": 6,
   "metadata": {
    "collapsed": false
   },
   "outputs": [
    {
     "ename": "FileNotFoundError",
     "evalue": "[Errno 2] No such file or directory: '../../recipes/data/las/P-129_out.LAS'",
     "output_type": "error",
     "traceback": [
      "\u001b[0;31m---------------------------------------------------------------------------\u001b[0m",
      "\u001b[0;31mFileNotFoundError\u001b[0m                         Traceback (most recent call last)",
      "\u001b[0;32m<ipython-input-6-0b59d182473e>\u001b[0m in \u001b[0;36m<module>\u001b[0;34m()\u001b[0m\n\u001b[0;32m----> 1\u001b[0;31m \u001b[0mwells\u001b[0m\u001b[0;34m[\u001b[0m\u001b[0;36m10\u001b[0m\u001b[0;34m]\u001b[0m\u001b[0;34m.\u001b[0m\u001b[0madd_curves_from_las\u001b[0m\u001b[0;34m(\u001b[0m\u001b[0;34m'../../recipes/data/las/P-129_out.LAS'\u001b[0m\u001b[0;34m)\u001b[0m\u001b[0;34m\u001b[0m\u001b[0m\n\u001b[0m",
      "\u001b[0;32m/Users/Evan/anaconda/envs/welly/lib/python3.5/site-packages/welly/well.py\u001b[0m in \u001b[0;36madd_curves_from_las\u001b[0;34m(self, fname, remap, funcs)\u001b[0m\n\u001b[1;32m    196\u001b[0m         \u001b[0mGiven\u001b[0m \u001b[0ma\u001b[0m \u001b[0mlasio\u001b[0m \u001b[0mobject\u001b[0m\u001b[0;34m,\u001b[0m \u001b[0madd\u001b[0m \u001b[0mcurves\u001b[0m \u001b[0;32mfrom\u001b[0m \u001b[0mit\u001b[0m\u001b[0;34m.\u001b[0m\u001b[0;34m\u001b[0m\u001b[0m\n\u001b[1;32m    197\u001b[0m         \"\"\"\n\u001b[0;32m--> 198\u001b[0;31m         \u001b[0ml\u001b[0m \u001b[0;34m=\u001b[0m \u001b[0mlasio\u001b[0m\u001b[0;34m.\u001b[0m\u001b[0mread\u001b[0m\u001b[0;34m(\u001b[0m\u001b[0mfname\u001b[0m\u001b[0;34m)\u001b[0m\u001b[0;34m\u001b[0m\u001b[0m\n\u001b[0m\u001b[1;32m    199\u001b[0m \u001b[0;34m\u001b[0m\u001b[0m\n\u001b[1;32m    200\u001b[0m         \u001b[0;31m# Pass to other constructor.\u001b[0m\u001b[0;34m\u001b[0m\u001b[0;34m\u001b[0m\u001b[0m\n",
      "\u001b[0;32m/Users/Evan/anaconda/envs/welly/lib/python3.5/site-packages/lasio/las.py\u001b[0m in \u001b[0;36mread\u001b[0;34m(file_ref, **kwargs)\u001b[0m\n\u001b[1;32m   1267\u001b[0m \u001b[0;34m\u001b[0m\u001b[0m\n\u001b[1;32m   1268\u001b[0m     '''\n\u001b[0;32m-> 1269\u001b[0;31m     \u001b[0;32mreturn\u001b[0m \u001b[0mLASFile\u001b[0m\u001b[0;34m(\u001b[0m\u001b[0mfile_ref\u001b[0m\u001b[0;34m,\u001b[0m \u001b[0;34m**\u001b[0m\u001b[0mkwargs\u001b[0m\u001b[0;34m)\u001b[0m\u001b[0;34m\u001b[0m\u001b[0m\n\u001b[0m",
      "\u001b[0;32m/Users/Evan/anaconda/envs/welly/lib/python3.5/site-packages/lasio/las.py\u001b[0m in \u001b[0;36m__init__\u001b[0;34m(self, file_ref, **kwargs)\u001b[0m\n\u001b[1;32m    376\u001b[0m \u001b[0;34m\u001b[0m\u001b[0m\n\u001b[1;32m    377\u001b[0m         \u001b[0;32mif\u001b[0m \u001b[0;32mnot\u001b[0m \u001b[0;34m(\u001b[0m\u001b[0mfile_ref\u001b[0m \u001b[0;32mis\u001b[0m \u001b[0;32mNone\u001b[0m\u001b[0;34m)\u001b[0m\u001b[0;34m:\u001b[0m\u001b[0;34m\u001b[0m\u001b[0m\n\u001b[0;32m--> 378\u001b[0;31m             \u001b[0mself\u001b[0m\u001b[0;34m.\u001b[0m\u001b[0mread\u001b[0m\u001b[0;34m(\u001b[0m\u001b[0mfile_ref\u001b[0m\u001b[0;34m,\u001b[0m \u001b[0;34m**\u001b[0m\u001b[0mkwargs\u001b[0m\u001b[0;34m)\u001b[0m\u001b[0;34m\u001b[0m\u001b[0m\n\u001b[0m\u001b[1;32m    379\u001b[0m \u001b[0;34m\u001b[0m\u001b[0m\n\u001b[1;32m    380\u001b[0m     \u001b[0;32mdef\u001b[0m \u001b[0mread\u001b[0m\u001b[0;34m(\u001b[0m\u001b[0mself\u001b[0m\u001b[0;34m,\u001b[0m \u001b[0mfile_ref\u001b[0m\u001b[0;34m,\u001b[0m \u001b[0muse_pandas\u001b[0m\u001b[0;34m=\u001b[0m\u001b[0;34m\"auto\"\u001b[0m\u001b[0;34m,\u001b[0m \u001b[0mnull_subs\u001b[0m\u001b[0;34m=\u001b[0m\u001b[0;32mTrue\u001b[0m\u001b[0;34m,\u001b[0m \u001b[0;34m**\u001b[0m\u001b[0mkwargs\u001b[0m\u001b[0;34m)\u001b[0m\u001b[0;34m:\u001b[0m\u001b[0;34m\u001b[0m\u001b[0m\n",
      "\u001b[0;32m/Users/Evan/anaconda/envs/welly/lib/python3.5/site-packages/lasio/las.py\u001b[0m in \u001b[0;36mread\u001b[0;34m(self, file_ref, use_pandas, null_subs, **kwargs)\u001b[0m\n\u001b[1;32m    401\u001b[0m             \u001b[0mself\u001b[0m\u001b[0;34m.\u001b[0m\u001b[0m_use_pandas\u001b[0m \u001b[0;34m=\u001b[0m \u001b[0muse_pandas\u001b[0m\u001b[0;34m\u001b[0m\u001b[0m\n\u001b[1;32m    402\u001b[0m \u001b[0;34m\u001b[0m\u001b[0m\n\u001b[0;32m--> 403\u001b[0;31m         \u001b[0mf\u001b[0m \u001b[0;34m=\u001b[0m \u001b[0mopen_file\u001b[0m\u001b[0;34m(\u001b[0m\u001b[0mfile_ref\u001b[0m\u001b[0;34m,\u001b[0m \u001b[0;34m**\u001b[0m\u001b[0mkwargs\u001b[0m\u001b[0;34m)\u001b[0m\u001b[0;34m\u001b[0m\u001b[0m\n\u001b[0m\u001b[1;32m    404\u001b[0m \u001b[0;34m\u001b[0m\u001b[0m\n\u001b[1;32m    405\u001b[0m         \u001b[0mself\u001b[0m\u001b[0;34m.\u001b[0m\u001b[0m_text\u001b[0m \u001b[0;34m=\u001b[0m \u001b[0mf\u001b[0m\u001b[0;34m.\u001b[0m\u001b[0mread\u001b[0m\u001b[0;34m(\u001b[0m\u001b[0;34m)\u001b[0m\u001b[0;34m\u001b[0m\u001b[0m\n",
      "\u001b[0;32m/Users/Evan/anaconda/envs/welly/lib/python3.5/site-packages/lasio/las.py\u001b[0m in \u001b[0;36mopen_file\u001b[0;34m(file_ref, encoding, encoding_errors, autodetect_encoding, autodetect_encoding_chars)\u001b[0m\n\u001b[1;32m   1057\u001b[0m                 data = get_unicode_from_filename(\n\u001b[1;32m   1058\u001b[0m                     \u001b[0mfile_ref\u001b[0m\u001b[0;34m,\u001b[0m \u001b[0mencoding\u001b[0m\u001b[0;34m,\u001b[0m \u001b[0mencoding_errors\u001b[0m\u001b[0;34m,\u001b[0m \u001b[0mautodetect_encoding\u001b[0m\u001b[0;34m,\u001b[0m\u001b[0;34m\u001b[0m\u001b[0m\n\u001b[0;32m-> 1059\u001b[0;31m                     autodetect_encoding_chars)\n\u001b[0m\u001b[1;32m   1060\u001b[0m                 \u001b[0mfile_ref\u001b[0m \u001b[0;34m=\u001b[0m \u001b[0mStringIO\u001b[0m\u001b[0;34m(\u001b[0m\u001b[0mdata\u001b[0m\u001b[0;34m)\u001b[0m\u001b[0;34m\u001b[0m\u001b[0m\n\u001b[1;32m   1061\u001b[0m         \u001b[0;32melse\u001b[0m\u001b[0;34m:\u001b[0m\u001b[0;34m\u001b[0m\u001b[0m\n",
      "\u001b[0;32m/Users/Evan/anaconda/envs/welly/lib/python3.5/site-packages/lasio/las.py\u001b[0m in \u001b[0;36mget_unicode_from_filename\u001b[0;34m(fn, enc, errors, auto, nbytes)\u001b[0m\n\u001b[1;32m   1085\u001b[0m     \u001b[0;31m# Detect BOM in UTF-8 files\u001b[0m\u001b[0;34m\u001b[0m\u001b[0;34m\u001b[0m\u001b[0m\n\u001b[1;32m   1086\u001b[0m \u001b[0;34m\u001b[0m\u001b[0m\n\u001b[0;32m-> 1087\u001b[0;31m     \u001b[0mnbytes_test\u001b[0m \u001b[0;34m=\u001b[0m \u001b[0mmin\u001b[0m\u001b[0;34m(\u001b[0m\u001b[0;36m32\u001b[0m\u001b[0;34m,\u001b[0m \u001b[0mos\u001b[0m\u001b[0;34m.\u001b[0m\u001b[0mpath\u001b[0m\u001b[0;34m.\u001b[0m\u001b[0mgetsize\u001b[0m\u001b[0;34m(\u001b[0m\u001b[0mfn\u001b[0m\u001b[0;34m)\u001b[0m\u001b[0;34m)\u001b[0m\u001b[0;34m\u001b[0m\u001b[0m\n\u001b[0m\u001b[1;32m   1088\u001b[0m     \u001b[0;32mwith\u001b[0m \u001b[0mopen\u001b[0m\u001b[0;34m(\u001b[0m\u001b[0mfn\u001b[0m\u001b[0;34m,\u001b[0m \u001b[0mmode\u001b[0m\u001b[0;34m=\u001b[0m\u001b[0;34m\"rb\"\u001b[0m\u001b[0;34m)\u001b[0m \u001b[0;32mas\u001b[0m \u001b[0mtest\u001b[0m\u001b[0;34m:\u001b[0m\u001b[0;34m\u001b[0m\u001b[0m\n\u001b[1;32m   1089\u001b[0m         \u001b[0mraw\u001b[0m \u001b[0;34m=\u001b[0m \u001b[0mtest\u001b[0m\u001b[0;34m.\u001b[0m\u001b[0mread\u001b[0m\u001b[0;34m(\u001b[0m\u001b[0mnbytes_test\u001b[0m\u001b[0;34m)\u001b[0m\u001b[0;34m\u001b[0m\u001b[0m\n",
      "\u001b[0;32m/Users/Evan/anaconda/envs/welly/lib/python3.5/genericpath.py\u001b[0m in \u001b[0;36mgetsize\u001b[0;34m(filename)\u001b[0m\n\u001b[1;32m     48\u001b[0m \u001b[0;32mdef\u001b[0m \u001b[0mgetsize\u001b[0m\u001b[0;34m(\u001b[0m\u001b[0mfilename\u001b[0m\u001b[0;34m)\u001b[0m\u001b[0;34m:\u001b[0m\u001b[0;34m\u001b[0m\u001b[0m\n\u001b[1;32m     49\u001b[0m     \u001b[0;34m\"\"\"Return the size of a file, reported by os.stat().\"\"\"\u001b[0m\u001b[0;34m\u001b[0m\u001b[0m\n\u001b[0;32m---> 50\u001b[0;31m     \u001b[0;32mreturn\u001b[0m \u001b[0mos\u001b[0m\u001b[0;34m.\u001b[0m\u001b[0mstat\u001b[0m\u001b[0;34m(\u001b[0m\u001b[0mfilename\u001b[0m\u001b[0;34m)\u001b[0m\u001b[0;34m.\u001b[0m\u001b[0mst_size\u001b[0m\u001b[0;34m\u001b[0m\u001b[0m\n\u001b[0m\u001b[1;32m     51\u001b[0m \u001b[0;34m\u001b[0m\u001b[0m\n\u001b[1;32m     52\u001b[0m \u001b[0;34m\u001b[0m\u001b[0m\n",
      "\u001b[0;31mFileNotFoundError\u001b[0m: [Errno 2] No such file or directory: '../../recipes/data/las/P-129_out.LAS'"
     ]
    }
   ],
   "source": [
    "wells[10].add_curves_from_las('../../recipes/data/las/P-129_out.LAS')"
   ]
  },
  {
   "cell_type": "markdown",
   "metadata": {},
   "source": [
    "Add a CRS:"
   ]
  },
  {
   "cell_type": "code",
   "execution_count": 7,
   "metadata": {
    "collapsed": false
   },
   "outputs": [
    {
     "ename": "AttributeError",
     "evalue": "'Location' object has no attribute 'crs_from_epsg'",
     "output_type": "error",
     "traceback": [
      "\u001b[0;31m---------------------------------------------------------------------------\u001b[0m",
      "\u001b[0;31mAttributeError\u001b[0m                            Traceback (most recent call last)",
      "\u001b[0;32m<ipython-input-7-cfa58d4f773c>\u001b[0m in \u001b[0;36m<module>\u001b[0;34m()\u001b[0m\n\u001b[0;32m----> 1\u001b[0;31m \u001b[0mwells\u001b[0m\u001b[0;34m[\u001b[0m\u001b[0;36m10\u001b[0m\u001b[0;34m]\u001b[0m\u001b[0;34m.\u001b[0m\u001b[0mlocation\u001b[0m\u001b[0;34m.\u001b[0m\u001b[0mcrs_from_epsg\u001b[0m\u001b[0;34m(\u001b[0m\u001b[0;36m4269\u001b[0m\u001b[0;34m)\u001b[0m  \u001b[0;31m# NAD83\u001b[0m\u001b[0;34m\u001b[0m\u001b[0m\n\u001b[0m",
      "\u001b[0;31mAttributeError\u001b[0m: 'Location' object has no attribute 'crs_from_epsg'"
     ]
    }
   ],
   "source": [
    "wells[10].location.crs_from_epsg(4269)  # NAD83"
   ]
  },
  {
   "cell_type": "markdown",
   "metadata": {},
   "source": [
    "Check everything:"
   ]
  },
  {
   "cell_type": "code",
   "execution_count": 7,
   "metadata": {
    "collapsed": false
   },
   "outputs": [
    {
     "data": {
      "text/html": [
       "<table><tr><th style=\"text-align:center;\" colspan=\"2\">Kennetcook #2<br><small></small></th></tr><tr><td><strong>latitude</strong></td><td>45.20951028</td></tr><tr><td><strong>datum</strong></td><td>NAD83</td></tr><tr><td><strong>basin</strong></td><td>Windsor Basin</td></tr><tr><td><strong>kb</strong></td><td>94.8</td></tr><tr><td><strong>crs</strong></td><td>{'init': 'epsg:4269', 'no_defs': True}</td></tr><tr><td><strong>longitude</strong></td><td>63.75679444</td></tr><tr><td><strong>gl</strong></td><td>90.3</td></tr><tr><td><strong>td</strong></td><td>1935.0</td></tr><tr><td><strong>data</strong></td><td>['RLA4', 'DPHI_SAN', 'DPHI_DOL', 'RXOZ', 'RM_HRLT', 'RXO_HRLT', 'RLA3', 'RLA2', 'DTS', 'HCAL', 'NPHI_DOL', 'RLA1', 'DEPT', 'RHOB', 'DT', 'NPHI_LIM', 'DRHO', 'NPHI_SAN', 'PEF', 'GR', 'DPHI_LIM', 'RLA5', 'CALI', 'SP', 'RT_HRLT']</td></tr></table>"
      ],
      "text/plain": [
       "<welly.well.Well at 0x10d78d898>"
      ]
     },
     "execution_count": 7,
     "metadata": {},
     "output_type": "execute_result"
    }
   ],
   "source": [
    "wells[10]"
   ]
  },
  {
   "cell_type": "markdown",
   "metadata": {},
   "source": [
    "## Save well to SHP\n",
    "\n",
    "We'll make a loop to do many wells, but we only have proper info for one:"
   ]
  },
  {
   "cell_type": "code",
   "execution_count": 8,
   "metadata": {
    "collapsed": false
   },
   "outputs": [],
   "source": [
    "wells_to_export = wells[:20]  # Most of these will fail."
   ]
  },
  {
   "cell_type": "code",
   "execution_count": 11,
   "metadata": {
    "collapsed": false
   },
   "outputs": [],
   "source": [
    "my_crs = wells[10].location.crs.data  # Most of these will fail."
   ]
  },
  {
   "cell_type": "code",
   "execution_count": 12,
   "metadata": {
    "collapsed": false
   },
   "outputs": [
    {
     "name": "stdout",
     "output_type": "stream",
     "text": [
      "Exported 1 well(s)\n"
     ]
    }
   ],
   "source": [
    "import fiona\n",
    "from fiona import crs\n",
    "from shapely.geometry import Point, LineString, mapping\n",
    "\n",
    "point_schema = {'geometry': 'Point',\n",
    "                'properties': {'name': 'str',\n",
    "                               'uwi': 'str',\n",
    "                               'td': 'int',\n",
    "                               'gr': 'float'\n",
    "                               }\n",
    "                }\n",
    "\n",
    "fname = 'well.shp'\n",
    "\n",
    "with fiona.open(fname, \"w\",\n",
    "                driver=\"ESRI Shapefile\",\n",
    "                crs=my_crs,\n",
    "                schema=point_schema) as f:\n",
    "\n",
    "    count = 0\n",
    "    for w in wells_to_export:\n",
    "        try:\n",
    "            p = Point(w.location.latitude, w.location.longitude)\n",
    "            f.write({'geometry': mapping(p),\n",
    "                     'properties': {'name': w.header.name,\n",
    "                                    'uwi': w.uwi,\n",
    "                                    'td': w.location.td,\n",
    "                                    'gr': float(w.data['GR'].mean())\n",
    "                                   }\n",
    "                     })\n",
    "            count += 1\n",
    "        except:\n",
    "            pass\n",
    "print('Exported {} well(s)'.format(count))"
   ]
  },
  {
   "cell_type": "markdown",
   "metadata": {},
   "source": [
    "Check it:"
   ]
  },
  {
   "cell_type": "code",
   "execution_count": 13,
   "metadata": {
    "collapsed": false
   },
   "outputs": [
    {
     "name": "stdout",
     "output_type": "stream",
     "text": [
      "{'geometry': {'coordinates': (45.20951028, 63.75679444), 'type': 'Point'},\n",
      " 'id': '0',\n",
      " 'properties': {'gr': 78.9863535887685,\n",
      "                'td': 1935,\n",
      "                'uwi': None,\n",
      "                'name': 'Kennetcook #2'},\n",
      " 'type': 'Feature'}\n"
     ]
    }
   ],
   "source": [
    "import pprint\n",
    "with fiona.open(fname, \"r\", driver=\"ESRI Shapefile\") as c:\n",
    "    for i in c:\n",
    "        pprint.pprint(i)"
   ]
  },
  {
   "cell_type": "code",
   "execution_count": null,
   "metadata": {
    "collapsed": true
   },
   "outputs": [],
   "source": []
  }
 ],
 "metadata": {
  "kernelspec": {
   "display_name": "Python 3",
   "language": "python",
   "name": "python3"
  },
  "language_info": {
   "codemirror_mode": {
    "name": "ipython",
    "version": 3
   },
   "file_extension": ".py",
   "mimetype": "text/x-python",
   "name": "python",
   "nbconvert_exporter": "python",
   "pygments_lexer": "ipython3",
   "version": "3.5.1"
  }
 },
 "nbformat": 4,
 "nbformat_minor": 0
}
