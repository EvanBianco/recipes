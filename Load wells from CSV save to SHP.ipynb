{
 "cells": [
  {
   "cell_type": "markdown",
   "metadata": {},
   "source": [
    "## Load wells from CSV save to SHP\n",
    "\n",
    "Some preliminaries..."
   ]
  },
  {
   "cell_type": "code",
   "execution_count": 1,
   "metadata": {
    "collapsed": false
   },
   "outputs": [
    {
     "data": {
      "text/plain": [
       "'0.1.1'"
      ]
     },
     "execution_count": 1,
     "metadata": {},
     "output_type": "execute_result"
    }
   ],
   "source": [
    "import numpy as np\n",
    "import matplotlib.pyplot as plt\n",
    "%matplotlib inline\n",
    "import welly\n",
    "welly.__version__"
   ]
  },
  {
   "cell_type": "code",
   "execution_count": 2,
   "metadata": {
    "collapsed": false
   },
   "outputs": [],
   "source": [
    "import os\n",
    "env = %env"
   ]
  },
  {
   "cell_type": "markdown",
   "metadata": {},
   "source": [
    "## Load wells from CSV\n",
    "\n",
    "This does not do a lot yet. This is the first step in trying to make a CSV constructor.\n",
    "\n",
    "It may not be possible to generalize this in a sensible way."
   ]
  },
  {
   "cell_type": "code",
   "execution_count": 3,
   "metadata": {
    "collapsed": false
   },
   "outputs": [],
   "source": [
    "import csv\n",
    "fname = 'data/Nova_Scotia_wells_2015.csv'\n",
    "reader = csv.DictReader(open(fname))\n",
    "\n",
    "wells = []\n",
    "\n",
    "for line in reader:\n",
    "    params = {'header': {},\n",
    "              'location': {},\n",
    "             }\n",
    "    \n",
    "    for key, value in line.items():\n",
    "        sect, item = key.split('.')\n",
    "        params[sect][item] = value\n",
    "        \n",
    "    # Deal with surface location nonsense.\n",
    "    \n",
    "    # First the numerics.\n",
    "    try:\n",
    "        lat = float(params['location'].get('latitude'))\n",
    "        lon = float(params['location'].get('longitude'))\n",
    "    except:\n",
    "        lat, lon = 0, 0\n",
    "        \n",
    "    try:\n",
    "        x = float(params['location'].get('x'))\n",
    "        y = float(params['location'].get('y'))\n",
    "    except:\n",
    "        x, y = 0, 0\n",
    "\n",
    "    # Then the strings.\n",
    "    datum = params['location'].get('datum')  # Empty string if missing\n",
    "    utm = params['location'].get('datum')    # Empty string if missing\n",
    "    \n",
    "    # STRICT RULES\n",
    "    # Either a well location has what it needs, or it doesn't. \n",
    "    \n",
    "    #     # If we have (lat, lon) then chuck everything else out.\n",
    "    #     if lat and lon:\n",
    "    #         del params['location']['x']\n",
    "    #         del params['location']['y']\n",
    "    #         del params['location']['utm']\n",
    "    #         if not datum:\n",
    "    #             del params['location']['latitude']\n",
    "    #             del params['location']['longitude']\n",
    "\n",
    "    #     # Otherwise, keep fully qualified (x, y)s\n",
    "    #     else:\n",
    "    #         del params['location']['latitude']\n",
    "    #         del params['location']['longitude']\n",
    "    #         if (not x and y) or (not datum) or (not utm):\n",
    "    #             del params['location']['x']\n",
    "    #             del params['location']['y']\n",
    "    #             del params['location']['datum']\n",
    "    #             del params['location']['utm']\n",
    "\n",
    "    # Build the well and add it to the list.\n",
    "    h = welly.Header(params['header'])\n",
    "    l = welly.Location(params['location'])\n",
    "    w = welly.Well({'header': h, 'location': l})\n",
    "    wells.append(w)"
   ]
  },
  {
   "cell_type": "markdown",
   "metadata": {},
   "source": [
    "Get the index of the well P-129 in this list:"
   ]
  },
  {
   "cell_type": "code",
   "execution_count": 4,
   "metadata": {
    "collapsed": false
   },
   "outputs": [
    {
     "data": {
      "text/plain": [
       "10"
      ]
     },
     "execution_count": 4,
     "metadata": {},
     "output_type": "execute_result"
    }
   ],
   "source": [
    "[w.header.license for w in wells].index('P-129')"
   ]
  },
  {
   "cell_type": "markdown",
   "metadata": {},
   "source": [
    "Add curves to this well:"
   ]
  },
  {
   "cell_type": "code",
   "execution_count": 5,
   "metadata": {
    "collapsed": false
   },
   "outputs": [
    {
     "data": {
      "text/html": [
       "<table><tr><th style=\"text-align:center;\" colspan=\"2\">Kennetcook #2<br><small></small></th></tr><tr><td><strong>basin</strong></td><td>Windsor Basin</td></tr><tr><td><strong>td</strong></td><td>1935.0</td></tr><tr><td><strong>longitude</strong></td><td>63.75679444</td></tr><tr><td><strong>gl</strong></td><td>90.3</td></tr><tr><td><strong>crs</strong></td><td>{}</td></tr><tr><td><strong>kb</strong></td><td>94.8</td></tr><tr><td><strong>latitude</strong></td><td>45.20951028</td></tr><tr><td><strong>data</strong></td><td>[]</td></tr></table>"
      ],
      "text/plain": [
       "<welly.well.Well at 0x110b38390>"
      ]
     },
     "execution_count": 5,
     "metadata": {},
     "output_type": "execute_result"
    }
   ],
   "source": [
    "wells[10]"
   ]
  },
  {
   "cell_type": "code",
   "execution_count": 86,
   "metadata": {
    "collapsed": false
   },
   "outputs": [
    {
     "data": {
      "text/plain": [
       "Location({'basin': 'Windsor Basin', 'td': 1935.0, 'longitude': 63.75679444, 'gl': 90.3, 'position': None, 'crs': CRS({'init': 'epsg:4269', 'no_defs': True}), 'deviation': None, 'kb': 94.8, 'latitude': 45.20951028})"
      ]
     },
     "execution_count": 86,
     "metadata": {},
     "output_type": "execute_result"
    }
   ],
   "source": [
    "wells[10].location.basin\n"
   ]
  },
  {
   "cell_type": "code",
   "execution_count": 6,
   "metadata": {
    "collapsed": false
   },
   "outputs": [],
   "source": [
    "wells[10].add_curves_from_las('data/las/P-129_out.LAS')"
   ]
  },
  {
   "cell_type": "markdown",
   "metadata": {},
   "source": [
    "Add a CRS:"
   ]
  },
  {
   "cell_type": "code",
   "execution_count": 52,
   "metadata": {
    "collapsed": false
   },
   "outputs": [],
   "source": [
    "wells[10].location.crs_from_epsg(4269)  # NAD83"
   ]
  },
  {
   "cell_type": "markdown",
   "metadata": {},
   "source": [
    "Check everything:"
   ]
  },
  {
   "cell_type": "code",
   "execution_count": 66,
   "metadata": {
    "collapsed": false
   },
   "outputs": [
    {
     "data": {
      "text/plain": [
       "Location({'y': 529556.93, 'deviation': None, 'td': 1259.0, 'longitude': 62.62126806, 'x': 5045389.81, 'position': None, 'crs': CRS({}), 'utm': 20.0, 'kb': 44.68, 'latitude': 45.56141944})"
      ]
     },
     "execution_count": 66,
     "metadata": {},
     "output_type": "execute_result"
    }
   ],
   "source": [
    "wells[0].location"
   ]
  },
  {
   "cell_type": "markdown",
   "metadata": {},
   "source": [
    "## Save well to SHP\n",
    "\n",
    "We'll make a loop to do many wells, but we only have proper info for one:"
   ]
  },
  {
   "cell_type": "code",
   "execution_count": 67,
   "metadata": {
    "collapsed": false
   },
   "outputs": [],
   "source": [
    "wells_to_export = wells  # Most of these will fail, because the spreadsheet isn't strictly complete"
   ]
  },
  {
   "cell_type": "code",
   "execution_count": 68,
   "metadata": {
    "collapsed": false
   },
   "outputs": [
    {
     "data": {
      "text/plain": [
       "151"
      ]
     },
     "execution_count": 68,
     "metadata": {},
     "output_type": "execute_result"
    }
   ],
   "source": [
    "len(wells_to_export)"
   ]
  },
  {
   "cell_type": "code",
   "execution_count": 69,
   "metadata": {
    "collapsed": false
   },
   "outputs": [],
   "source": [
    "my_crs = wells[10].location.crs.data  # Most of these will fail."
   ]
  },
  {
   "cell_type": "markdown",
   "metadata": {},
   "source": [
    "To work with shapefiles, we need to install the *fiona* and *shapely* Python modules. They aren't dependencies for `welly` or `striplog`, but they are required to continue with this workflow."
   ]
  },
  {
   "cell_type": "code",
   "execution_count": 70,
   "metadata": {
    "collapsed": false
   },
   "outputs": [],
   "source": [
    "import fiona\n",
    "from fiona import crs\n",
    "from shapely.geometry import Point, LineString, mapping"
   ]
  },
  {
   "cell_type": "code",
   "execution_count": 90,
   "metadata": {
    "collapsed": false
   },
   "outputs": [
    {
     "name": "stdout",
     "output_type": "stream",
     "text": [
      "Exported 14 well(s)\n"
     ]
    }
   ],
   "source": [
    "point_schema = {'geometry': 'Point',\n",
    "                'properties': {'license': 'str',\n",
    "                               'name': 'str',\n",
    "                               'uwi': 'str',\n",
    "                               'td': 'int',\n",
    "                               #'gr': 'float'\n",
    "                               }\n",
    "                }\n",
    "\n",
    "fname = 'data/shapefiles/well.shp'\n",
    "\n",
    "with fiona.open(fname, \"w\",\n",
    "                driver=\"ESRI Shapefile\",\n",
    "                crs=my_crs,\n",
    "                schema=point_schema) as f:\n",
    "\n",
    "    count = 0\n",
    "    for w in wells_to_export:\n",
    "        try:\n",
    "            if w.location.latitude and w.location.longitude != 0:\n",
    "                \n",
    "                if w.location.basin == 'Windsor Basin':\n",
    "                    p = Point(w.location.latitude, -w.location.longitude)\n",
    "                    f.write({'geometry': mapping(p),\n",
    "                             'properties': {'license': w.header.license,\n",
    "                                            'name': w.header.name,\n",
    "                                            'uwi': w.uwi,\n",
    "                                            'td': w.location.td,\n",
    "                                            #'gr': float(w.data['GR'].mean())\n",
    "                                           }\n",
    "                             })\n",
    "                    count += 1\n",
    "        except:\n",
    "            pass\n",
    "print('Exported {} well(s)'.format(count))"
   ]
  },
  {
   "cell_type": "markdown",
   "metadata": {},
   "source": [
    "Check it:"
   ]
  },
  {
   "cell_type": "code",
   "execution_count": 91,
   "metadata": {
    "collapsed": false
   },
   "outputs": [
    {
     "name": "stdout",
     "output_type": "stream",
     "text": [
      "{'geometry': {'coordinates': (45.29485083, -63.72693361), 'type': 'Point'},\n",
      " 'id': '0',\n",
      " 'properties': OrderedDict([('license', 'P-133'),\n",
      "                            ('name', 'E-38-A/11-E-5'),\n",
      "                            ('uwi', None),\n",
      "                            ('td', 1726)]),\n",
      " 'type': 'Feature'}\n",
      "{'geometry': {'coordinates': (45.27526, -63.72334833), 'type': 'Point'},\n",
      " 'id': '1',\n",
      " 'properties': OrderedDict([('license', 'P-130'),\n",
      "                            ('name', 'N-14-A/11-E-5'),\n",
      "                            ('uwi', None),\n",
      "                            ('td', 2618)]),\n",
      " 'type': 'Feature'}\n",
      "{'geometry': {'coordinates': (45.20951028, -63.75679444), 'type': 'Point'},\n",
      " 'id': '2',\n",
      " 'properties': OrderedDict([('license', 'P-129'),\n",
      "                            ('name', 'Kennetcook #2'),\n",
      "                            ('uwi', None),\n",
      "                            ('td', 1935)]),\n",
      " 'type': 'Feature'}\n",
      "{'geometry': {'coordinates': (45.19742861, -63.71606389), 'type': 'Point'},\n",
      " 'id': '3',\n",
      " 'properties': OrderedDict([('license', 'P-126'),\n",
      "                            ('name', 'Kennetcook #1'),\n",
      "                            ('uwi', None),\n",
      "                            ('td', 1385)]),\n",
      " 'type': 'Feature'}\n",
      "{'geometry': {'coordinates': (45.20268611, -63.70036389), 'type': 'Point'},\n",
      " 'id': '4',\n",
      " 'properties': OrderedDict([('license', 'P-99'),\n",
      "                            ('name', 'South Noel #1'),\n",
      "                            ('uwi', None),\n",
      "                            ('td', 345)]),\n",
      " 'type': 'Feature'}\n",
      "{'geometry': {'coordinates': (45.2125, -63.70472222), 'type': 'Point'},\n",
      " 'id': '5',\n",
      " 'properties': OrderedDict([('license', 'P-87'),\n",
      "                            ('name', 'Noel #1'),\n",
      "                            ('uwi', None),\n",
      "                            ('td', 1448)]),\n",
      " 'type': 'Feature'}\n",
      "{'geometry': {'coordinates': (45.17833333, -63.73166667), 'type': 'Point'},\n",
      " 'id': '6',\n",
      " 'properties': OrderedDict([('license', 'P-73'),\n",
      "                            ('name', 'Anthony #3'),\n",
      "                            ('uwi', None),\n",
      "                            ('td', 788)]),\n",
      " 'type': 'Feature'}\n",
      "{'geometry': {'coordinates': (45.17777778, -63.73166667), 'type': 'Point'},\n",
      " 'id': '7',\n",
      " 'properties': OrderedDict([('license', 'P-60'),\n",
      "                            ('name', 'Anthony #2'),\n",
      "                            ('uwi', None),\n",
      "                            ('td', 265)]),\n",
      " 'type': 'Feature'}\n",
      "{'geometry': {'coordinates': (45.1775, -63.73166667), 'type': 'Point'},\n",
      " 'id': '8',\n",
      " 'properties': OrderedDict([('license', 'P-59'),\n",
      "                            ('name', 'Anthony #1'),\n",
      "                            ('uwi', None),\n",
      "                            ('td', 194)]),\n",
      " 'type': 'Feature'}\n",
      "{'geometry': {'coordinates': (44.98583333, -64.17027778), 'type': 'Point'},\n",
      " 'id': '9',\n",
      " 'properties': OrderedDict([('license', 'P-20'),\n",
      "                            ('name', 'Falmouth Station No. 1'),\n",
      "                            ('uwi', None),\n",
      "                            ('td', 582)]),\n",
      " 'type': 'Feature'}\n",
      "{'geometry': {'coordinates': (45.17305556, -64.1625), 'type': 'Point'},\n",
      " 'id': '10',\n",
      " 'properties': OrderedDict([('license', 'P-19'),\n",
      "                            ('name', 'Unknown'),\n",
      "                            ('uwi', None),\n",
      "                            ('td', 304)]),\n",
      " 'type': 'Feature'}\n",
      "{'geometry': {'coordinates': (45.14638889, -64.145), 'type': 'Point'},\n",
      " 'id': '11',\n",
      " 'properties': OrderedDict([('license', 'P-18'),\n",
      "                            ('name', 'Unknown'),\n",
      "                            ('uwi', None),\n",
      "                            ('td', 579)]),\n",
      " 'type': 'Feature'}\n",
      "{'geometry': {'coordinates': (45.15972222, -64.165), 'type': 'Point'},\n",
      " 'id': '12',\n",
      " 'properties': OrderedDict([('license', 'P-17'),\n",
      "                            ('name', 'Cheverie No. 1; NSDM Record No. 90'),\n",
      "                            ('uwi', None),\n",
      "                            ('td', 582)]),\n",
      " 'type': 'Feature'}\n",
      "{'geometry': {'coordinates': (45.06861111, -64.18666667), 'type': 'Point'},\n",
      " 'id': '13',\n",
      " 'properties': OrderedDict([('license', 'P-14'),\n",
      "                            ('name', 'Unknown'),\n",
      "                            ('uwi', None),\n",
      "                            ('td', 396)]),\n",
      " 'type': 'Feature'}\n"
     ]
    }
   ],
   "source": [
    "import pprint\n",
    "with fiona.open(fname, \"r\", driver=\"ESRI Shapefile\") as c:\n",
    "    for i in c:\n",
    "        pprint.pprint(i)"
   ]
  },
  {
   "cell_type": "code",
   "execution_count": null,
   "metadata": {
    "collapsed": true
   },
   "outputs": [],
   "source": []
  }
 ],
 "metadata": {
  "kernelspec": {
   "display_name": "Python 3",
   "language": "python",
   "name": "python3"
  },
  "language_info": {
   "codemirror_mode": {
    "name": "ipython",
    "version": 3
   },
   "file_extension": ".py",
   "mimetype": "text/x-python",
   "name": "python",
   "nbconvert_exporter": "python",
   "pygments_lexer": "ipython3",
   "version": "3.5.1"
  }
 },
 "nbformat": 4,
 "nbformat_minor": 0
}
