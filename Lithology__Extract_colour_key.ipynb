{
 "cells": [
  {
   "cell_type": "markdown",
   "metadata": {},
   "source": [
    "# Extracting a colour key"
   ]
  },
  {
   "cell_type": "markdown",
   "metadata": {},
   "source": [
    "This notebook extracts the colours from a legend-like image. The easiest image to work with simply has the coloured blocks stacked up in a single column, with no gaps and no other colours (including no lines between the coloured blocks). \n",
    "\n",
    "Rather than hacking away with indices in Python, it might be easiesr to make a PNG that meets those criteria. You do want a PNG, not a JPEG or any other format, and you want to make sure it has lots of pixels, so that the boundaries are nice and sharp. \n",
    "\n",
    "Here's the image I'm starting off with, and what I'm transforming it to in Inkscape: \n",
    "\n",
    "<img style=\"float:left;\" src=\"data/z_Lithology_legend.png\" width=\"180px\" />\n",
    "<img src=\"data/z_Lithology_legend_gapless.png\" width=\"45px\" />"
   ]
  },
  {
   "cell_type": "markdown",
   "metadata": {},
   "source": [
    "Import some basic stuff:"
   ]
  },
  {
   "cell_type": "code",
   "execution_count": 1,
   "metadata": {
    "collapsed": false
   },
   "outputs": [],
   "source": [
    "import numpy as np\n",
    "import matplotlib.pyplot as plt\n",
    "from PIL import Image\n",
    "%matplotlib inline"
   ]
  },
  {
   "cell_type": "markdown",
   "metadata": {},
   "source": [
    "Read the file and transform into a `numpy` array."
   ]
  },
  {
   "cell_type": "code",
   "execution_count": 2,
   "metadata": {
    "collapsed": false
   },
   "outputs": [
    {
     "data": {
      "text/plain": [
       "(8431, 467, 3)"
      ]
     },
     "execution_count": 2,
     "metadata": {},
     "output_type": "execute_result"
    }
   ],
   "source": [
    "filename = \"z_Lithology_legend_gapless.png\"\n",
    "im = np.array(Image.open(\"data/\" + filename))\n",
    "im.shape"
   ]
  },
  {
   "cell_type": "code",
   "execution_count": 3,
   "metadata": {
    "collapsed": false
   },
   "outputs": [
    {
     "data": {
      "image/png": "[encoded data removed]",
      "text/plain": [
       "<matplotlib.figure.Figure at 0x107ce30d0>"
      ]
     },
     "metadata": {},
     "output_type": "display_data"
    }
   ],
   "source": [
    "plt.imshow(im)\n",
    "plt.show()"
   ]
  },
  {
   "cell_type": "markdown",
   "metadata": {},
   "source": [
    "## Extract some pixels"
   ]
  },
  {
   "cell_type": "markdown",
   "metadata": {},
   "source": [
    "Let's extract a column of pixels to work with. We know that they are all the same, all the way across. "
   ]
  },
  {
   "cell_type": "code",
   "execution_count": 4,
   "metadata": {
    "collapsed": false
   },
   "outputs": [],
   "source": [
    "column = im.shape[1]/10."
   ]
  },
  {
   "cell_type": "markdown",
   "metadata": {},
   "source": [
    "We'll extract the red, green, and blue channels:"
   ]
  },
  {
   "cell_type": "code",
   "execution_count": 5,
   "metadata": {
    "collapsed": false
   },
   "outputs": [],
   "source": [
    "r = im[:,column,0]  # 100th column, red channel"
   ]
  },
  {
   "cell_type": "code",
   "execution_count": 6,
   "metadata": {
    "collapsed": false
   },
   "outputs": [
    {
     "data": {
      "text/plain": [
       "array([134, 134, 134, ..., 255, 255, 255], dtype=uint8)"
      ]
     },
     "execution_count": 6,
     "metadata": {},
     "output_type": "execute_result"
    }
   ],
   "source": [
    "r"
   ]
  },
  {
   "cell_type": "code",
   "execution_count": 7,
   "metadata": {
    "collapsed": false
   },
   "outputs": [],
   "source": [
    "g = im[:,column,1]  # 100th column, green channel\n",
    "b = im[:,column,2]  # 100th column, blue channel"
   ]
  },
  {
   "cell_type": "markdown",
   "metadata": {},
   "source": [
    "## Find the edges"
   ]
  },
  {
   "cell_type": "markdown",
   "metadata": {},
   "source": [
    "An easy way to find edges on the 3 channels simultaneously is to create an entity that is guaranteed to be different for any (r,g,b) triple. One way to do this is to make a hexadecimal string (as we might use in CSS or JavaScript coding, for example). "
   ]
  },
  {
   "cell_type": "code",
   "execution_count": 8,
   "metadata": {
    "collapsed": false
   },
   "outputs": [],
   "source": [
    "import utils"
   ]
  },
  {
   "cell_type": "code",
   "execution_count": 9,
   "metadata": {
    "collapsed": false
   },
   "outputs": [],
   "source": [
    "guaranteed = [utils.rgb_to_hex(i) for i in im[:, column, :3]]"
   ]
  },
  {
   "cell_type": "code",
   "execution_count": 10,
   "metadata": {
    "collapsed": false
   },
   "outputs": [
    {
     "data": {
      "text/plain": [
       "array(['86F0B6', '86F0B6', '86F0B6'], \n",
       "      dtype='|S6')"
      ]
     },
     "execution_count": 10,
     "metadata": {},
     "output_type": "execute_result"
    }
   ],
   "source": [
    "guaranteed = np.array(guaranteed)\n",
    "guaranteed[:3]"
   ]
  },
  {
   "cell_type": "markdown",
   "metadata": {},
   "source": [
    "We'll make a temporary truth table to show where our values change. "
   ]
  },
  {
   "cell_type": "code",
   "execution_count": 11,
   "metadata": {
    "collapsed": false
   },
   "outputs": [
    {
     "data": {
      "text/plain": [
       "array([ True,  True,  True, ...,  True,  True,  True], dtype=bool)"
      ]
     },
     "execution_count": 11,
     "metadata": {},
     "output_type": "execute_result"
    }
   ],
   "source": [
    "g = guaranteed[1:] == guaranteed[:-1]\n",
    "g"
   ]
  },
  {
   "cell_type": "markdown",
   "metadata": {},
   "source": [
    "But the values change 1-3 times for each boundary, depending on the pixels values. So we'll get the edges from the first downwards change from `True`.  "
   ]
  },
  {
   "cell_type": "code",
   "execution_count": 12,
   "metadata": {
    "collapsed": false
   },
   "outputs": [],
   "source": [
    "edges = g[1:] & (g[:-1]==0)"
   ]
  },
  {
   "cell_type": "markdown",
   "metadata": {},
   "source": [
    "These are the indices at which the lithology changes. Let's make their indices into the 'tops'... we'll transform them to depth later. "
   ]
  },
  {
   "cell_type": "code",
   "execution_count": 13,
   "metadata": {
    "collapsed": false
   },
   "outputs": [],
   "source": [
    "tops = np.where(edges)[0]+1\n",
    "tops = np.append(0,tops)"
   ]
  },
  {
   "cell_type": "code",
   "execution_count": 14,
   "metadata": {
    "collapsed": false
   },
   "outputs": [
    {
     "data": {
      "image/png": "[encoded data removed]",
      "text/plain": [
       "<matplotlib.figure.Figure at 0x108ca9350>"
      ]
     },
     "metadata": {},
     "output_type": "display_data"
    }
   ],
   "source": [
    "plt.figure(figsize=(4,20))\n",
    "for t in tops: plt.axhline(t)\n",
    "plt.imshow(im)\n",
    "plt.show()"
   ]
  },
  {
   "cell_type": "markdown",
   "metadata": {},
   "source": [
    "## Grab the colours"
   ]
  },
  {
   "cell_type": "markdown",
   "metadata": {},
   "source": [
    "Just to be certain of hitting 'clean' intervals for the colour samples, we'll get them from a few pixels down."
   ]
  },
  {
   "cell_type": "code",
   "execution_count": 15,
   "metadata": {
    "collapsed": false
   },
   "outputs": [
    {
     "data": {
      "text/plain": [
       "array([  10,  439,  853, 1332, 1760, 2207, 2643, 3096, 3546, 4025, 4449,\n",
       "       4865, 5344, 5724, 6175, 6607, 7057, 7515, 7993])"
      ]
     },
     "execution_count": 15,
     "metadata": {},
     "output_type": "execute_result"
    }
   ],
   "source": [
    "pix = tops+10\n",
    "pix"
   ]
  },
  {
   "cell_type": "markdown",
   "metadata": {},
   "source": [
    "Make a list of the colours, with a little sidestep in case of duplicates. "
   ]
  },
  {
   "cell_type": "code",
   "execution_count": 16,
   "metadata": {
    "collapsed": false
   },
   "outputs": [
    {
     "data": {
      "text/plain": [
       "['86F0B6',\n",
       " 'FFE040',\n",
       " 'FFD073',\n",
       " 'F2FF42',\n",
       " 'F7E9A6',\n",
       " 'FFDBBA',\n",
       " 'A68374',\n",
       " 'A1655A',\n",
       " 'DBD6BC',\n",
       " 'DBC9BC',\n",
       " '666666',\n",
       " '664A4A',\n",
       " 'A6D1FF',\n",
       " 'A657FA',\n",
       " 'FF99CC',\n",
       " 'FF96F6',\n",
       " '363434',\n",
       " 'FF4C4A',\n",
       " 'FFFFFF']"
      ]
     },
     "execution_count": 16,
     "metadata": {},
     "output_type": "execute_result"
    }
   ],
   "source": [
    "hexes = []\n",
    "for i in im[pix,column,:3].tolist():\n",
    "    h = utils.rgb_to_hex(i)\n",
    "    if h in hexes:\n",
    "        hexes.remove(h) # Eject the previous one.\n",
    "    hexes.append(h) # Keep the last instance.\n",
    "hexes"
   ]
  },
  {
   "cell_type": "markdown",
   "metadata": {},
   "source": [
    "Put it all together.\n",
    "\n",
    "This is all copied verbatim from the legend. "
   ]
  },
  {
   "cell_type": "code",
   "execution_count": 17,
   "metadata": {
    "collapsed": false
   },
   "outputs": [],
   "source": [
    "rock_groups={\n",
    "'Sedimentary':{\n",
    "  'Clastic': ['Conglomerate', 'Sandstone', 'Siltstone', 'Heterolithic', 'Mudstone', 'Coal',],\n",
    "  'Carbonate': ['Limestone', 'Dolomite',], \n",
    "  'Evaporite': ['Anhydrite', 'Halite', 'Gypsum', 'Sylvite',],\n",
    "  },\n",
    "'Igneous': ['Volcanic', 'Granite', 'Basalt', 'Diorite'],\n",
    "}\n",
    "\n",
    "lith_lithologies = [\n",
    "'Conglomerate', \n",
    "'Sandstone',\n",
    "'Sandstone',\n",
    "'Sandstone',\n",
    "'Sandstone',\n",
    "'Sandstone',\n",
    "'Siltstone',\n",
    "'Siltstone',\n",
    "'Heterolithic',\n",
    "'Heterolithic',\n",
    "'Mudstone',\n",
    "'Mudstone',\n",
    "'Limestone',\n",
    "'Dolomite',\n",
    "'Anhydrite',\n",
    "'Halite',\n",
    "'Coal',\n",
    "'Volcanic',\n",
    "'NULL',\n",
    "]\n",
    "\n",
    "lith_colours = [\n",
    "None, \n",
    "'Grey',\n",
    "'Red',\n",
    "'Grey',\n",
    "'Grey',\n",
    "'Red',\n",
    "'Grey',\n",
    "'Red',\n",
    "'Grey',\n",
    "'Red',\n",
    "'Grey',\n",
    "'Red',\n",
    "None, \n",
    "None, \n",
    "None, \n",
    "None, \n",
    "None, \n",
    "None, \n",
    "None, \n",
    "]\n",
    "\n",
    "lith_grainsize = [\n",
    "None, \n",
    "'C-M',\n",
    "'C-M',\n",
    "'F-M',\n",
    "'VF-F',\n",
    "'VF-F',\n",
    "None,\n",
    "None,\n",
    "None, \n",
    "None, \n",
    "None, \n",
    "None, \n",
    "None, \n",
    "None, \n",
    "None, \n",
    "None, \n",
    "None, \n",
    "None, \n",
    "None, \n",
    "]"
   ]
  },
  {
   "cell_type": "code",
   "execution_count": 18,
   "metadata": {
    "collapsed": false
   },
   "outputs": [],
   "source": [
    "import pprint"
   ]
  },
  {
   "cell_type": "code",
   "execution_count": 56,
   "metadata": {
    "collapsed": false
   },
   "outputs": [
    {
     "name": "stdout",
     "output_type": "stream",
     "text": [
      "{'363434': {'code': 17,\n",
      "            'colour': None,\n",
      "            'grainsize': None,\n",
      "            'lithology': 'Coal',\n",
      "            'map colour': '363434'},\n",
      " '664A4A': {'code': 12,\n",
      "            'colour': 'Red',\n",
      "            'grainsize': None,\n",
      "            'lithology': 'Mudstone',\n",
      "            'map colour': '664A4A'},\n",
      " '666666': {'code': 11,\n",
      "            'colour': 'Grey',\n",
      "            'grainsize': None,\n",
      "            'lithology': 'Mudstone',\n",
      "            'map colour': '666666'},\n",
      " '86F0B6': {'code': 1,\n",
      "            'colour': None,\n",
      "            'grainsize': None,\n",
      "            'lithology': 'Conglomerate',\n",
      "            'map colour': '86F0B6'},\n",
      " 'A1655A': {'code': 8,\n",
      "            'colour': 'Red',\n",
      "            'grainsize': None,\n",
      "            'lithology': 'Siltstone',\n",
      "            'map colour': 'A1655A'},\n",
      " 'A657FA': {'code': 14,\n",
      "            'colour': None,\n",
      "            'grainsize': None,\n",
      "            'lithology': 'Dolomite',\n",
      "            'map colour': 'A657FA'},\n",
      " 'A68374': {'code': 7,\n",
      "            'colour': 'Grey',\n",
      "            'grainsize': None,\n",
      "            'lithology': 'Siltstone',\n",
      "            'map colour': 'A68374'},\n",
      " 'A6D1FF': {'code': 13,\n",
      "            'colour': None,\n",
      "            'grainsize': None,\n",
      "            'lithology': 'Limestone',\n",
      "            'map colour': 'A6D1FF'},\n",
      " 'DBC9BC': {'code': 10,\n",
      "            'colour': 'Red',\n",
      "            'grainsize': None,\n",
      "            'lithology': 'Heterolithic',\n",
      "            'map colour': 'DBC9BC'},\n",
      " 'DBD6BC': {'code': 9,\n",
      "            'colour': 'Grey',\n",
      "            'grainsize': None,\n",
      "            'lithology': 'Heterolithic',\n",
      "            'map colour': 'DBD6BC'},\n",
      " 'F2FF42': {'code': 4,\n",
      "            'colour': 'Grey',\n",
      "            'grainsize': 'F-M',\n",
      "            'lithology': 'Sandstone',\n",
      "            'map colour': 'F2FF42'},\n",
      " 'F7E9A6': {'code': 5,\n",
      "            'colour': 'Grey',\n",
      "            'grainsize': 'VF-F',\n",
      "            'lithology': 'Sandstone',\n",
      "            'map colour': 'F7E9A6'},\n",
      " 'FF4C4A': {'code': 18,\n",
      "            'colour': None,\n",
      "            'grainsize': None,\n",
      "            'lithology': 'Volcanic',\n",
      "            'map colour': 'FF4C4A'},\n",
      " 'FF96F6': {'code': 16,\n",
      "            'colour': None,\n",
      "            'grainsize': None,\n",
      "            'lithology': 'Halite',\n",
      "            'map colour': 'FF96F6'},\n",
      " 'FF99CC': {'code': 15,\n",
      "            'colour': None,\n",
      "            'grainsize': None,\n",
      "            'lithology': 'Anhydrite',\n",
      "            'map colour': 'FF99CC'},\n",
      " 'FFD073': {'code': 3,\n",
      "            'colour': 'Red',\n",
      "            'grainsize': 'C-M',\n",
      "            'lithology': 'Sandstone',\n",
      "            'map colour': 'FFD073'},\n",
      " 'FFDBBA': {'code': 6,\n",
      "            'colour': 'Red',\n",
      "            'grainsize': 'VF-F',\n",
      "            'lithology': 'Sandstone',\n",
      "            'map colour': 'FFDBBA'},\n",
      " 'FFE040': {'code': 2,\n",
      "            'colour': 'Grey',\n",
      "            'grainsize': 'C-M',\n",
      "            'lithology': 'Sandstone',\n",
      "            'map colour': 'FFE040'},\n",
      " 'FFFFFF': {'code': 19,\n",
      "            'colour': None,\n",
      "            'grainsize': None,\n",
      "            'lithology': 'NULL',\n",
      "            'map colour': 'FFFFFF'}}\n"
     ]
    }
   ],
   "source": [
    "legend = {}\n",
    "for i, colour in enumerate(hexes):\n",
    "    this_lith = {\n",
    "                 'lithology': lith_lithologies[i],\n",
    "                 'colour': lith_colours[i],\n",
    "                 'grainsize': lith_grainsize[i],\n",
    "                 'map colour': colour,\n",
    "                 'code': i+1\n",
    "                 }\n",
    "    legend[colour] = this_lith\n",
    "    \n",
    "pprint.pprint(legend)"
   ]
  },
  {
   "cell_type": "code",
   "execution_count": 57,
   "metadata": {
    "collapsed": false
   },
   "outputs": [
    {
     "name": "stdout",
     "output_type": "stream",
     "text": [
      "{'363434': {'code': 17,\n",
      "            'colour': None,\n",
      "            'grainsize': None,\n",
      "            'lithology': 'Coal',\n",
      "            'map colour': '363434',\n",
      "            'summary': 'Coal'},\n",
      " '664A4A': {'code': 12,\n",
      "            'colour': 'Red',\n",
      "            'grainsize': None,\n",
      "            'lithology': 'Mudstone',\n",
      "            'map colour': '664A4A',\n",
      "            'summary': 'Mudstone, Red'},\n",
      " '666666': {'code': 11,\n",
      "            'colour': 'Grey',\n",
      "            'grainsize': None,\n",
      "            'lithology': 'Mudstone',\n",
      "            'map colour': '666666',\n",
      "            'summary': 'Mudstone, Grey'},\n",
      " '86F0B6': {'code': 1,\n",
      "            'colour': None,\n",
      "            'grainsize': None,\n",
      "            'lithology': 'Conglomerate',\n",
      "            'map colour': '86F0B6',\n",
      "            'summary': 'Conglomerate'},\n",
      " 'A1655A': {'code': 8,\n",
      "            'colour': 'Red',\n",
      "            'grainsize': None,\n",
      "            'lithology': 'Siltstone',\n",
      "            'map colour': 'A1655A',\n",
      "            'summary': 'Siltstone, Red'},\n",
      " 'A657FA': {'code': 14,\n",
      "            'colour': None,\n",
      "            'grainsize': None,\n",
      "            'lithology': 'Dolomite',\n",
      "            'map colour': 'A657FA',\n",
      "            'summary': 'Dolomite'},\n",
      " 'A68374': {'code': 7,\n",
      "            'colour': 'Grey',\n",
      "            'grainsize': None,\n",
      "            'lithology': 'Siltstone',\n",
      "            'map colour': 'A68374',\n",
      "            'summary': 'Siltstone, Grey'},\n",
      " 'A6D1FF': {'code': 13,\n",
      "            'colour': None,\n",
      "            'grainsize': None,\n",
      "            'lithology': 'Limestone',\n",
      "            'map colour': 'A6D1FF',\n",
      "            'summary': 'Limestone'},\n",
      " 'DBC9BC': {'code': 10,\n",
      "            'colour': 'Red',\n",
      "            'grainsize': None,\n",
      "            'lithology': 'Heterolithic',\n",
      "            'map colour': 'DBC9BC',\n",
      "            'summary': 'Heterolithic, Red'},\n",
      " 'DBD6BC': {'code': 9,\n",
      "            'colour': 'Grey',\n",
      "            'grainsize': None,\n",
      "            'lithology': 'Heterolithic',\n",
      "            'map colour': 'DBD6BC',\n",
      "            'summary': 'Heterolithic, Grey'},\n",
      " 'F2FF42': {'code': 4,\n",
      "            'colour': 'Grey',\n",
      "            'grainsize': 'F-M',\n",
      "            'lithology': 'Sandstone',\n",
      "            'map colour': 'F2FF42',\n",
      "            'summary': 'Sandstone, F-M, Grey'},\n",
      " 'F7E9A6': {'code': 5,\n",
      "            'colour': 'Grey',\n",
      "            'grainsize': 'VF-F',\n",
      "            'lithology': 'Sandstone',\n",
      "            'map colour': 'F7E9A6',\n",
      "            'summary': 'Sandstone, VF-F, Grey'},\n",
      " 'FF4C4A': {'code': 18,\n",
      "            'colour': None,\n",
      "            'grainsize': None,\n",
      "            'lithology': 'Volcanic',\n",
      "            'map colour': 'FF4C4A',\n",
      "            'summary': 'Volcanic'},\n",
      " 'FF96F6': {'code': 16,\n",
      "            'colour': None,\n",
      "            'grainsize': None,\n",
      "            'lithology': 'Halite',\n",
      "            'map colour': 'FF96F6',\n",
      "            'summary': 'Halite'},\n",
      " 'FF99CC': {'code': 15,\n",
      "            'colour': None,\n",
      "            'grainsize': None,\n",
      "            'lithology': 'Anhydrite',\n",
      "            'map colour': 'FF99CC',\n",
      "            'summary': 'Anhydrite'},\n",
      " 'FFD073': {'code': 3,\n",
      "            'colour': 'Red',\n",
      "            'grainsize': 'C-M',\n",
      "            'lithology': 'Sandstone',\n",
      "            'map colour': 'FFD073',\n",
      "            'summary': 'Sandstone, C-M, Red'},\n",
      " 'FFDBBA': {'code': 6,\n",
      "            'colour': 'Red',\n",
      "            'grainsize': 'VF-F',\n",
      "            'lithology': 'Sandstone',\n",
      "            'map colour': 'FFDBBA',\n",
      "            'summary': 'Sandstone, VF-F, Red'},\n",
      " 'FFE040': {'code': 2,\n",
      "            'colour': 'Grey',\n",
      "            'grainsize': 'C-M',\n",
      "            'lithology': 'Sandstone',\n",
      "            'map colour': 'FFE040',\n",
      "            'summary': 'Sandstone, C-M, Grey'},\n",
      " 'FFFFFF': {'code': 19,\n",
      "            'colour': None,\n",
      "            'grainsize': None,\n",
      "            'lithology': 'NULL',\n",
      "            'map colour': 'FFFFFF',\n",
      "            'summary': 'NULL'}}\n"
     ]
    }
   ],
   "source": [
    "for code in legend:\n",
    "    \n",
    "    summary = legend[code]['lithology']\n",
    "    \n",
    "    if legend[code]['grainsize']:\n",
    "        summary += ', ' + legend[code]['grainsize']\n",
    "        \n",
    "    if legend[code]['colour']:\n",
    "        summary += ', ' + legend[code]['colour']\n",
    "        \n",
    "    legend[code]['summary'] = summary\n",
    "    \n",
    "pprint.pprint(legend)"
   ]
  },
  {
   "cell_type": "code",
   "execution_count": 58,
   "metadata": {
    "collapsed": false
   },
   "outputs": [],
   "source": [
    "def summarize(rock):\n",
    "    summary = rock['lithology']\n",
    "    if rock['grainsize']:\n",
    "        summary += ', ' + rock['grainsize'] \n",
    "    if rock['colour']:\n",
    "        summary += ', ' + rock['colour'] \n",
    "    return summary"
   ]
  },
  {
   "cell_type": "markdown",
   "metadata": {},
   "source": [
    "Check integers against imported image:"
   ]
  },
  {
   "cell_type": "code",
   "execution_count": 59,
   "metadata": {
    "collapsed": false
   },
   "outputs": [
    {
     "data": {
      "image/png": "[encoded data removed]",
      "text/plain": [
       "<matplotlib.figure.Figure at 0x10afae250>"
      ]
     },
     "metadata": {},
     "output_type": "display_data"
    }
   ],
   "source": [
    "plt.figure(figsize=(4,20))\n",
    "for i, t in enumerate(tops):\n",
    "    plt.axhline(t)\n",
    "    plt.text(im.shape[1]/2., t+((tops[1]-tops[0])/2.), i+1, fontsize=20, verticalalignment='center', horizontalalignment='center')\n",
    "plt.imshow(im)\n",
    "plt.show()"
   ]
  },
  {
   "cell_type": "markdown",
   "metadata": {},
   "source": [
    "And check we can reproduce this:"
   ]
  },
  {
   "cell_type": "code",
   "execution_count": 60,
   "metadata": {
    "collapsed": false
   },
   "outputs": [],
   "source": [
    "import matplotlib"
   ]
  },
  {
   "cell_type": "code",
   "execution_count": 63,
   "metadata": {
    "collapsed": false
   },
   "outputs": [
    {
     "data": {
      "image/png": "[encoded data removed]",
      "text/plain": [
       "<matplotlib.figure.Figure at 0x10fe00a10>"
      ]
     },
     "metadata": {},
     "output_type": "display_data"
    }
   ],
   "source": [
    "fig = plt.figure(figsize=(3,20))\n",
    "\n",
    "ax1 = plt.subplot(121)\n",
    "for i, t in enumerate(tops):\n",
    "    ax1.axhline(t)\n",
    "    ax1.text(im.shape[1]/2., t+((tops[1]-tops[0])/2.), i+1, fontsize=20, verticalalignment='center', horizontalalignment='center')\n",
    "ax1.get_xaxis().set_visible(False)\n",
    "ax1.get_yaxis().set_visible(False)\n",
    "plt.imshow(im)\n",
    "\n",
    "ax = plt.subplot(122)\n",
    "for i,l in legend.iteritems():\n",
    "    i = l['code'] # Quick hack as I've gone back to using hex codes\n",
    "    rect1 = matplotlib.patches.Rectangle((0, 100*i), 100, 100, color='#'+l['map colour'])\n",
    "    ax.add_patch(rect1)\n",
    "    plt.text(50, (100*i)+50, i, fontsize=20, verticalalignment='center', horizontalalignment='center') \n",
    "    plt.text(120, (100*i)+50, summarize(l), fontsize=20, verticalalignment='center', horizontalalignment='left') \n",
    "plt.xlim([0, 100])\n",
    "plt.ylim([100,2000])\n",
    "ax.get_xaxis().set_visible(False)\n",
    "ax.get_yaxis().set_visible(False)\n",
    "ax.get_yaxis().set_visible(False)\n",
    "ax.invert_yaxis()\n",
    "\n",
    "plt.show()"
   ]
  },
  {
   "cell_type": "markdown",
   "metadata": {},
   "source": [
    "The column on the left is the original image, with the codes superimposed. \n",
    "\n",
    "The one on the right is generated from the `legend` dictionary. "
   ]
  },
  {
   "cell_type": "code",
   "execution_count": 65,
   "metadata": {
    "collapsed": false
   },
   "outputs": [
    {
     "data": {
      "text/plain": [
       "{'363434': {'code': 17,\n",
       "  'colour': None,\n",
       "  'grainsize': None,\n",
       "  'lithology': 'Coal',\n",
       "  'map colour': '363434',\n",
       "  'summary': 'Coal'},\n",
       " '664A4A': {'code': 12,\n",
       "  'colour': 'Red',\n",
       "  'grainsize': None,\n",
       "  'lithology': 'Mudstone',\n",
       "  'map colour': '664A4A',\n",
       "  'summary': 'Mudstone, Red'},\n",
       " '666666': {'code': 11,\n",
       "  'colour': 'Grey',\n",
       "  'grainsize': None,\n",
       "  'lithology': 'Mudstone',\n",
       "  'map colour': '666666',\n",
       "  'summary': 'Mudstone, Grey'},\n",
       " '86F0B6': {'code': 1,\n",
       "  'colour': None,\n",
       "  'grainsize': None,\n",
       "  'lithology': 'Conglomerate',\n",
       "  'map colour': '86F0B6',\n",
       "  'summary': 'Conglomerate'},\n",
       " 'A1655A': {'code': 8,\n",
       "  'colour': 'Red',\n",
       "  'grainsize': None,\n",
       "  'lithology': 'Siltstone',\n",
       "  'map colour': 'A1655A',\n",
       "  'summary': 'Siltstone, Red'},\n",
       " 'A657FA': {'code': 14,\n",
       "  'colour': None,\n",
       "  'grainsize': None,\n",
       "  'lithology': 'Dolomite',\n",
       "  'map colour': 'A657FA',\n",
       "  'summary': 'Dolomite'},\n",
       " 'A68374': {'code': 7,\n",
       "  'colour': 'Grey',\n",
       "  'grainsize': None,\n",
       "  'lithology': 'Siltstone',\n",
       "  'map colour': 'A68374',\n",
       "  'summary': 'Siltstone, Grey'},\n",
       " 'A6D1FF': {'code': 13,\n",
       "  'colour': None,\n",
       "  'grainsize': None,\n",
       "  'lithology': 'Limestone',\n",
       "  'map colour': 'A6D1FF',\n",
       "  'summary': 'Limestone'},\n",
       " 'DBC9BC': {'code': 10,\n",
       "  'colour': 'Red',\n",
       "  'grainsize': None,\n",
       "  'lithology': 'Heterolithic',\n",
       "  'map colour': 'DBC9BC',\n",
       "  'summary': 'Heterolithic, Red'},\n",
       " 'DBD6BC': {'code': 9,\n",
       "  'colour': 'Grey',\n",
       "  'grainsize': None,\n",
       "  'lithology': 'Heterolithic',\n",
       "  'map colour': 'DBD6BC',\n",
       "  'summary': 'Heterolithic, Grey'},\n",
       " 'F2FF42': {'code': 4,\n",
       "  'colour': 'Grey',\n",
       "  'grainsize': 'F-M',\n",
       "  'lithology': 'Sandstone',\n",
       "  'map colour': 'F2FF42',\n",
       "  'summary': 'Sandstone, F-M, Grey'},\n",
       " 'F7E9A6': {'code': 5,\n",
       "  'colour': 'Grey',\n",
       "  'grainsize': 'VF-F',\n",
       "  'lithology': 'Sandstone',\n",
       "  'map colour': 'F7E9A6',\n",
       "  'summary': 'Sandstone, VF-F, Grey'},\n",
       " 'FF4C4A': {'code': 18,\n",
       "  'colour': None,\n",
       "  'grainsize': None,\n",
       "  'lithology': 'Volcanic',\n",
       "  'map colour': 'FF4C4A',\n",
       "  'summary': 'Volcanic'},\n",
       " 'FF96F6': {'code': 16,\n",
       "  'colour': None,\n",
       "  'grainsize': None,\n",
       "  'lithology': 'Halite',\n",
       "  'map colour': 'FF96F6',\n",
       "  'summary': 'Halite'},\n",
       " 'FF99CC': {'code': 15,\n",
       "  'colour': None,\n",
       "  'grainsize': None,\n",
       "  'lithology': 'Anhydrite',\n",
       "  'map colour': 'FF99CC',\n",
       "  'summary': 'Anhydrite'},\n",
       " 'FFD073': {'code': 3,\n",
       "  'colour': 'Red',\n",
       "  'grainsize': 'C-M',\n",
       "  'lithology': 'Sandstone',\n",
       "  'map colour': 'FFD073',\n",
       "  'summary': 'Sandstone, C-M, Red'},\n",
       " 'FFDBBA': {'code': 6,\n",
       "  'colour': 'Red',\n",
       "  'grainsize': 'VF-F',\n",
       "  'lithology': 'Sandstone',\n",
       "  'map colour': 'FFDBBA',\n",
       "  'summary': 'Sandstone, VF-F, Red'},\n",
       " 'FFE040': {'code': 2,\n",
       "  'colour': 'Grey',\n",
       "  'grainsize': 'C-M',\n",
       "  'lithology': 'Sandstone',\n",
       "  'map colour': 'FFE040',\n",
       "  'summary': 'Sandstone, C-M, Grey'},\n",
       " 'FFFFFF': {'code': 19,\n",
       "  'colour': None,\n",
       "  'grainsize': None,\n",
       "  'lithology': 'NULL',\n",
       "  'map colour': 'FFFFFF',\n",
       "  'summary': 'NULL'}}"
      ]
     },
     "execution_count": 65,
     "metadata": {},
     "output_type": "execute_result"
    }
   ],
   "source": [
    "legend"
   ]
  },
  {
   "cell_type": "code",
   "execution_count": null,
   "metadata": {
    "collapsed": false
   },
   "outputs": [],
   "source": []
  }
 ],
 "metadata": {
  "kernelspec": {
   "display_name": "Python 3",
   "language": "python",
   "name": "python3"
  },
  "language_info": {
   "codemirror_mode": {
    "name": "ipython",
    "version": 3
   },
   "file_extension": ".py",
   "mimetype": "text/x-python",
   "name": "python",
   "nbconvert_exporter": "python",
   "pygments_lexer": "ipython3",
   "version": "3.5.1"
  }
 },
 "nbformat": 4,
 "nbformat_minor": 0
}
