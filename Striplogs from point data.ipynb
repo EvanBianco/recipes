{
 "cells": [
  {
   "cell_type": "markdown",
   "metadata": {},
   "source": [
    "# Striplogs from point data"
   ]
  },
  {
   "cell_type": "markdown",
   "metadata": {},
   "source": [
    "This notebooks looks at the main `striplog` object. For the basic objects it depends on, see [Basic objects](./Basic_objects.ipynb).\n",
    "\n",
    "First, import anything we might need."
   ]
  },
  {
   "cell_type": "code",
   "execution_count": 1,
   "metadata": {
    "collapsed": false
   },
   "outputs": [
    {
     "data": {
      "text/plain": [
       "'0.7.0'"
      ]
     },
     "execution_count": 1,
     "metadata": {},
     "output_type": "execute_result"
    }
   ],
   "source": [
    "import matplotlib.pyplot as plt\n",
    "%matplotlib inline\n",
    "\n",
    "import numpy as np\n",
    "\n",
    "import striplog\n",
    "striplog.__version__"
   ]
  },
  {
   "cell_type": "code",
   "execution_count": 2,
   "metadata": {
    "collapsed": false
   },
   "outputs": [],
   "source": [
    "from striplog import Legend, Lexicon, Interval, Component"
   ]
  },
  {
   "cell_type": "code",
   "execution_count": 3,
   "metadata": {
    "collapsed": false
   },
   "outputs": [],
   "source": [
    "legend = Legend.builtin('NSDOE')\n",
    "lexicon = Lexicon.default()"
   ]
  },
  {
   "cell_type": "markdown",
   "metadata": {},
   "source": [
    "<hr />\n",
    "## Making a `striplog`"
   ]
  },
  {
   "cell_type": "code",
   "execution_count": 4,
   "metadata": {
    "collapsed": false
   },
   "outputs": [],
   "source": [
    "from striplog import Striplog\n",
    "imgfile = \"data/images/M-MG-70_14.3_135.9.png\""
   ]
  },
  {
   "cell_type": "code",
   "execution_count": 5,
   "metadata": {
    "collapsed": false
   },
   "outputs": [
    {
     "data": {
      "text/plain": [
       "Striplog(26 Intervals, start=14.3, stop=135.9)"
      ]
     },
     "execution_count": 5,
     "metadata": {},
     "output_type": "execute_result"
    }
   ],
   "source": [
    "strip = Striplog.from_image(imgfile, 14.3, 135.9, legend=legend)\n",
    "strip"
   ]
  },
  {
   "cell_type": "code",
   "execution_count": 6,
   "metadata": {
    "collapsed": false
   },
   "outputs": [
    {
     "data": {
      "image/png": "[encoded data removed]",
      "text/plain": [
       "<matplotlib.figure.Figure at 0x105e01898>"
      ]
     },
     "metadata": {},
     "output_type": "display_data"
    }
   ],
   "source": [
    "strip.plot(legend, ladder=True, aspect=3)"
   ]
  },
  {
   "cell_type": "markdown",
   "metadata": {},
   "source": [
    "<hr />\n",
    "## Handling tops"
   ]
  },
  {
   "cell_type": "markdown",
   "metadata": {},
   "source": [
    "I recommend treating tops as intervals, not as point data. This is the default.\n",
    "\n",
    "Note the magic word `Comp` (or `Component`) to load as a component, rather than data — it's up to you what you prefer.\n",
    "\n",
    "Note also that these are out of order; they will be sorted. "
   ]
  },
  {
   "cell_type": "code",
   "execution_count": 7,
   "metadata": {
    "collapsed": false
   },
   "outputs": [],
   "source": [
    "tops_csv = \"\"\"top, Comp formation\n",
    "100, Escanilla Fm.\n",
    "350, San Vicente Fm.\n",
    "200, Sobrarbe Fm. \n",
    "500, Cretaceous\n",
    "\"\"\""
   ]
  },
  {
   "cell_type": "code",
   "execution_count": 8,
   "metadata": {
    "collapsed": false
   },
   "outputs": [],
   "source": [
    "tops = Striplog.from_csv(text=tops_csv)"
   ]
  },
  {
   "cell_type": "code",
   "execution_count": 9,
   "metadata": {
    "collapsed": false
   },
   "outputs": [
    {
     "data": {
      "image/png": "[encoded data removed]",
      "text/plain": [
       "<matplotlib.figure.Figure at 0x10102df28>"
      ]
     },
     "metadata": {},
     "output_type": "display_data"
    }
   ],
   "source": [
    "tops.plot(aspect=3)"
   ]
  },
  {
   "cell_type": "code",
   "execution_count": 10,
   "metadata": {
    "collapsed": false
   },
   "outputs": [
    {
     "data": {
      "text/plain": [
       "'depth'"
      ]
     },
     "execution_count": 10,
     "metadata": {},
     "output_type": "execute_result"
    }
   ],
   "source": [
    "tops.order"
   ]
  },
  {
   "cell_type": "markdown",
   "metadata": {},
   "source": [
    "<hr />\n",
    "## Handling point data"
   ]
  },
  {
   "cell_type": "markdown",
   "metadata": {},
   "source": [
    "Some things really are point data. Sort of like a log, but irregular, more discrete. Here are some lab measurements... "
   ]
  },
  {
   "cell_type": "code",
   "execution_count": 11,
   "metadata": {
    "collapsed": false
   },
   "outputs": [],
   "source": [
    "data_csv = \"\"\"top, density, porosity, remarks, comp lithology, comp colour\n",
    "30, 2300, 6.4,, sand,green\n",
    "40, 2375, 7.3,, shale, grey\n",
    "60, 2400, 8.2, broken sample,,\n",
    "70, 2425, 9.2,, sand, \n",
    "80, 2575, 4.3,, shale,\n",
    "90, 2600, 2.2,, sand, red\n",
    "93, 2230, 2.1,, sand, \n",
    "\"\"\""
   ]
  },
  {
   "cell_type": "code",
   "execution_count": 12,
   "metadata": {
    "collapsed": false
   },
   "outputs": [],
   "source": [
    "point_data = Striplog.from_csv(text=data_csv, points=True)"
   ]
  },
  {
   "cell_type": "code",
   "execution_count": 13,
   "metadata": {
    "collapsed": false
   },
   "outputs": [
    {
     "data": {
      "text/html": [
       "<table><tr><td style=\"width:2em; background-color:#DDDDDD\" rowspan=\"6\"></td><td><strong>top</strong></td><td>40.0</td></tr><tr><td><strong>primary</strong></td><td><table><tr><td><strong>colour</strong></td><td>grey</td></tr><tr><td><strong>lithology</strong></td><td>shale</td></tr></table></td></tr><tr><td><strong>summary</strong></td><td>0.00 m of grey, shale</td></tr><tr><td><strong>description</strong></td><td></td></tr><tr><td><strong>data</strong></td><td><table><tr><td><strong>remarks</strong></td><td></td></tr><tr><td><strong>density</strong></td><td>2375.0</td></tr><tr><td><strong>porosity</strong></td><td>7.3</td></tr></table></td></tr><tr><td><strong>base</strong></td><td>40.0</td></tr></table>"
      ],
      "text/plain": [
       "Interval({'top': Position({'units': 'm', 'middle': 40.0}), 'data': {'remarks': '', 'density': 2375.0, 'porosity': 7.3}, 'components': [Component({'colour': 'grey', 'lithology': 'shale'})], 'description': '', 'base': Position({'units': 'm', 'middle': 40.0})})"
      ]
     },
     "execution_count": 13,
     "metadata": {},
     "output_type": "execute_result"
    }
   ],
   "source": [
    "point_data[1]"
   ]
  },
  {
   "cell_type": "code",
   "execution_count": 14,
   "metadata": {
    "collapsed": false
   },
   "outputs": [
    {
     "data": {
      "image/png": "[encoded data removed]",
      "text/plain": [
       "<matplotlib.figure.Figure at 0x11417d4e0>"
      ]
     },
     "metadata": {},
     "output_type": "display_data"
    }
   ],
   "source": [
    "fig, (ax0, ax1) = plt.subplots(1, 2, sharey=True)\n",
    "ax0 = strip.plot(ax=ax0)\n",
    "ax1 = point_data.plot(field='porosity', ax=ax1)\n",
    "\n",
    "ax0.set_title('Striplog')\n",
    "ax1.set_title('Point data')\n",
    "\n",
    "plt.show()"
   ]
  },
  {
   "cell_type": "code",
   "execution_count": 15,
   "metadata": {
    "collapsed": false
   },
   "outputs": [],
   "source": [
    "s = strip.union(point_data)"
   ]
  },
  {
   "cell_type": "code",
   "execution_count": 16,
   "metadata": {
    "collapsed": false
   },
   "outputs": [
    {
     "data": {
      "text/html": [
       "<table><tr><td style=\"width:2em; background-color:#DDDDDD\" rowspan=\"6\"></td><td><strong>top</strong></td><td>14.3</td></tr><tr><td><strong>primary</strong></td><td><table><tr><td><strong>grainsize</strong></td><td></td></tr><tr><td><strong>lithology</strong></td><td>anhydrite</td></tr><tr><td><strong>colour</strong></td><td></td></tr></table></td></tr><tr><td><strong>summary</strong></td><td>36.94 m of anhydrite with green, sand with grey, shale</td></tr><tr><td><strong>description</strong></td><td>100.0% 100.0% 36.94 m of anhydrite with 0.0% 0.00 m of green, sand with 0.0% 0.00 m of grey, shale</td></tr><tr><td><strong>data</strong></td><td><table><tr><td><strong>remarks</strong></td><td>['', '']</td></tr><tr><td><strong>density</strong></td><td>[2300.0, 2375.0]</td></tr><tr><td><strong>porosity</strong></td><td>[6.4, 7.3]</td></tr></table></td></tr><tr><td><strong>base</strong></td><td>51.24117647058824</td></tr></table>"
      ],
      "text/plain": [
       "Interval({'top': Position({'units': 'm', 'middle': 14.3}), 'data': {'remarks': ['', ''], 'density': [2300.0, 2375.0], 'porosity': [6.4, 7.3]}, 'components': [Component({'grainsize': '', 'lithology': 'anhydrite', 'colour': ''}), Component({'colour': 'green', 'lithology': 'sand'}), Component({'colour': 'grey', 'lithology': 'shale'})], 'description': '100.0% 100.0% 36.94 m of anhydrite with 0.0% 0.00 m of green, sand with 0.0% 0.00 m of grey, shale', 'base': Position({'units': 'm', 'middle': 51.24117647058824})})"
      ]
     },
     "execution_count": 16,
     "metadata": {},
     "output_type": "execute_result"
    }
   ],
   "source": [
    "s[0]"
   ]
  },
  {
   "cell_type": "markdown",
   "metadata": {},
   "source": [
    "## A more complicated example"
   ]
  },
  {
   "cell_type": "code",
   "execution_count": 19,
   "metadata": {
    "collapsed": false
   },
   "outputs": [],
   "source": [
    "fname = \"data/xrf/XRF_sample.csv\"\n",
    "\n",
    "remap = {'rocktype': 'Comp Lithology'}\n",
    "ignore = ['date', 'project', 'index', 'name', 'sname', 'station']\n",
    "\n",
    "xrf = Striplog.from_csv(fname, remap=remap, ignore=ignore, null='ND')"
   ]
  },
  {
   "cell_type": "code",
   "execution_count": 20,
   "metadata": {
    "collapsed": false
   },
   "outputs": [
    {
     "data": {
      "text/html": [
       "<table><tr><td style=\"width:2em; background-color:#DDDDDD\" rowspan=\"6\"></td><td><strong>top</strong></td><td>50.0</td></tr><tr><td><strong>primary</strong></td><td><table><tr><td><strong>Lithology</strong></td><td>sandstone</td></tr></table></td></tr><tr><td><strong>summary</strong></td><td>10.00 m of sandstone</td></tr><tr><td><strong>description</strong></td><td></td></tr><tr><td><strong>data</strong></td><td><table><tr><td><strong>Sn</strong></td><td>19.0</td></tr><tr><td><strong>Y</strong></td><td>31.0</td></tr><tr><td><strong>La</strong></td><td>113.0</td></tr><tr><td><strong>Sm</strong></td><td>18.0</td></tr><tr><td><strong>Mo</strong></td><td>1.0</td></tr><tr><td><strong>Fe</strong></td><td>47737.0</td></tr><tr><td><strong>Co</strong></td><td>19.0</td></tr><tr><td><strong>Mn</strong></td><td>678.0</td></tr><tr><td><strong>P</strong></td><td>2730.0</td></tr><tr><td><strong>S</strong></td><td>789.0</td></tr><tr><td><strong>Cl</strong></td><td>1564.0</td></tr><tr><td><strong>Zr</strong></td><td>167.0</td></tr><tr><td><strong>Zn</strong></td><td>62.0</td></tr><tr><td><strong>Th</strong></td><td>49.0</td></tr><tr><td><strong>Nb</strong></td><td>17.0</td></tr><tr><td><strong>Cd</strong></td><td>4.0</td></tr><tr><td><strong>Rb</strong></td><td>49.0</td></tr><tr><td><strong>Ti</strong></td><td>6873.0</td></tr><tr><td><strong>Bi</strong></td><td>5.0</td></tr><tr><td><strong>Sr</strong></td><td>47.0</td></tr><tr><td><strong>K</strong></td><td>10797.0</td></tr><tr><td><strong>Ag</strong></td><td>1.0</td></tr><tr><td><strong>Cu</strong></td><td>24.0</td></tr><tr><td><strong>Cr</strong></td><td>59.0</td></tr><tr><td><strong>Ca</strong></td><td>4854.0</td></tr><tr><td><strong>Ba</strong></td><td>186.0</td></tr><tr><td><strong>Hg</strong></td><td>5.0</td></tr><tr><td><strong>V</strong></td><td>104.0</td></tr><tr><td><strong>Sb</strong></td><td>1.0</td></tr><tr><td><strong>U</strong></td><td>3.0</td></tr><tr><td><strong>As</strong></td><td>11.0</td></tr><tr><td><strong>Ce</strong></td><td>130.0</td></tr></table></td></tr><tr><td><strong>base</strong></td><td>60.0</td></tr></table>"
      ],
      "text/plain": [
       "Interval({'top': Position({'units': 'm', 'middle': 50.0}), 'data': {'Sn': 19.0, 'Y': 31.0, 'La': 113.0, 'Sm': 18.0, 'Mo': 1.0, 'Fe': 47737.0, 'Co': 19.0, 'Mn': 678.0, 'P': 2730.0, 'S': 789.0, 'Cl': 1564.0, 'Zr': 167.0, 'Zn': 62.0, 'Th': 49.0, 'Nb': 17.0, 'Cd': 4.0, 'Rb': 49.0, 'Ti': 6873.0, 'Bi': 5.0, 'Sr': 47.0, 'K': 10797.0, 'Ag': 1.0, 'Cu': 24.0, 'Cr': 59.0, 'Ca': 4854.0, 'Ba': 186.0, 'Hg': 5.0, 'V': 104.0, 'Sb': 1.0, 'U': 3.0, 'As': 11.0, 'Ce': 130.0}, 'components': [Component({'Lithology': 'sandstone'})], 'description': '', 'base': Position({'units': 'm', 'middle': 60.0})})"
      ]
     },
     "execution_count": 20,
     "metadata": {},
     "output_type": "execute_result"
    }
   ],
   "source": [
    "xrf[4]"
   ]
  },
  {
   "cell_type": "markdown",
   "metadata": {
    "collapsed": true
   },
   "source": [
    "## Another more complicated one"
   ]
  },
  {
   "cell_type": "code",
   "execution_count": 22,
   "metadata": {
    "collapsed": false
   },
   "outputs": [],
   "source": [
    "fname = 'data/tops/Helen_top.csv'\n",
    "\n",
    "# What to include: only rows with Well = P-108\n",
    "include= {'Well identifier': lambda x: x=='P-108'}\n",
    "\n",
    "# Rename the Surface field as Name.\n",
    "remap = {'Surface': 'Name'}\n",
    "\n",
    "# What to exclude: any rows with Name = TD\n",
    "exclude = {'Name': lambda x: x=='TD'}\n",
    "\n",
    "# What to transform before using: make Z positive and correct a spelling error.\n",
    "function = {'Z': lambda x: -x,\n",
    "            'Name': lambda x: x.replace('Maguma', 'Meguma')}\n",
    "\n",
    "# Which fields to leave out of the result, apart from those that are Null.\n",
    "ignore = ['Edited by user', 'Locked to fault', 'Used by dep.conv.', 'Well', 'Symbol']\n",
    "\n",
    "# Do the thing!\n",
    "s = Striplog.from_csv(fname,\n",
    "                      include=include,\n",
    "                      exclude=exclude,\n",
    "                      remap=remap,\n",
    "                      ignore=ignore,\n",
    "                      function=function,\n",
    "                      points=False,\n",
    "                      null=-999.0\n",
    "                      )"
   ]
  },
  {
   "cell_type": "code",
   "execution_count": 23,
   "metadata": {
    "collapsed": false
   },
   "outputs": [
    {
     "data": {
      "text/plain": [
       "Striplog(4 Intervals, start=465.0, stop=1175.0)"
      ]
     },
     "execution_count": 23,
     "metadata": {},
     "output_type": "execute_result"
    }
   ],
   "source": [
    "s"
   ]
  },
  {
   "cell_type": "markdown",
   "metadata": {
    "collapsed": true
   },
   "source": [
    "## The same thing from Petrel's own format"
   ]
  },
  {
   "cell_type": "code",
   "execution_count": 25,
   "metadata": {
    "collapsed": false
   },
   "outputs": [],
   "source": [
    "fname = 'data/tops/Helen_top.txt'\n",
    "\n",
    "# What to include: only rows with Well = P-108\n",
    "include= {'Well': lambda x: x=='P-108'}\n",
    "\n",
    "# Rename the Surface field as Name.\n",
    "remap = {'Surface': 'Name'}\n",
    "\n",
    "# What to exclude: any rows with Name = TD\n",
    "exclude = {'Name': lambda x: x=='TD'}\n",
    "\n",
    "# What to transform before using: make Z positive and correct a spelling error.\n",
    "function = {'Z': lambda x: -x,\n",
    "            'Name': lambda x: x.replace('Maguma', 'Meguma')}\n",
    "\n",
    "# Which fields to leave out of the result, apart from those that are Null.\n",
    "ignore = ['Edited by user', 'Locked to fault', 'Used by dep.conv.', 'Well', 'Symbol']\n",
    "\n",
    "# Do the thing!\n",
    "s = Striplog.from_petrel(fname,\n",
    "                         include=include,\n",
    "                         exclude=exclude,\n",
    "                         remap=remap,\n",
    "                         ignore=ignore,\n",
    "                         function=function,\n",
    "                         points=False,\n",
    "                         null=-999.0\n",
    "                         )"
   ]
  },
  {
   "cell_type": "code",
   "execution_count": 26,
   "metadata": {
    "collapsed": false
   },
   "outputs": [
    {
     "data": {
      "text/plain": [
       "Striplog(4 Intervals, start=465.0, stop=1175.0)"
      ]
     },
     "execution_count": 26,
     "metadata": {},
     "output_type": "execute_result"
    }
   ],
   "source": [
    "s"
   ]
  },
  {
   "cell_type": "code",
   "execution_count": 27,
   "metadata": {
    "collapsed": false
   },
   "outputs": [
    {
     "data": {
      "text/html": [
       "<table><tr><td style=\"width:2em; background-color:#DDDDDD\" rowspan=\"6\"></td><td><strong>top</strong></td><td>1055.0</td></tr><tr><td><strong>primary</strong></td><td>None</td></tr><tr><td><strong>summary</strong></td><td>None</td></tr><tr><td><strong>description</strong></td><td></td></tr><tr><td><strong>data</strong></td><td><table><tr><td><strong>Type</strong></td><td>Other</td></tr><tr><td><strong>Used by geo mod</strong></td><td>True</td></tr><tr><td><strong>Y</strong></td><td>5004321.0</td></tr><tr><td><strong>Interpreter</strong></td><td>cenx</td></tr><tr><td><strong>Z</strong></td><td>1001.35</td></tr><tr><td><strong>X</strong></td><td>478677.0</td></tr><tr><td><strong>Name</strong></td><td>Meguma</td></tr></table></td></tr><tr><td><strong>base</strong></td><td>1175.0</td></tr></table>"
      ],
      "text/plain": [
       "Interval({'top': Position({'units': 'm', 'middle': 1055.0}), 'data': {'Type': 'Other', 'Used by geo mod': True, 'Y': 5004321.0, 'Interpreter': 'cenx', 'Z': 1001.35, 'X': 478677.0, 'Name': 'Meguma'}, 'components': [], 'description': '', 'base': Position({'units': 'm', 'middle': 1175.0})})"
      ]
     },
     "execution_count": 27,
     "metadata": {},
     "output_type": "execute_result"
    }
   ],
   "source": [
    "s[3]"
   ]
  },
  {
   "cell_type": "code",
   "execution_count": null,
   "metadata": {
    "collapsed": true
   },
   "outputs": [],
   "source": []
  }
 ],
 "metadata": {
  "kernelspec": {
   "display_name": "Python 3",
   "language": "python",
   "name": "python3"
  },
  "language_info": {
   "codemirror_mode": {
    "name": "ipython",
    "version": 3
   },
   "file_extension": ".py",
   "mimetype": "text/x-python",
   "name": "python",
   "nbconvert_exporter": "python",
   "pygments_lexer": "ipython3",
   "version": "3.5.1"
  }
 },
 "nbformat": 4,
 "nbformat_minor": 0
}
