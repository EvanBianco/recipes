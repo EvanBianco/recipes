{
 "cells": [
  {
   "cell_type": "markdown",
   "metadata": {},
   "source": [
    "## Read Petrel tops"
   ]
  },
  {
   "cell_type": "code",
   "execution_count": 1,
   "metadata": {
    "collapsed": true
   },
   "outputs": [],
   "source": [
    "import striplog\n",
    "from striplog import Striplog"
   ]
  },
  {
   "cell_type": "markdown",
   "metadata": {
    "collapsed": false
   },
   "source": [
    "    # Petrel well tops\n",
    "    # Unit in X and Y direction: m\n",
    "    # Unit in depth: m\n",
    "    VERSION 2\n",
    "    BEGIN HEADER\n",
    "    X\n",
    "    Y\n",
    "    Z\n",
    "    TWT picked\n",
    "    TWT auto\n",
    "    Geological age\n",
    "    MD\n",
    "    Type\n",
    "    Surface\n",
    "    Well\n",
    "    Interpreter\n",
    "    Confidence factor\n",
    "    Dip angle\n",
    "    Dip azimuth\n",
    "    Missing\n",
    "    TVT\n",
    "    TST\n",
    "    TVT zone\n",
    "    TST zone\n",
    "    Observation number\n",
    "    Used by dep.conv.\n",
    "    Used by geo mod\n",
    "    Zone log\n",
    "    Edited by user\n",
    "    Symbol\n",
    "    Locked to fault\n",
    "    END HEADER\n",
    "    479707.00 5003506.00 -426.00 -999   -999   -999   455.00 Other \"TD\" \"P-100\" \"cenx\" -999   -999  \n",
    "    478677.00 5004321.00 -1228.35 -999   -999   -999   1282.00 Other \"TD\" \"P-108\" \"cenx\" -999   -999 \n",
    "    478677.00 5004321.00 -1229.35 -999   -999   -999   1283.00 Other \"TD\" \"P-108\" \"cenx\" -999   -999 \n",
    "    478677.00 5004321.00 -411.35 -999   -999   -999   465.00 Other \"Lower Windsor\" \"P-108\" \"cenx\" -999   -999 \n",
    "    478677.00 5004321.00 -954.65 -999   -999   -999   1008.30 Other \"Horton\" \"P-108\" \"cenx\" -999   -999  \n",
    "    478677.00 5004321.00 -1001.35 -999   -999   -999   1055.00 Other \"Maguma\" \"P-108\" \"cenx\" -999   -999 \n",
    "    478677.00 5004321.00 -942.35 -999   -999   -999   996.00 Other \"Macumber\" \"P-108\" \"cenx\" -999   -999 \n",
    "    411847.00 4985267.00 -267.50 -999   -999   -999   298.00 Other \"TD\" \"P-109\" \"cenx\" -999   -999\n",
    "    .\n",
    "    .\n",
    "    .\n",
    "    etc."
   ]
  },
  {
   "cell_type": "code",
   "execution_count": 3,
   "metadata": {
    "collapsed": false
   },
   "outputs": [],
   "source": [
    "fname = 'data/tops/Helen_top.txt'\n",
    "\n",
    "# What to include: only rows with Well = P-108\n",
    "include= {'Well': lambda x: x=='P-108'}\n",
    "\n",
    "# What to exclude: any rows with Name = TD\n",
    "exclude = {'Name': lambda x: x=='TD'}\n",
    "\n",
    "# Rename the Surface field as Name.\n",
    "remap = {'Surface': 'Name'}\n",
    "\n",
    "# What to transform before using: make Z positive and correct a spelling error.\n",
    "function = {'Z': lambda x: -x,\n",
    "            'Name': lambda x: x.replace('Maguma', 'Meguma')}\n",
    "\n",
    "# Which fields to leave out of the result, apart from those that are Null.\n",
    "ignore = ['Locked to fault', 'Used by dep.conv.', 'Well']\n",
    "\n",
    "# Do the thing!\n",
    "s = Striplog.from_petrel(fname,\n",
    "                         include=include,\n",
    "                         exclude=exclude,\n",
    "                         remap=remap,\n",
    "                         ignore=ignore,\n",
    "                         function=function,\n",
    "                         points=True,\n",
    "                         null=-999.0\n",
    "                         )"
   ]
  },
  {
   "cell_type": "code",
   "execution_count": 4,
   "metadata": {
    "collapsed": false
   },
   "outputs": [
    {
     "data": {
      "text/html": [
       "<table><tr><td style=\"width:2em; background-color:#DDDDDD\" rowspan=\"6\"></td><td><strong>top</strong></td><td>1055.0</td></tr><tr><td><strong>primary</strong></td><td>None</td></tr><tr><td><strong>summary</strong></td><td>None</td></tr><tr><td><strong>description</strong></td><td></td></tr><tr><td><strong>data</strong></td><td><table><tr><td><strong>Symbol</strong></td><td>0.0</td></tr><tr><td><strong>Name</strong></td><td>Meguma</td></tr><tr><td><strong>Type</strong></td><td>Other</td></tr><tr><td><strong>Y</strong></td><td>5004321.0</td></tr><tr><td><strong>Used by geo mod</strong></td><td>True</td></tr><tr><td><strong>Interpreter</strong></td><td>cenx</td></tr><tr><td><strong>X</strong></td><td>478677.0</td></tr><tr><td><strong>Edited by user</strong></td><td>False</td></tr><tr><td><strong>Z</strong></td><td>1001.35</td></tr></table></td></tr><tr><td><strong>base</strong></td><td>1055.0</td></tr></table>"
      ],
      "text/plain": [
       "Interval({'components': [], 'base': Position({'units': 'm', 'middle': 1055.0}), 'description': '', 'data': {'Symbol': 0.0, 'Name': 'Meguma', 'Type': 'Other', 'Y': 5004321.0, 'Used by geo mod': True, 'Interpreter': 'cenx', 'X': 478677.0, 'Edited by user': False, 'Z': 1001.35}, 'top': Position({'units': 'm', 'middle': 1055.0})})"
      ]
     },
     "execution_count": 4,
     "metadata": {},
     "output_type": "execute_result"
    }
   ],
   "source": [
    "s[3]"
   ]
  },
  {
   "cell_type": "code",
   "execution_count": 6,
   "metadata": {
    "collapsed": false
   },
   "outputs": [
    {
     "data": {
      "text/html": [
       "<table><tr><td><strong>Zone log</strong></td><td>-999.0</td></tr><tr><td><strong>TST zone</strong></td><td>-999.0</td></tr><tr><td><strong>Dip azimuth</strong></td><td>-999.0</td></tr><tr><td><strong>Dip angle</strong></td><td>-999.0</td></tr><tr><td><strong>MD</strong></td><td>1282.0, 1283.0, 390.0, 2950.0, 1421.9, 909.0, 399.52, 782.0, 655.0, 1938.46, 784.0, 149.5, 790.46, 22.17, 1175.0, 25.0, 407.16, 926.32, 1055.0, 930.98, 678.07, 806.04, 1449.1, 298.0, 300.0, 1329.0, 946.52, 1459.96, 821.35, 1464.0, 698.33, 2618.0, 443.48, 1726.0, 832.3, 1345.05, 455.0, 199.3, 327.5, 845.22, 974.78, 717.0, 208.5, 465.0, 210.0, 1358.0, 341.5, 727.75, 471.61, 1495.74, 346.74, 247.38, 345.0, 477.02, 732.6, 1504.67, 996.0, 249.86, 870.0, 489.19, 748.0, 749.0, 237.83, 495.44, 1008.3, 749.43, 1906.35, 883.0, 755.0, 1389.67, 887.07, 632.8, 633.26, 126.5, 893.0, 638.5, 895.0</td></tr><tr><td><strong>Y</strong></td><td>4992648.0, 5006863.9, 5006608.6, 5006609.76, 5006482.12, 5006482.87, 5006483.97, 5006866.71, 5015963.0, 5004321.0, 5004325.0, 5006502.39, 5005488.0, 5003441.0, 4985267.0, 5013431.0, 5000252.0, 5013820.03, 5006528.97, 4986817.0, 5003586.0, 4987591.0, 5006537.2, 5005132.0, 5013837.62, 4988497.0, 5006548.15, 5013846.72, 5016153.4, 5013850.98, 5006809.58, 5006813.0, 5003105.0, 5013859.93, 4988516.56, 5006819.06, 4988522.28, 4988522.09, 4988526.25, 4988528.28, 4988528.37, 5003506.0, 4985585.0</td></tr><tr><td><strong>Well</strong></td><td>P-132, P-109, P-110, P-131, P-120, P-127, P-137, P-129, P-113, P-126, P-117, P-112, P-121, P-114, P-133, P-119, P-99, P-87, P-108, P-111, P-130, P-136, P-128, P-100</td></tr><tr><td><strong>Edited by user</strong></td><td>False</td></tr><tr><td><strong>Surface</strong></td><td>Horton, Horton Bluff FM, Macumber, TD, Maguma, Lower Windsor, Fault</td></tr><tr><td><strong>Z</strong></td><td>-639.07, -249.0, -119.0, -1271.17, -756.46, -1267.1, -369.85, -880.98, -1393.95, -2542.83, -748.0, -746.98, -1001.35, -361.0, -612.0, -1251.14, -1377.75, -351.26, -602.88, -728.1, -1108.99, -594.26, -850.33, -848.38, -591.39, -208.38, -1229.35, -1228.35, -716.0, 51.05, -585.7, -710.43, -710.28, -836.0, -2883.8, -832.52, -64.6, -190.8, -701.71, -316.92, -700.71, -954.65, -826.4, -441.77, -827.0, -955.77, -179.93, -1840.15, -942.35, -812.4, -171.3, -426.0, -169.8, -427.29, -295.0, -1318.4, -293.5, -676.7, -417.94, -160.6, -800.4, -798.3, -669.78, -411.35, -793.27, -664.45, -279.6, -406.87, -276.73, -1296.1, -1808.07, -269.5, -781.92, -267.5, -1420.87, -1675.0, 125.73, -1410.87, -1281.75</td></tr><tr><td><strong>TWT auto</strong></td><td>-764.43, -377.27, -882.19, -108.15, -999.0, 26.09, -869.34, 540.72, -479.2, -733.1, -1242.67, -727.24, 436.33, -460.7, 58.67, -580.25, -194.32, -572.17, -694.18, -683.18, -414.48, -409.97, -1299.08, 110.18, -397.82, -397.61</td></tr><tr><td><strong>Geological age</strong></td><td>-999.0</td></tr><tr><td><strong>Type</strong></td><td>Other</td></tr><tr><td><strong>TWT picked</strong></td><td>-999.0</td></tr><tr><td><strong>TST</strong></td><td>-999.0</td></tr><tr><td><strong>TVT</strong></td><td>-999.0</td></tr><tr><td><strong>Used by geo mod</strong></td><td>True</td></tr><tr><td><strong>Missing</strong></td><td>-999.0</td></tr><tr><td><strong>Symbol</strong></td><td>0.0</td></tr><tr><td><strong>Interpreter</strong></td><td>cenx</td></tr><tr><td><strong>Used by dep.conv.</strong></td><td>True</td></tr><tr><td><strong>Confidence factor</strong></td><td>-999.0</td></tr><tr><td><strong>TVT zone</strong></td><td>-999.0</td></tr><tr><td><strong>X</strong></td><td>479105.0, 486531.0, 459530.0, 443026.41, 443029.62, 437911.0, 443034.94, 417948.0, 443038.0, 411428.0, 444714.0, 440571.6, 440571.79, 440572.84, 444994.0, 463044.0, 411847.0, 463819.0, 414929.0, 463060.0, 478677.0, 479707.0, 463079.0, 422123.0, 443757.0, 496239.0, 481271.0, 443001.0, 440571.45, 440572.86, 453119.0</td></tr><tr><td><strong>Locked to fault</strong></td><td>0.0</td></tr><tr><td><strong>Observation number</strong></td><td>-999.0</td></tr></table>"
      ],
      "text/plain": [
       "<IPython.core.display.HTML object>"
      ]
     },
     "execution_count": 6,
     "metadata": {},
     "output_type": "execute_result"
    }
   ],
   "source": [
    "striplog.utils.inspect_petrel('data/tops/Helen_top.txt')"
   ]
  },
  {
   "cell_type": "code",
   "execution_count": null,
   "metadata": {
    "collapsed": true
   },
   "outputs": [],
   "source": []
  }
 ],
 "metadata": {
  "kernelspec": {
   "display_name": "Python 3",
   "language": "python",
   "name": "python3"
  },
  "language_info": {
   "codemirror_mode": {
    "name": "ipython",
    "version": 3
   },
   "file_extension": ".py",
   "mimetype": "text/x-python",
   "name": "python",
   "nbconvert_exporter": "python",
   "pygments_lexer": "ipython3",
   "version": "3.5.1"
  }
 },
 "nbformat": 4,
 "nbformat_minor": 0
}
