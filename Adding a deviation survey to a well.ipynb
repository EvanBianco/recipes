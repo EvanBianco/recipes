{
 "cells": [
  {
   "cell_type": "markdown",
   "metadata": {},
   "source": [
    "# Adding a deviation survey to a well"
   ]
  },
  {
   "cell_type": "markdown",
   "metadata": {},
   "source": [
    "Use the `from_las()` method to load a well by passing a filename as a str. This is really just a wrapper for lasio but instantiates a Header, Curves, etc."
   ]
  },
  {
   "cell_type": "markdown",
   "metadata": {},
   "source": [
    "# Make a well"
   ]
  },
  {
   "cell_type": "code",
   "execution_count": 8,
   "metadata": {
    "collapsed": false
   },
   "outputs": [
    {
     "data": {
      "text/plain": [
       "'0.1.0'"
      ]
     },
     "execution_count": 8,
     "metadata": {},
     "output_type": "execute_result"
    }
   ],
   "source": [
    "import numpy as np\n",
    "import welly\n",
    "from welly import Well\n",
    "welly.__version__"
   ]
  },
  {
   "cell_type": "code",
   "execution_count": 4,
   "metadata": {
    "collapsed": true
   },
   "outputs": [],
   "source": [
    "lasfile = \"data/las/P-129_out.LAS\""
   ]
  },
  {
   "cell_type": "code",
   "execution_count": 5,
   "metadata": {
    "collapsed": false
   },
   "outputs": [
    {
     "data": {
      "text/html": [
       "<table><tr><th style=\"text-align:center;\" colspan=\"2\">Kennetcook #2<br><small>Long = 63* 45'24.460  W</small></th></tr><tr><td><strong>township</strong></td><td>63.75 Deg W</td></tr><tr><td><strong>country</strong></td><td>CA</td></tr><tr><td><strong>crs</strong></td><td>{}</td></tr><tr><td><strong>section</strong></td><td>45.20 Deg N</td></tr><tr><td><strong>tdd</strong></td><td>1935.0</td></tr><tr><td><strong>td</strong></td><td>1935.0</td></tr><tr><td><strong>tdl</strong></td><td>1935.0</td></tr><tr><td><strong>range</strong></td><td>PD 176</td></tr><tr><td><strong>kb</strong></td><td>94.8</td></tr><tr><td><strong>data</strong></td><td>['DPHI_SAN', 'DEPT', 'NPHI_SAN', 'HCAL', 'DPHI_DOL', 'RXOZ', 'CALI', 'NPHI_DOL', 'RM_HRLT', 'GR', 'RHOB', 'DTS', 'DT', 'RLA2', 'RLA4', 'RLA1', 'NPHI_LIM', 'DPHI_LIM', 'RLA5', 'PEF', 'DRHO', 'RXO_HRLT', 'SP', 'RLA3', 'RT_HRLT']</td></tr></table>"
      ],
      "text/plain": [
       "<welly.well.Well at 0x11045a8d0>"
      ]
     },
     "execution_count": 5,
     "metadata": {},
     "output_type": "execute_result"
    }
   ],
   "source": [
    "w = Well.from_las(lasfile)\n",
    "w"
   ]
  },
  {
   "cell_type": "code",
   "execution_count": 6,
   "metadata": {
    "collapsed": true
   },
   "outputs": [],
   "source": [
    "w.plot()"
   ]
  },
  {
   "cell_type": "code",
   "execution_count": 9,
   "metadata": {
    "collapsed": false
   },
   "outputs": [
    {
     "name": "stderr",
     "output_type": "stream",
     "text": [
      "/Users/Evan/anaconda/envs/welly/lib/python3.5/site-packages/welly/location.py:137: RuntimeWarning: divide by zero encountered in true_divide\n",
      "  rf = 2 / dogleg * np.tan(dogleg / 2)  # ratio factor\n",
      "/Users/Evan/anaconda/envs/welly/lib/python3.5/site-packages/welly/location.py:137: RuntimeWarning: invalid value encountered in multiply\n",
      "  rf = 2 / dogleg * np.tan(dogleg / 2)  # ratio factor\n"
     ]
    },
    {
     "data": {
      "text/plain": [
       "array(1885.0585562024148)"
      ]
     },
     "execution_count": 9,
     "metadata": {},
     "output_type": "execute_result"
    }
   ],
   "source": [
    "dev = np.loadtxt('data/deviation/P-129_deviation_survey.csv', delimiter=',', skiprows=9)\n",
    "dev\n",
    "w.location.add_deviation(dev[:, :3], td=1935)\n",
    "w.location.md2tvd(1900)"
   ]
  }
 ],
 "metadata": {
  "kernelspec": {
   "display_name": "Python 3",
   "language": "python",
   "name": "python3"
  },
  "language_info": {
   "codemirror_mode": {
    "name": "ipython",
    "version": 3
   },
   "file_extension": ".py",
   "mimetype": "text/x-python",
   "name": "python",
   "nbconvert_exporter": "python",
   "pygments_lexer": "ipython3",
   "version": "3.5.1"
  }
 },
 "nbformat": 4,
 "nbformat_minor": 0
}
